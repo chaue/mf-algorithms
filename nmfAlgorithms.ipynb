{
 "cells": [
  {
   "cell_type": "markdown",
   "metadata": {},
   "source": [
    "# Non-negative Matrix Factorization"
   ]
  },
  {
   "cell_type": "markdown",
   "metadata": {},
   "source": [
    "Non-negative matrix factorization (NMF) is a simple yet effective method to decompose a matrix into a product of two non-negative matrices(that is sparse matrices with all non-negative entries). This technique is most commonly used in recommender systems, and was made well known by the Netflix Prize. NMF aims to factor a data matrix $X$ into a product of two matrices:\n",
    "\n",
    "$$X \\approx AS $$\n",
    "\n",
    "where $X$ is a $n \\times m$ matrix, $A$ is a $n \\times k$ matrix, and $S$ is a $k \\times m$ matrix. $k$ is usually provided by the user, and symbolizes the number of distinct \"factors\" in the data. For example, if our data was the total productivity of a group of factories per hour for the past week, the number of factors $k$ would be the number of factories. Without prior knowledge the number of factors would be harder to pinpoint, and would have to be chosen using cross validation or something similar\n",
    "\n",
    "It's important to note that this problem does not have a unique solution, and we could end up with many different combinations of $A$ and $S$ that multiply to get a decent approximation of $X$. Even more, each pair of $A$ and $S$ can be scaled by any real number $\\alpha$ and $\\frac{1}{\\alpha}$ respectively to yield an infinite number of pairs. "
   ]
  },
  {
   "cell_type": "markdown",
   "metadata": {},
   "source": [
    "## Alternating Least Squares"
   ]
  },
  {
   "cell_type": "markdown",
   "metadata": {},
   "source": [
    "The natural question to ask now is how to determine $A$ and $S$ when given $X$ and $k$. One relatively simple method is to use alternating least squares, which is a generalization of the least squares method for simple linear regression. In simple linear regression, the goal is to solve the following equation for $x$:\n",
    "\n",
    "$$ Ax = b \\implies A^TAx = A^Tb \\implies x = (A)^{\\dagger}b\\$$\n",
    "\n",
    "This can be generalized for a product of matrices by picking a random $i^{th}$ column of $X$ and $S$, which we will denote $x_{:,i}$ and $s_{:,i}$, fixing $A$, and solving for $s_{:,i}$. Then by our previous equation $X \\approx AS$ we have \n",
    "\n",
    "$$ x_{:,i} \\approx As_{:,i}$$\n",
    "This yields the following update rule:\n",
    "\n",
    "$$ s_{:,i} := (A)^{\\dagger}x_{:,i}$$\n",
    "\n",
    "However, since we also want to solve for $A$ we need to sample a column of $A$ and fix $S$. To get the same linear form we do the following:\n",
    "\n",
    "$$x_{i,:} \\approx a_{i,:}S \\implies x_{i,:}^T \\approx S^Ta_{i,:}^T$$\n",
    "\n",
    "We switch to updating the rows of $A$ rather than the columns due to dimensionality, and get the following update rule:\n",
    "\n",
    "$$ a_{i,:}^T = (SS^T)^{-1}Sx_{i,:}^T $$\n",
    "\n",
    "We then repeat these updates until convergence or the number of iterations is fulfilled. "
   ]
  },
  {
   "cell_type": "code",
   "execution_count": 27,
   "metadata": {},
   "outputs": [],
   "source": [
    "import numpy as np\n",
    "import matplotlib.pyplot as plt\n",
    "\n",
    "np.set_printoptions(suppress=True)"
   ]
  },
  {
   "cell_type": "code",
   "execution_count": 4,
   "metadata": {},
   "outputs": [
    {
     "name": "stdout",
     "output_type": "stream",
     "text": [
      "[[ 0.   0.   0.   0.   0.   0.   0.   0.   0.   0. ]\n",
      " [ 0.   5.   0.   0.   5.   0.   0.   0.   5.   0. ]\n",
      " [ 9.  14.   0.   0.  14.   9.   9.   9.  14.   0. ]\n",
      " [ 5.  11.   0.   0.  11.   5.   5.   5.  11.   0. ]\n",
      " [ 3.   9.   0.   0.   9.   3.   3.   3.   9.   0. ]\n",
      " [ 2.  12.   0.   3.  12.   2.   2.   5.   9.   0. ]\n",
      " [ 1.   7.   0.   2.   7.   1.   1.   3.   5.   0. ]\n",
      " [ 0.   3.   0.   1.   3.   0.   0.   1.   2.   0. ]\n",
      " [ 0.   2.   0.   1.   2.   0.   0.   1.   1.   0. ]\n",
      " [ 0.   0.5  0.   0.   0.5  0.   0.   0.   0.5  0. ]\n",
      " [ 0.   0.   0.   0.   0.   0.   0.   0.   0.   0. ]\n",
      " [ 0.   0.   0.   0.   0.   0.   0.   0.   0.   0. ]]\n"
     ]
    }
   ],
   "source": [
    "np.random.seed(1)\n",
    "col1 = np.array([[0, 0, 9, 5, 3, 2, 1, 0, 0, 0, 0, 0]])\n",
    "col2 = np.array([[0, 0, 0, 0, 0, 3, 2, 1, 1, 0, 0, 0]])\n",
    "col3 = np.array([[0, 5, 5, 6, 6, 7, 4, 2, 1, 0.5, 0, 0]])\n",
    "\n",
    "factors = np.vstack((col1, col2, col3)).T\n",
    "weights = np.random.randint(0, 2, size=(3, 10))\n",
    "\n",
    "X = np.matmul(factors, weights)\n",
    "print(X)"
   ]
  },
  {
   "cell_type": "markdown",
   "metadata": {},
   "source": [
    "Initializing the factor matrices $A$ and $S$ is typically done by filling a matrix of the right dimensions with randomized entries. However, to check that the ALS algorithm works properly we can initialize $A$ and $S$ close to our original factor matrices. The final $A$ and $S$ should yield a very low error."
   ]
  },
  {
   "cell_type": "code",
   "execution_count": 28,
   "metadata": {},
   "outputs": [
    {
     "name": "stdout",
     "output_type": "stream",
     "text": [
      "[[ 0.   0.   0.   0.   0.   0.   0.   0.   0.   0. ]\n",
      " [ 0.   5.   0.   0.   5.   0.   0.   0.   5.   0. ]\n",
      " [ 9.  14.   0.   0.  14.   9.   9.   9.  14.   0. ]\n",
      " [ 5.  11.   0.   0.  11.   5.   5.   5.  11.   0. ]\n",
      " [ 3.   9.   0.   0.   9.   3.   3.   3.   9.   0. ]\n",
      " [ 2.  12.   0.   3.  12.   2.   2.   5.   9.   0. ]\n",
      " [ 1.   7.   0.   2.   7.   1.   1.   3.   5.   0. ]\n",
      " [ 0.   3.   0.   1.   3.   0.   0.   1.   2.   0. ]\n",
      " [ 0.   2.   0.   1.   2.   0.   0.   1.   1.   0. ]\n",
      " [ 0.   0.5  0.   0.   0.5  0.   0.   0.   0.5  0. ]\n",
      " [ 0.   0.   0.   0.   0.   0.   0.   0.   0.   0. ]\n",
      " [ 0.   0.   0.   0.   0.   0.   0.   0.   0.   0. ]]\n",
      "[[ 0.    0.    0.    0.    0.    0.    0.    0.    0.    0.  ]\n",
      " [-0.02  4.98  0.    0.02  5.01  0.01  0.02 -0.01  5.02  0.03]\n",
      " [ 8.99 13.98  0.    0.03 14.02  9.04  9.01  8.97 14.    0.07]\n",
      " [ 5.02 11.03  0.    0.08 11.07  5.07  5.06  5.07 11.02  0.05]\n",
      " [ 3.01  9.01  0.    0.07  9.05  3.05  3.05  3.06  9.01  0.05]\n",
      " [ 2.   11.99  0.    3.07 12.04  2.07  2.07  5.06  9.03  0.05]\n",
      " [ 1.    7.    0.    2.04  7.03  1.04  1.04  3.03  5.02  0.03]\n",
      " [ 0.    3.01  0.    1.02  3.02  0.02  0.03  1.02  2.02  0.01]\n",
      " [ 0.    2.01  0.    1.02  2.02  0.02  0.02  1.02  1.02  0.01]\n",
      " [ 0.    0.51  0.    0.01  0.51  0.    0.    0.    0.51  0.  ]\n",
      " [ 0.    0.01  0.    0.    0.01  0.    0.    0.01  0.01  0.  ]\n",
      " [ 0.01  0.02  0.    0.01  0.02  0.01  0.01  0.01  0.01  0.  ]]\n",
      "('Relative error: ', 0.00658619966907564)\n"
     ]
    }
   ],
   "source": [
    "np.random.seed(1)\n",
    "k = 3\n",
    "niter = 1000\n",
    "A = factors + 0.01*np.random.rand(12, 3)\n",
    "S = weights + 0.01*np.random.rand(3, 10)\n",
    "\n",
    "for i in np.arange(niter):\n",
    "    rowcol = np.random.randint(k)\n",
    "    S[:, rowcol] = np.matmul(np.linalg.pinv(A), X[:, rowcol])\n",
    "    A[rowcol, :] = np.matmul(X[rowcol, :], np.matmul(S.T, np.linalg.inv(np.matmul(S, S.T))))\n",
    "\n",
    "approx = np.matmul(A, S)\n",
    "print(X)\n",
    "print(np.round(approx, 2))\n",
    "print(\"Relative error: \", np.linalg.norm(X - approx) / np.linalg.norm(X))"
   ]
  },
  {
   "cell_type": "markdown",
   "metadata": {},
   "source": [
    "We can see that the entries of our approximation $AS$ are pretty close to our data matrix, and the relative error is fairly low. Now that the algorithm works we can finalize it in a function."
   ]
  },
  {
   "cell_type": "code",
   "execution_count": 34,
   "metadata": {},
   "outputs": [],
   "source": [
    "def nmfals(data, k, niter, reinit = 5):\n",
    "    # set to negative one so we can guarantee an update for the first init\n",
    "    finalerror = -1\n",
    "    \n",
    "    # need to compare final error to overall best and store the overall best\n",
    "    seqerror = np.empty(niter)\n",
    "    lowesterror = np.empty(1)\n",
    "    \n",
    "    # store overall best factor matrices\n",
    "    lbest = np.random.rand(data.shape[0], k)\n",
    "    rbest = np.random.rand(k, data.shape[1])\n",
    "    \n",
    "    for j in np.arange(reinit):\n",
    "        # randomly initialize the factor matrices\n",
    "        lfactor = np.random.rand(data.shape[0], k)\n",
    "        rfactor = np.random.rand(k, data.shape[1])\n",
    "\n",
    "        for i in np.arange(niter):\n",
    "            # sample random row or column\n",
    "            rowcol = np.random.randint(k)\n",
    "            # perform linear reg update \n",
    "            rfactor[:, rowcol] = np.matmul(np.linalg.pinv(lfactor), data[:, rowcol])\n",
    "            lfactor[rowcol, :] = np.matmul(data[rowcol, :], np.matmul(rfactor.T, np.linalg.inv(np.matmul(rfactor, rfactor.T))))\n",
    "            # calculate error after update\n",
    "            seqerror[i] = np.linalg.norm(data - np.matmul(lfactor, rfactor)) / np.linalg.norm(data)\n",
    "        # update after first init\n",
    "        if (finalerror == -1):\n",
    "            lowesterror = seqerror\n",
    "            lbest = lfactor\n",
    "            rbest = rfactor\n",
    "        # if not first, only update if final error is lower than overall best\n",
    "        elif (finalerror > seqerror[niter - 1]):\n",
    "            finalerror = seqerror[niter - 1]\n",
    "            lowesterror = seqerror\n",
    "            lbest = lfactor\n",
    "            rbest = rfactor\n",
    "    return(lbest, rbest, lowesterror)"
   ]
  },
  {
   "cell_type": "code",
   "execution_count": 30,
   "metadata": {},
   "outputs": [
    {
     "name": "stdout",
     "output_type": "stream",
     "text": [
      "[[ 0.    0.    0.    0.    0.    0.    0.    0.    0.    0.  ]\n",
      " [-0.27  4.96  0.    1.33  0.66  1.47  2.04  1.07  2.38 -0.05]\n",
      " [ 8.92 13.85  0.    6.67  5.13  9.12 11.73  8.94 11.47  2.53]\n",
      " [ 2.45  6.63  0.    0.56  0.45  0.9   1.45  0.76  1.08  1.16]\n",
      " [ 2.45  8.72  0.    0.43  0.28  0.69  1.31  0.44  0.9   1.33]\n",
      " [ 0.72  3.16  0.    0.45  0.28  0.58  0.87  0.46  0.82  0.36]\n",
      " [ 0.43  2.91  0.    0.23  0.1   0.27  0.49  0.14  0.45  0.29]\n",
      " [ 1.52  6.55  0.    0.77  0.47  1.02  1.59  0.77  1.44  0.79]\n",
      " [ 2.09  4.58  0.    0.41  0.38  0.7   1.1   0.65  0.77  0.93]\n",
      " [ 0.6   2.38  0.    0.5   0.32  0.64  0.9   0.54  0.89  0.26]\n",
      " [ 0.56  2.65  0.    0.33  0.19  0.42  0.66  0.32  0.61  0.3 ]\n",
      " [ 1.44  5.17  0.    0.55  0.36  0.76  1.21  0.6   1.03  0.72]]\n",
      "[0.69647011 0.69647011 0.69646858 0.6964143  0.6964143  0.6964143\n",
      " 0.69640732 0.69640174 0.69635492 0.69635001]\n"
     ]
    }
   ],
   "source": [
    "np.random.seed(1)\n",
    "A, S, error = nmfals(X, 3, 100, 10)\n",
    "print(np.round(np.matmul(A,S), 2))\n",
    "print(error[90:100])"
   ]
  },
  {
   "cell_type": "markdown",
   "metadata": {},
   "source": [
    "Unfortunately, the ALS algorithm does not always closely resemble the original data matrix in practice, as the random initializations of $A$ and $S$ can cause the resulting approximation to vary wildly even with multiple iterations. This makes sense, as there are many different factorizations that a matrix can have. While the factorized $A$ and $S$ don't form a matrix that matches $X$ closely, it did preserve the row and column of zeros that were present in $X$. \n",
    "\n",
    "One thing to note is we use the relative error to judge the quality of our approximation, which is the Frobenius norm of the difference between our original data matrix $X$ and the approximation $AS$ divided by the Frobenius norm of $X$. We do this rather than just use the raw error since factorizations can be scaled by multiplying $A$ by a number $r$ and $S$ by $\\frac{1}{r}$. This scaling also scales the error, hence the need for a relative metric. "
   ]
  },
  {
   "cell_type": "markdown",
   "metadata": {},
   "source": [
    "## Randomized Kaczmarz Method"
   ]
  },
  {
   "cell_type": "markdown",
   "metadata": {},
   "source": [
    "We saw previously that the algorithm to factorize $X$ has two main parts, one to pick our matrix column and row indices and one to take an iterative step towards the local optimum. The iterative step gives us the freedom to choose our favorite method to solve for $A$ and $S$, and rather than doing a traditional least squares method we can try applying the Randomized Kaczmarz(RK) method instead. This iterative step takes our randomly chosen row/column of either $A$ or $S$ and projects it towards the local optimum. It is equivalent to stochastic gradient descent with a specific step size when the matrix is positive definite.\n",
    "\n",
    "Our current system $AS = X$ is reduced to $As_{:,i} = x_{:,i}$ when a column is sampled. Our RK iterative step then samples a row of $A$ and corresponding entry $k$ of $s_{:,i}$ and would then be the following:\n",
    "\n",
    "$$s_{:,i}^{(j+1)} = s_{:,i}^{(j)} + \\frac{x_{k,i} - a_{k,:}^Ts_{:,i}}{\\lvert\\lvert{a_{k,:}}\\rvert\\rvert ^2}a_{k,:}$$\n",
    "\n",
    "Note that $j$ represents the current iteration of our RK method. This value can be explicitly chosen, making it an additional parameter in this algorithm. If we sampled a row of $S$ rather than a column of $A$, each step would instead be the following:\n",
    "\n",
    "$$a_{i,:}^{(j+1)} = a_{i,:}^{(j)} + \\frac{x_{i,k} - a_{i,:}^Ts_{:,k}}{\\lvert\\lvert{s_{:,k}}\\rvert\\rvert ^2}s_{:,k}$$\n",
    "\n",
    "To summarize, we start by randomly sampling a row/column to reduce to a linear system(as usual). We then proceed to take RK steps, with each step sampling a random row and entry and updating. The number of steps before resampling our linear system can be provided as a parameter. \n",
    "\n",
    "We can also perform quick sanity check by initializing $A$ and $S$ close to the original factor matrices like we did with the ALS method.  "
   ]
  },
  {
   "cell_type": "code",
   "execution_count": 47,
   "metadata": {},
   "outputs": [
    {
     "name": "stdout",
     "output_type": "stream",
     "text": [
      "[[ 0.   0.   0.   0.   0.   0.   0.   0.   0.   0. ]\n",
      " [ 0.   5.   0.   0.   5.   0.   0.   0.   5.   0. ]\n",
      " [ 9.  14.   0.   0.  14.   9.   9.   9.  14.   0. ]\n",
      " [ 5.  11.   0.   0.  11.   5.   5.   5.  11.   0. ]\n",
      " [ 3.   9.   0.   0.   9.   3.   3.   3.   9.   0. ]\n",
      " [ 2.  12.   0.   3.  12.   2.   2.   5.   9.   0. ]\n",
      " [ 1.   7.   0.   2.   7.   1.   1.   3.   5.   0. ]\n",
      " [ 0.   3.   0.   1.   3.   0.   0.   1.   2.   0. ]\n",
      " [ 0.   2.   0.   1.   2.   0.   0.   1.   1.   0. ]\n",
      " [ 0.   0.5  0.   0.   0.5  0.   0.   0.   0.5  0. ]\n",
      " [ 0.   0.   0.   0.   0.   0.   0.   0.   0.   0. ]\n",
      " [ 0.   0.   0.   0.   0.   0.   0.   0.   0.   0. ]]\n",
      "[[ 0.    0.    0.    0.    0.    0.    0.    0.    0.    0.  ]\n",
      " [-0.47  0.91  0.    0.53  0.33 -0.83 -0.83 -0.3  -0.19  0.  ]\n",
      " [ 4.9  -3.07  0.    0.    8.13 10.44 10.38 10.38  8.1   0.03]\n",
      " [ 3.24  9.07  0.    0.08 11.07  5.07  5.06  5.07 11.02  0.05]\n",
      " [ 2.24  9.    0.    0.07  9.05  3.05  3.05  3.06  9.01  0.05]\n",
      " [ 1.11 10.35  0.    3.07 12.04  2.07  2.07  5.06  9.03  0.05]\n",
      " [ 0.49  5.91  0.    2.04  7.03  1.04  1.04  3.03  5.02  0.03]\n",
      " [ 0.    2.94  0.    1.02  3.02  0.02  0.03  1.02  2.02  0.01]\n",
      " [-0.13  1.45  0.    1.02  2.02  0.02  0.02  1.02  1.02  0.01]\n",
      " [ 0.06  0.76  0.    0.01  0.51  0.    0.    0.    0.51  0.  ]\n",
      " [ 0.    0.01  0.    0.    0.01  0.    0.    0.01  0.01  0.  ]\n",
      " [ 0.    0.    0.    0.01  0.02  0.01  0.01  0.01  0.01  0.  ]]\n",
      "0.44722082261860974\n"
     ]
    }
   ],
   "source": [
    "np.random.seed(1)\n",
    "k = 3\n",
    "niter = 100\n",
    "\n",
    "A = factors + 0.01*np.random.rand(12, 3)\n",
    "S = weights + 0.01*np.random.rand(3, 10)\n",
    "\n",
    "kacziters = 5\n",
    "for i in np.arange(niter):\n",
    "    rowcol = np.random.randint(k)\n",
    "    for i in np.arange(kacziters):\n",
    "        kaczrow = np.random.randint(len(X[:, rowcol]))\n",
    "        kaczcol = np.random.randint(len(X[rowcol, :]))\n",
    "        S[:, rowcol] = S[:, rowcol] + (X[kaczrow, rowcol] - np.matmul(A[kaczrow, :], S[:, rowcol])) / (np.linalg.norm(A[kaczrow, :])**2) * A[kaczrow, :]\n",
    "        A[rowcol, :] = A[rowcol, :] + (X[rowcol, kaczcol] - np.matmul(A[rowcol, :], S[:, kaczcol])) / (np.linalg.norm(S[:, kaczcol])**2) * S[:, kaczcol] \n",
    "\n",
    "approx = np.matmul(A, S)\n",
    "print(X)\n",
    "print(np.round(approx, 2))\n",
    "print(np.linalg.norm(X - approx) / np.linalg.norm(X))"
   ]
  },
  {
   "cell_type": "markdown",
   "metadata": {},
   "source": [
    "Compared to the ALS method, the RK method has a higher relative error in its approximation. \n",
    "\n",
    "The finalized function is largely similar to the ALS one, except the ALS iterative step is substituted for the RK iteration loop. "
   ]
  },
  {
   "cell_type": "code",
   "execution_count": 44,
   "metadata": {},
   "outputs": [],
   "source": [
    "def nmfrk(data, k, niter, kacziter, reinit = 5):\n",
    "    # set to negative one so we can guarantee an update for the first init\n",
    "    finalerror = -1\n",
    "    \n",
    "    # need to compare final error to overall best and store the overall best\n",
    "    seqerror = np.empty(niter)\n",
    "    lowesterror = np.empty(1)\n",
    "    \n",
    "    # store overall best factor matrices\n",
    "    lbest = np.random.rand(data.shape[0], k)\n",
    "    rbest = np.random.rand(k, data.shape[1])\n",
    "    \n",
    "    for j in np.arange(reinit):\n",
    "        # randomly initialize the factor matrices\n",
    "        lfactor = np.random.rand(data.shape[0], k)\n",
    "        rfactor = np.random.rand(k, data.shape[1])\n",
    "        # outer loop for number of iterations \n",
    "        for i in np.arange(niter):\n",
    "            rowcol = np.random.randint(k)\n",
    "            # inner loop for number of RK iterations\n",
    "            for i in np.arange(kacziter):\n",
    "                kaczrow = np.random.randint(len(X[:, rowcol]))\n",
    "                kaczcol = np.random.randint(len(X[rowcol, :]))\n",
    "                rfactor[:, rowcol] = rfactor[:, rowcol] + (data[kaczrow, rowcol] - np.matmul(lfactor[kaczrow, :], rfactor[:, rowcol])) / (np.linalg.norm(lfactor[kaczrow, :])**2) * lfactor[kaczrow, :]\n",
    "                lfactor[rowcol, :] = lfactor[rowcol, :] + (data[rowcol, kaczcol] - np.matmul(lfactor[rowcol, :], rfactor[:, kaczcol])) / (np.linalg.norm(rfactor[:, kaczcol])**2) * rfactor[:, kaczcol] \n",
    "            # calculate error after update\n",
    "            seqerror[i] = np.linalg.norm(data - np.matmul(lfactor, rfactor)) / np.linalg.norm(data)\n",
    "        # update after first init\n",
    "        if (finalerror == -1):\n",
    "            lowesterror = seqerror\n",
    "            lbest = lfactor\n",
    "            rbest = rfactor\n",
    "        # if not first, only update if final error is lower than overall best\n",
    "        elif (finalerror > seqerror[niter - 1]):\n",
    "            finalerror = seqerror[niter - 1]\n",
    "            lowesterror = seqerror\n",
    "            lbest = lfactor\n",
    "            rbest = rfactor\n",
    "    return(lbest, rbest, lowesterror)"
   ]
  },
  {
   "cell_type": "markdown",
   "metadata": {},
   "source": [
    "Varying the number of RK iterations per row/column sample does not seem to reliably change the relative error, as the variance of the relative error is quite high despite 10 reinitializations to attempt to mitigate it. "
   ]
  },
  {
   "cell_type": "code",
   "execution_count": 75,
   "metadata": {},
   "outputs": [
    {
     "name": "stdout",
     "output_type": "stream",
     "text": [
      "[[ 0.   0.   0.   0.   0.   0.   0.   0.   0.   0. ]\n",
      " [ 0.   5.   0.   0.   5.   0.   0.   0.   5.   0. ]\n",
      " [ 9.  14.   0.   0.  14.   9.   9.   9.  14.   0. ]\n",
      " [ 5.  11.   0.   0.  11.   5.   5.   5.  11.   0. ]\n",
      " [ 3.   9.   0.   0.   9.   3.   3.   3.   9.   0. ]\n",
      " [ 2.  12.   0.   3.  12.   2.   2.   5.   9.   0. ]\n",
      " [ 1.   7.   0.   2.   7.   1.   1.   3.   5.   0. ]\n",
      " [ 0.   3.   0.   1.   3.   0.   0.   1.   2.   0. ]\n",
      " [ 0.   2.   0.   1.   2.   0.   0.   1.   1.   0. ]\n",
      " [ 0.   0.5  0.   0.   0.5  0.   0.   0.   0.5  0. ]\n",
      " [ 0.   0.   0.   0.   0.   0.   0.   0.   0.   0. ]\n",
      " [ 0.   0.   0.   0.   0.   0.   0.   0.   0.   0. ]]\n",
      "[[ 0.    0.    0.    0.    0.    0.    0.    0.    0.    0.  ]\n",
      " [ 1.69 -1.51 -0.02 -1.02  0.19 -0.5  -1.25  0.   -0.13  0.33]\n",
      " [44.05 71.12 -0.23 18.33  8.17 18.86  9.   15.61 13.15 15.95]\n",
      " [ 3.54  4.92 -0.02  1.58  0.7   1.63  0.78  1.31  1.02  1.33]\n",
      " [ 0.38  0.41  0.    0.41  0.12  0.37  0.28  0.24  0.15  0.2 ]\n",
      " [ 2.    4.84 -0.01  1.44  0.41  1.28  0.97  0.92  0.83  0.82]\n",
      " [ 0.66 -0.43  0.    0.84  0.27  0.8   0.54  0.49  0.2   0.42]\n",
      " [ 0.73  1.2   0.    0.83  0.22  0.74  0.59  0.47  0.32  0.39]\n",
      " [ 2.59  3.45 -0.01  1.72  0.61  1.66  1.04  1.19  0.84  1.11]\n",
      " [ 2.    4.29 -0.01  1.39  0.42  1.27  0.91  0.91  0.78  0.83]\n",
      " [ 0.12  0.    0.    0.21  0.06  0.19  0.15  0.11  0.05  0.09]\n",
      " [ 1.16 -0.09  0.    1.21  0.4   1.16  0.76  0.74  0.35  0.66]]\n",
      "1.658019531295176\n"
     ]
    }
   ],
   "source": [
    "A, S, error = nmfrk(X, k = 3, niter = 100, kacziter = 1, reinit = 10)\n",
    "\n",
    "approx = np.matmul(A, S)\n",
    "print(X)\n",
    "print(np.round(approx, 2))\n",
    "print(np.linalg.norm(X - approx) / np.linalg.norm(X))"
   ]
  },
  {
   "cell_type": "code",
   "execution_count": 77,
   "metadata": {},
   "outputs": [
    {
     "name": "stdout",
     "output_type": "stream",
     "text": [
      "[[ 0.   0.   0.   0.   0.   0.   0.   0.   0.   0. ]\n",
      " [ 0.   5.   0.   0.   5.   0.   0.   0.   5.   0. ]\n",
      " [ 9.  14.   0.   0.  14.   9.   9.   9.  14.   0. ]\n",
      " [ 5.  11.   0.   0.  11.   5.   5.   5.  11.   0. ]\n",
      " [ 3.   9.   0.   0.   9.   3.   3.   3.   9.   0. ]\n",
      " [ 2.  12.   0.   3.  12.   2.   2.   5.   9.   0. ]\n",
      " [ 1.   7.   0.   2.   7.   1.   1.   3.   5.   0. ]\n",
      " [ 0.   3.   0.   1.   3.   0.   0.   1.   2.   0. ]\n",
      " [ 0.   2.   0.   1.   2.   0.   0.   1.   1.   0. ]\n",
      " [ 0.   0.5  0.   0.   0.5  0.   0.   0.   0.5  0. ]\n",
      " [ 0.   0.   0.   0.   0.   0.   0.   0.   0.   0. ]\n",
      " [ 0.   0.   0.   0.   0.   0.   0.   0.   0.   0. ]]\n",
      "[[  0.     0.     0.     0.     0.     0.     0.     0.     0.     0.  ]\n",
      " [ 25.67 -17.61   0.     4.12   2.39   0.     1.27   2.45   1.4   -0.15]\n",
      " [-26.97 -52.08   0.     0.    -1.59   9.97  10.47   8.58   5.78  -5.  ]\n",
      " [  2.44  11.21   0.     0.8    1.19   0.39   0.26   0.44   0.17   0.84]\n",
      " [  1.4    7.64   0.     0.58   0.85   0.42   0.33   0.43   0.2    0.55]\n",
      " [  2.    12.66   0.     1.13   1.58   1.11   0.95   1.11   0.57   0.89]\n",
      " [  1.02   2.12   0.     0.33   0.38   0.23   0.23   0.29   0.15   0.17]\n",
      " [  0.2    6.     0.     0.41   0.66   0.54   0.44   0.48   0.25   0.39]\n",
      " [  2.22   8.77   0.     0.63   0.93   0.23   0.13   0.29   0.1    0.67]\n",
      " [  0.45  14.1    0.     0.74   1.33   0.85   0.6    0.69   0.32   0.93]\n",
      " [  0.86   3.68   0.     0.3    0.42   0.18   0.14   0.2    0.09   0.28]\n",
      " [  2.39  11.48   0.     0.92   1.32   0.64   0.5    0.68   0.32   0.84]]\n",
      "1.9024591554095727\n"
     ]
    }
   ],
   "source": [
    "A, S, error = nmfrk(X, k = 3, niter = 100, kacziter = 5, reinit = 10)\n",
    "\n",
    "approx = np.matmul(A, S)\n",
    "print(X)\n",
    "print(np.round(approx, 2))\n",
    "print(np.linalg.norm(X - approx) / np.linalg.norm(X))"
   ]
  },
  {
   "cell_type": "code",
   "execution_count": 65,
   "metadata": {},
   "outputs": [
    {
     "name": "stdout",
     "output_type": "stream",
     "text": [
      "[[ 0.   0.   0.   0.   0.   0.   0.   0.   0.   0. ]\n",
      " [ 0.   5.   0.   0.   5.   0.   0.   0.   5.   0. ]\n",
      " [ 9.  14.   0.   0.  14.   9.   9.   9.  14.   0. ]\n",
      " [ 5.  11.   0.   0.  11.   5.   5.   5.  11.   0. ]\n",
      " [ 3.   9.   0.   0.   9.   3.   3.   3.   9.   0. ]\n",
      " [ 2.  12.   0.   3.  12.   2.   2.   5.   9.   0. ]\n",
      " [ 1.   7.   0.   2.   7.   1.   1.   3.   5.   0. ]\n",
      " [ 0.   3.   0.   1.   3.   0.   0.   1.   2.   0. ]\n",
      " [ 0.   2.   0.   1.   2.   0.   0.   1.   1.   0. ]\n",
      " [ 0.   0.5  0.   0.   0.5  0.   0.   0.   0.5  0. ]\n",
      " [ 0.   0.   0.   0.   0.   0.   0.   0.   0.   0. ]\n",
      " [ 0.   0.   0.   0.   0.   0.   0.   0.   0.   0. ]]\n",
      "[[  0.     0.     0.     0.     0.     0.     0.     0.     0.     0.  ]\n",
      " [  0.56  57.59   0.     1.03   3.91   2.75   5.73   2.2    5.    -1.14]\n",
      " [-13.25 132.34   0.     6.85  14.    12.03  13.69   6.9   14.06  -4.01]\n",
      " [  1.74  -5.37   0.     1.81   1.3    1.29   1.11   0.65   0.76   1.37]\n",
      " [  0.62   1.06   0.     0.53   0.51   0.45   0.57   0.27   0.43   0.35]\n",
      " [  0.11   0.18   0.     0.39   0.37   0.35   0.31   0.18   0.26   0.19]\n",
      " [  0.78  -1.62   0.     1.61   1.37   1.34   1.13   0.67   0.91   0.95]\n",
      " [  2.22  -2.37   0.     1.13   0.81   0.72   0.99   0.45   0.58   1.09]\n",
      " [  1.22  -2.52   0.     0.63   0.39   0.36   0.44   0.21   0.23   0.64]\n",
      " [  1.26  -2.     0.     0.93   0.69   0.64   0.7    0.36   0.45   0.76]\n",
      " [  0.84   0.     0.     1.11   0.99   0.93   0.93   0.5    0.72   0.69]\n",
      " [  0.     2.15   0.     1.05   1.09   1.03   0.91   0.53   0.82   0.4 ]]\n",
      "2.8470336386538726\n"
     ]
    }
   ],
   "source": [
    "A, S, error = nmfrk(X, k = 3, niter = 100, kacziter = 10, reinit = 10)\n",
    "\n",
    "approx = np.matmul(A, S)\n",
    "print(X)\n",
    "print(np.round(approx, 2))\n",
    "print(np.linalg.norm(X - approx) / np.linalg.norm(X))"
   ]
  },
  {
   "cell_type": "code",
   "execution_count": null,
   "metadata": {},
   "outputs": [],
   "source": []
  },
  {
   "cell_type": "code",
   "execution_count": null,
   "metadata": {},
   "outputs": [],
   "source": []
  }
 ],
 "metadata": {
  "kernelspec": {
   "display_name": "Python 2",
   "language": "python",
   "name": "python2"
  },
  "language_info": {
   "codemirror_mode": {
    "name": "ipython",
    "version": 2
   },
   "file_extension": ".py",
   "mimetype": "text/x-python",
   "name": "python",
   "nbconvert_exporter": "python",
   "pygments_lexer": "ipython2",
   "version": "2.7.16"
  }
 },
 "nbformat": 4,
 "nbformat_minor": 2
}
