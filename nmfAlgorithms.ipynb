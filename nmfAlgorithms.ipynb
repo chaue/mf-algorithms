{
 "cells": [
  {
   "cell_type": "markdown",
   "metadata": {},
   "source": [
    "# Non-negative Matrix Factorization"
   ]
  },
  {
   "cell_type": "markdown",
   "metadata": {},
   "source": [
    "Non-negative matrix factorization (NMF) is a simple yet effective method to decompose a matrix into a product of two non-negative matrices(that is sparse matrices with all non-negative entries). This technique is most commonly used in recommender systems, and was made well known by the Netflix Prize. NMF aims to factor a data matrix $X$ into a product of two matrices:\n",
    "\n",
    "$$X \\approx AS $$\n",
    "\n",
    "where $X$ is a $n \\times m$ matrix, $A$ is a $n \\times k$ matrix, and $S$ is a $k \\times m$ matrix. $k$ is usually provided by the user, and symbolizes the number of distinct \"factors\" in the data. For example, if our data was the total productivity of a group of factories per hour for the past week, the number of factors $k$ would be the number of factories. Without prior knowledge the number of factors would be harder to pinpoint, and would have to be chosen using cross validation or something similar\n",
    "\n",
    "It's important to note that this problem does not have a unique solution, and we could end up with many different combinations of $A$ and $S$ that multiply to get a decent approximation of $X$. Even more, each pair of $A$ and $S$ can be scaled by any real number $\\alpha$ and $\\frac{1}{\\alpha}$ respectively to yield an infinite number of pairs. "
   ]
  },
  {
   "cell_type": "markdown",
   "metadata": {},
   "source": [
    "## Alternating Least Squares"
   ]
  },
  {
   "cell_type": "markdown",
   "metadata": {},
   "source": [
    "The natural question to ask now is how to determine $A$ and $S$ when given $X$ and $k$. One relatively simple method is to use alternating least squares, which is a generalization of the least squares method for simple linear regression. In simple linear regression, the goal is to solve the following equation for $x$:\n",
    "\n",
    "$$ Ax = b \\implies A^TAx = A^Tb \\implies x = (A)^{\\dagger}b\\$$\n",
    "\n",
    "This can be generalized for a product of matrices by picking a random $i^{th}$ column of $X$ and $S$, which we will denote $x_{:,i}$ and $s_{:,i}$, fixing $A$, and solving for $s_{:,i}$. Then by our previous equation $X \\approx AS$ we have \n",
    "\n",
    "$$ x_{:,i} \\approx As_{:,i}$$\n",
    "This yields the following update rule:\n",
    "\n",
    "$$ s_{:,i} := (A)^{\\dagger}x_{:,i}$$\n",
    "\n",
    "However, since we also want to solve for $A$ we need to sample a column of $A$ and fix $S$. To get the same linear form we do the following:\n",
    "\n",
    "$$x_{i,:} \\approx a_{i,:}S \\implies x_{i,:}^T \\approx S^Ta_{i,:}^T$$\n",
    "\n",
    "We switch to updating the rows of $A$ rather than the columns due to dimensionality, and get the following update rule:\n",
    "\n",
    "$$ a_{i,:}^T = (SS^T)^{-1}Sx_{i,:}^T $$\n",
    "\n",
    "We then repeat these updates until convergence or the number of iterations is fulfilled. "
   ]
  },
  {
   "cell_type": "code",
   "execution_count": 146,
   "metadata": {},
   "outputs": [],
   "source": [
    "import numpy as np\n",
    "import matplotlib.pyplot as plt\n",
    "\n",
    "np.set_printoptions(suppress=True)"
   ]
  },
  {
   "cell_type": "code",
   "execution_count": 176,
   "metadata": {
    "scrolled": true
   },
   "outputs": [
    {
     "name": "stdout",
     "output_type": "stream",
     "text": [
      "[[ 0.   0.   0.   0.   0.   0.   0.   0.   0.   0. ]\n",
      " [ 0.   5.   0.   0.   5.   0.   0.   0.   5.   0. ]\n",
      " [ 9.  14.   0.   0.  14.   9.   9.   9.  14.   0. ]\n",
      " [ 5.  11.   0.   0.  11.   5.   5.   5.  11.   0. ]\n",
      " [ 3.   9.   0.   0.   9.   3.   3.   3.   9.   0. ]\n",
      " [ 2.  12.   0.   3.  12.   2.   2.   5.   9.   0. ]\n",
      " [ 1.   7.   0.   2.   7.   1.   1.   3.   5.   0. ]\n",
      " [ 0.   3.   0.   1.   3.   0.   0.   1.   2.   0. ]\n",
      " [ 0.   2.   0.   1.   2.   0.   0.   1.   1.   0. ]\n",
      " [ 0.   0.5  0.   0.   0.5  0.   0.   0.   0.5  0. ]\n",
      " [ 0.   0.   0.   0.   0.   0.   0.   0.   0.   0. ]\n",
      " [ 0.   0.   0.   0.   0.   0.   0.   0.   0.   0. ]]\n",
      "[[0.  0.  0. ]\n",
      " [0.  0.  5. ]\n",
      " [9.  0.  5. ]\n",
      " [5.  0.  6. ]\n",
      " [3.  0.  6. ]\n",
      " [2.  3.  7. ]\n",
      " [1.  2.  4. ]\n",
      " [0.  1.  2. ]\n",
      " [0.  1.  1. ]\n",
      " [0.  0.  0.5]\n",
      " [0.  0.  0. ]\n",
      " [0.  0.  0. ]]\n",
      "[[1 1 0 0 1 1 1 1 1 0]\n",
      " [0 1 0 1 1 0 0 1 0 0]\n",
      " [0 1 0 0 1 0 0 0 1 0]]\n"
     ]
    }
   ],
   "source": [
    "np.random.seed(1)\n",
    "col1 = np.array([[0, 0, 9, 5, 3, 2, 1, 0, 0, 0, 0, 0]])\n",
    "col2 = np.array([[0, 0, 0, 0, 0, 3, 2, 1, 1, 0, 0, 0]])\n",
    "col3 = np.array([[0, 5, 5, 6, 6, 7, 4, 2, 1, 0.5, 0, 0]])\n",
    "\n",
    "factors = np.vstack((col1, col2, col3)).T\n",
    "weights = np.random.randint(0, 2, size=(3, 10))\n",
    "\n",
    "X = np.matmul(factors, weights)\n",
    "print(X)\n",
    "print(factors)\n",
    "print(weights)"
   ]
  },
  {
   "cell_type": "markdown",
   "metadata": {},
   "source": [
    "Initializing the factor matrices $A$ and $S$ is typically done by filling a matrix of the right dimensions with randomized entries. However, to check that the ALS algorithm works properly we can initialize $A$ and $S$ close to our original factor matrices. The final $A$ and $S$ should yield a very low error."
   ]
  },
  {
   "cell_type": "code",
   "execution_count": 148,
   "metadata": {},
   "outputs": [
    {
     "name": "stdout",
     "output_type": "stream",
     "text": [
      "[[ 0.   0.   0.   0.   0.   0.   0.   0.   0.   0. ]\n",
      " [ 0.   5.   0.   0.   5.   0.   0.   0.   5.   0. ]\n",
      " [ 9.  14.   0.   0.  14.   9.   9.   9.  14.   0. ]\n",
      " [ 5.  11.   0.   0.  11.   5.   5.   5.  11.   0. ]\n",
      " [ 3.   9.   0.   0.   9.   3.   3.   3.   9.   0. ]\n",
      " [ 2.  12.   0.   3.  12.   2.   2.   5.   9.   0. ]\n",
      " [ 1.   7.   0.   2.   7.   1.   1.   3.   5.   0. ]\n",
      " [ 0.   3.   0.   1.   3.   0.   0.   1.   2.   0. ]\n",
      " [ 0.   2.   0.   1.   2.   0.   0.   1.   1.   0. ]\n",
      " [ 0.   0.5  0.   0.   0.5  0.   0.   0.   0.5  0. ]\n",
      " [ 0.   0.   0.   0.   0.   0.   0.   0.   0.   0. ]\n",
      " [ 0.   0.   0.   0.   0.   0.   0.   0.   0.   0. ]]\n",
      "[[ 0.   0.   0.   0.   0.   0.   0.   0.   0.   0. ]\n",
      " [ 0.   5.   0.   0.   5.   0.   0.   0.   5.   0. ]\n",
      " [ 9.  14.   0.   0.  14.   9.   9.   9.  14.   0. ]\n",
      " [ 5.  11.   0.   0.  11.   5.   5.   5.  11.   0. ]\n",
      " [ 3.   9.   0.   0.   9.   3.   3.   3.   9.   0. ]\n",
      " [ 2.  12.   0.   3.  12.   2.   2.   5.   9.   0. ]\n",
      " [ 1.   7.   0.   2.   7.   1.   1.   3.   5.   0. ]\n",
      " [ 0.   3.   0.   1.   3.   0.   0.   1.   2.   0. ]\n",
      " [ 0.   2.   0.   1.   2.   0.   0.   1.   1.   0. ]\n",
      " [ 0.   0.5  0.   0.   0.5  0.   0.   0.   0.5  0. ]\n",
      " [ 0.   0.   0.   0.   0.   0.   0.   0.   0.   0. ]\n",
      " [ 0.   0.   0.   0.   0.   0.   0.   0.   0.   0. ]]\n",
      "('Relative error: ', 2.5770494327987753e-16)\n"
     ]
    }
   ],
   "source": [
    "np.random.seed(1)\n",
    "k = 3\n",
    "niter = 1000\n",
    "A = factors + 0.01*np.random.rand(12, 3)\n",
    "S = weights + 0.01*np.random.rand(3, 10)\n",
    "\n",
    "for i in np.arange(niter):\n",
    "    row = np.random.randint(X.shape[0])\n",
    "    col = np.random.randint(X.shape[1])\n",
    "    rowcol = np.random.randint(k)\n",
    "    S[:, col] = np.matmul(np.linalg.pinv(A), X[:, col])\n",
    "    A[row, :] = np.matmul(X[row, :], np.matmul(S.T, np.linalg.inv(np.matmul(S, S.T))))\n",
    "\n",
    "approx = np.matmul(A, S)\n",
    "print(X)\n",
    "print(np.round(approx, 2))\n",
    "print(\"Relative error: \", np.linalg.norm(X - approx) / np.linalg.norm(X))"
   ]
  },
  {
   "cell_type": "markdown",
   "metadata": {},
   "source": [
    "We can see that the entries of our approximation $AS$ are pretty close to our data matrix, and the relative error is fairly low. Now that the algorithm works we can finalize it in a function."
   ]
  },
  {
   "cell_type": "code",
   "execution_count": 149,
   "metadata": {},
   "outputs": [],
   "source": [
    "def nmfals(data, k, niter, reinit = 5):\n",
    "    # set to negative one so we can guarantee an update for the first init\n",
    "    finalerror = -1\n",
    "    \n",
    "    # need to compare final error to overall best and store the overall best\n",
    "    seqerror = np.empty(niter)\n",
    "    lowesterror = np.empty(1)\n",
    "    \n",
    "    # store overall best factor matrices\n",
    "    lbest = np.random.rand(data.shape[0], k)\n",
    "    rbest = np.random.rand(k, data.shape[1])\n",
    "    \n",
    "    for j in np.arange(reinit):\n",
    "        # randomly initialize the factor matrices\n",
    "        lfactor = np.random.rand(data.shape[0], k)\n",
    "        rfactor = np.random.rand(k, data.shape[1])\n",
    "\n",
    "        for i in np.arange(niter):\n",
    "            # sample random row or column\n",
    "            row = np.random.randint(data.shape[0])\n",
    "            col = np.random.randint(data.shape[1])\n",
    "            # perform linear reg update \n",
    "            rfactor[:, col] = np.matmul(np.linalg.pinv(lfactor), data[:, col])\n",
    "            lfactor[row, :] = np.matmul(data[row, :], np.matmul(rfactor.T, np.linalg.inv(np.matmul(rfactor, rfactor.T))))\n",
    "            # calculate error after update\n",
    "            seqerror[i] = np.linalg.norm(data - np.matmul(lfactor, rfactor)) / np.linalg.norm(data)\n",
    "        # update after first init\n",
    "        if (finalerror == -1):\n",
    "            lowesterror = seqerror\n",
    "            lbest = lfactor\n",
    "            rbest = rfactor\n",
    "        # if not first, only update if final error is lower than overall best\n",
    "        elif (finalerror > seqerror[niter - 1]):\n",
    "            finalerror = seqerror[niter - 1]\n",
    "            lowesterror = seqerror\n",
    "            lbest = lfactor\n",
    "            rbest = rfactor\n",
    "    return(lbest, rbest, lowesterror)"
   ]
  },
  {
   "cell_type": "code",
   "execution_count": 150,
   "metadata": {},
   "outputs": [
    {
     "name": "stdout",
     "output_type": "stream",
     "text": [
      "[[ 0.    0.    0.    0.    0.    0.    0.    0.    0.    0.  ]\n",
      " [ 0.    5.    0.    0.    5.    0.    0.    0.    5.01  0.  ]\n",
      " [ 8.99 14.    0.    0.   14.    9.    9.    9.   14.    0.  ]\n",
      " [ 5.   11.    0.    0.   11.    5.    5.    5.   11.    0.  ]\n",
      " [ 2.99  9.    0.    0.    9.    3.    3.    3.    9.    0.  ]\n",
      " [ 2.   12.02  0.    3.03 12.02  2.01  2.01  5.04  8.99  0.  ]\n",
      " [ 0.98  6.98  0.    1.95  6.98  0.98  0.98  2.94  5.02  0.  ]\n",
      " [ 0.    3.    0.    1.    3.    0.    0.    1.    2.    0.  ]\n",
      " [ 0.    2.    0.    1.    2.    0.    0.    1.    1.    0.  ]\n",
      " [ 0.    0.5   0.    0.    0.5   0.    0.    0.    0.5   0.  ]\n",
      " [ 0.    0.    0.    0.    0.    0.    0.    0.    0.    0.  ]\n",
      " [ 0.    0.    0.    0.    0.    0.    0.    0.    0.    0.  ]]\n",
      "0.0022813557743777907\n"
     ]
    },
    {
     "data": {
      "image/png": "[encoded data removed]",
      "text/plain": [
       "<Figure size 432x288 with 1 Axes>"
      ]
     },
     "metadata": {
      "needs_background": "light"
     },
     "output_type": "display_data"
    }
   ],
   "source": [
    "#np.random.seed(1)\n",
    "A, S, error = nmfals(X, 3, 100, 10)\n",
    "print(np.round(np.matmul(A,S), 2))\n",
    "print(error[99])\n",
    "plt.plot(error)\n",
    "plt.title(\"Relative error vs Iteration\")\n",
    "plt.xlabel(\"Iteration\")\n",
    "plt.ylabel(\"Relative error\")\n",
    "plt.show()"
   ]
  },
  {
   "cell_type": "markdown",
   "metadata": {},
   "source": [
    "Unfortunately, the ALS algorithm does not always closely resemble the original data matrix in practice, as the random initializations of $A$ and $S$ can cause the resulting approximation to vary wildly even with multiple iterations. This makes sense, as there are many different factorizations that a matrix can have. While the factorized $A$ and $S$ don't form a matrix that matches $X$ closely, it did preserve the row and column of zeros that were present in $X$. \n",
    "\n",
    "One thing to note is we use the relative error to judge the quality of our approximation, which is the Frobenius norm of the difference between our original data matrix $X$ and the approximation $AS$ divided by the Frobenius norm of $X$. We do this rather than just use the raw error since factorizations can be scaled by multiplying $A$ by a number $r$ and $S$ by $\\frac{1}{r}$. This scaling also scales the error, hence the need for a relative metric. "
   ]
  },
  {
   "cell_type": "markdown",
   "metadata": {},
   "source": [
    "## Randomized Kaczmarz Method"
   ]
  },
  {
   "cell_type": "markdown",
   "metadata": {},
   "source": [
    "We saw previously that the algorithm to factorize $X$ has two main parts, one to pick our matrix column and row indices and one to take an iterative step towards the local optimum. The iterative step gives us the freedom to choose our favorite method to solve for $A$ and $S$, and rather than doing a traditional least squares method we can try applying the Randomized Kaczmarz(RK) method instead. This iterative step takes our randomly chosen row/column of either $A$ or $S$ and projects it towards the local optimum. It is equivalent to stochastic gradient descent with a specific step size when the matrix is positive definite.\n",
    "\n",
    "Our current system $AS = X$ is reduced to $As_{:,i} = x_{:,i}$ when a column is sampled. Our RK iterative step then samples a row of $A$ and corresponding entry $k$ of $s_{:,i}$ and would then be the following:\n",
    "\n",
    "$$s_{:,i}^{(j+1)} = s_{:,i}^{(j)} + \\frac{x_{k,i} - a_{k,:}^Ts_{:,i}}{\\lvert\\lvert{a_{k,:}}\\rvert\\rvert ^2}a_{k,:}$$\n",
    "\n",
    "Note that $j$ represents the current iteration of our RK method. This value can be explicitly chosen, making it an additional parameter in this algorithm. If we sampled a row of $S$ rather than a column of $A$, each step would instead be the following:\n",
    "\n",
    "$$a_{i,:}^{(j+1)} = a_{i,:}^{(j)} + \\frac{x_{i,k} - a_{i,:}^Ts_{:,k}}{\\lvert\\lvert{s_{:,k}}\\rvert\\rvert ^2}s_{:,k}$$\n",
    "\n",
    "To summarize, we start by randomly sampling a row/column to reduce to a linear system(as usual). We then proceed to take RK steps, with each step sampling a random row and entry and updating. The number of steps before resampling our linear system can be provided as a parameter. \n",
    "\n",
    "We can also perform quick sanity check by initializing $A$ and $S$ close to the original factor matrices like we did with the ALS method. It's important to note that dividing by a vector norm means that we have to avoid sampling the rows/columns of our factor matrices that are all zero. This can be done by doing a weighted sample based on the norms of the rows/columns where a row with twice the magnitude of another will be sampled twice as often and a row with zero norm will never be sampled."
   ]
  },
  {
   "cell_type": "code",
   "execution_count": 157,
   "metadata": {},
   "outputs": [],
   "source": [
    "def weightsample(data, mode):\n",
    "    prob = np.linalg.norm(data, axis=mode)\n",
    "    return(prob / sum(prob))"
   ]
  },
  {
   "cell_type": "code",
   "execution_count": 158,
   "metadata": {},
   "outputs": [
    {
     "name": "stdout",
     "output_type": "stream",
     "text": [
      "[[ 0.   0.   0.   0.   0.   0.   0.   0.   0.   0. ]\n",
      " [ 0.   5.   0.   0.   5.   0.   0.   0.   5.   0. ]\n",
      " [ 9.  14.   0.   0.  14.   9.   9.   9.  14.   0. ]\n",
      " [ 5.  11.   0.   0.  11.   5.   5.   5.  11.   0. ]\n",
      " [ 3.   9.   0.   0.   9.   3.   3.   3.   9.   0. ]\n",
      " [ 2.  12.   0.   3.  12.   2.   2.   5.   9.   0. ]\n",
      " [ 1.   7.   0.   2.   7.   1.   1.   3.   5.   0. ]\n",
      " [ 0.   3.   0.   1.   3.   0.   0.   1.   2.   0. ]\n",
      " [ 0.   2.   0.   1.   2.   0.   0.   1.   1.   0. ]\n",
      " [ 0.   0.5  0.   0.   0.5  0.   0.   0.   0.5  0. ]\n",
      " [ 0.   0.   0.   0.   0.   0.   0.   0.   0.   0. ]\n",
      " [ 0.   0.   0.   0.   0.   0.   0.   0.   0.   0. ]]\n",
      "[[ 0.    0.    0.    0.   -0.02  0.    0.    0.    0.    0.  ]\n",
      " [ 0.89  0.29 -0.01 -0.06  5.12 -0.36 -0.51  0.55 -0.32 -0.01]\n",
      " [ 9.    8.67 -0.03  0.   26.76  7.24  2.8   8.96  6.89  0.  ]\n",
      " [ 7.87  8.94 -0.01  0.08 16.69  9.47  4.73  8.79  8.32  0.02]\n",
      " [ 4.61  4.85 -0.01  0.24 13.98  2.94  0.94  4.44  4.65  0.  ]\n",
      " [ 5.48  6.98  0.01  0.93 16.69  1.83  0.05  5.    8.65  0.01]\n",
      " [ 3.65  3.78  0.    0.42 13.85  0.34 -0.64  3.    4.03 -0.01]\n",
      " [ 2.01  2.75  0.01  0.41  5.85  0.62  0.    1.84  3.6   0.  ]\n",
      " [ 0.09  2.    0.03  0.86 -1.24 -1.41 -0.85 -0.07  4.74  0.02]\n",
      " [ 0.08  0.32  0.    0.08 -0.21  0.09  0.06  0.12  0.59  0.  ]\n",
      " [ 0.    0.    0.    0.   -0.01  0.    0.    0.    0.01  0.  ]\n",
      " [ 0.    0.    0.    0.   -0.02  0.    0.    0.    0.    0.  ]]\n",
      "0.539665301585092\n"
     ]
    }
   ],
   "source": [
    "np.random.seed(1)\n",
    "k = 3\n",
    "niter = 100\n",
    "factors = factors \n",
    "weights = weights \n",
    "X = np.round(np.matmul(factors, weights), 2)\n",
    "\n",
    "A = factors + 0.01*np.random.rand(12, 3)\n",
    "S = weights + 0.01*np.random.rand(3, 10)\n",
    "\n",
    "kacziters = 1000\n",
    "for j in np.arange(niter):\n",
    "    row = np.random.choice(X.shape[0], p = weightsample(X, 1))\n",
    "    col = np.random.choice(X.shape[1], p = weightsample(X, 0))\n",
    "    for i in np.arange(kacziters):\n",
    "        kaczrow = np.random.randint(len(X[:, col]))\n",
    "        kaczcol = np.random.randint(len(X[row, :]))\n",
    "        S[:, col] = S[:, col] + (X[kaczrow, col] - np.matmul(A[kaczrow, :], S[:, col])) / (np.linalg.norm(A[kaczrow, :])**2) * A[kaczrow, :]\n",
    "        A[row, :] = A[row, :] + (X[row, kaczcol] - np.matmul(A[row, :], S[:, kaczcol])) / (np.linalg.norm(S[:, kaczcol])**2) * S[:, kaczcol] \n",
    "\n",
    "approx = np.matmul(A, S)\n",
    "print(X)\n",
    "print(np.round(approx, 2))\n",
    "print(np.linalg.norm(X - approx) / np.linalg.norm(X))"
   ]
  },
  {
   "cell_type": "markdown",
   "metadata": {},
   "source": [
    "The RK method's relative error is nowhere near comparable to that of ALS even when the number of RK iterations is in the thousands due to the presence of more negative entries. \n",
    "\n",
    "The finalized function is largely similar to the ALS one, except the ALS iterative step is substituted for the RK iteration loop. "
   ]
  },
  {
   "cell_type": "code",
   "execution_count": 159,
   "metadata": {},
   "outputs": [],
   "source": [
    "def nmfrk(data, k, niter, kacziter, reinit = 5):\n",
    "    # set to negative one so we can guarantee an update for the first init\n",
    "    finalerror = -1\n",
    "    \n",
    "    # need to compare final error to overall best and store the overall best\n",
    "    seqerror = np.empty(niter)\n",
    "    lowesterror = np.empty(1)\n",
    "    \n",
    "    # store overall best factor matrices\n",
    "    lbest = np.random.rand(data.shape[0], k)\n",
    "    rbest = np.random.rand(k, data.shape[1])\n",
    "    \n",
    "    for l in np.arange(reinit):\n",
    "        # randomly initialize the factor matrices\n",
    "        lfactor = np.random.rand(data.shape[0], k)\n",
    "        rfactor = np.random.rand(k, data.shape[1])\n",
    "        \n",
    "        # outer loop for number of iterations \n",
    "        for i in np.arange(niter):\n",
    "            \n",
    "            # weighted sampling of row and column from data matrix\n",
    "            row = np.random.choice(data.shape[0], p = weightsample(data, 1))\n",
    "            col = np.random.choice(data.shape[1], p = weightsample(data, 0))\n",
    "            \n",
    "            # inner loop for number of RK iterations\n",
    "            for j in np.arange(kacziter):\n",
    "                # sample index for entry of data matrix\n",
    "                kaczrow = np.random.choice(data.shape[0], p = weightsample(data, 1))\n",
    "                kaczcol = np.random.choice(data.shape[1], p = weightsample(data, 0))\n",
    "                # compute RK step\n",
    "                #print(np.linalg.norm(rfactor[:, kaczcol])**2)\n",
    "                #print(np.linalg.norm(lfactor[kaczrow, :])**2)\n",
    "                lfactor[row, :] = lfactor[row, :] + (data[row, kaczcol] - np.matmul(lfactor[row, :], rfactor[:, kaczcol])) / (np.linalg.norm(rfactor[:, kaczcol])**2) * rfactor[:, kaczcol] \n",
    "                rfactor[:, col] = rfactor[:, col] + (data[kaczrow, col] - np.matmul(lfactor[kaczrow, :], rfactor[:, col])) / (np.linalg.norm(lfactor[kaczrow, :])**2) * lfactor[kaczrow, :]\n",
    "            # calculate error after update\n",
    "            seqerror[i] = np.linalg.norm(data - np.matmul(lfactor, rfactor)) / np.linalg.norm(data)\n",
    "        # update after first init\n",
    "        if (finalerror == -1):\n",
    "            lowesterror = seqerror\n",
    "            lbest = lfactor\n",
    "            rbest = rfactor\n",
    "        # if not first, only update if final error is lower than overall best\n",
    "        elif (finalerror > seqerror[niter - 1]):\n",
    "            finalerror = seqerror[niter - 1]\n",
    "            lowesterror = seqerror\n",
    "            lbest = lfactor\n",
    "            rbest = rfactor\n",
    "    return(lbest, rbest, lowesterror)"
   ]
  },
  {
   "cell_type": "code",
   "execution_count": 175,
   "metadata": {},
   "outputs": [
    {
     "name": "stdout",
     "output_type": "stream",
     "text": [
      "[[ 0.01955862  0.52302111  0.79344204]\n",
      " [ 0.25330304  0.52073883  1.12591194]\n",
      " [ 8.35837056  3.76960575  0.36803432]\n",
      " [ 4.79907244  2.40803371  0.99491486]\n",
      " [ 2.84181553  1.78179415  1.15426891]\n",
      " [ 1.26483933  2.25260257  0.72523804]\n",
      " [ 0.49588121  1.28311549  0.3391967 ]\n",
      " [-0.16239423  0.42414397  0.24801316]\n",
      " [-0.25390495  0.36835946 -0.01525544]\n",
      " [ 0.01128256  0.05628707  0.11011029]\n",
      " [ 0.16665296  0.96703037  0.00983465]\n",
      " [ 0.3753054   0.83339162  0.14877484]]\n",
      "[[ 0.85111289 -0.72322082  0.75813857 -1.22677439 -0.84158999  0.86222915\n",
      "   0.84770497  0.08261119  0.17589002  0.02033142]\n",
      " [ 0.56820799  5.11370952  0.41670999  2.65640052  4.92151024  0.57714965\n",
      "   0.5371979   2.52153531  2.9615364   0.38506302]\n",
      " [-0.44554491  2.16782788  0.41259188 -1.30606097  2.27202284 -0.46091482\n",
      "  -0.36363738 -1.21036977  3.03986972  0.80226549]]\n",
      "0.36252876711490517\n"
     ]
    },
    {
     "data": {
      "image/png": "[encoded data removed]",
      "text/plain": [
       "<Figure size 432x288 with 1 Axes>"
      ]
     },
     "metadata": {
      "needs_background": "light"
     },
     "output_type": "display_data"
    }
   ],
   "source": [
    "A, S, error = nmfrk(X, k = 3, niter = 100, kacziter = 1000, reinit = 1)\n",
    "\n",
    "approx = np.matmul(A, S)\n",
    "#print(X)\n",
    "print(A)\n",
    "print(S)\n",
    "#print(np.round(approx, 2))\n",
    "print(np.linalg.norm(X - approx) / np.linalg.norm(X))\n",
    "plt.plot(error)\n",
    "plt.title(\"Relative error vs Iteration\")\n",
    "plt.ylabel(\"Relative error\")\n",
    "plt.xlabel(\"Iteration\")\n",
    "plt.show()"
   ]
  },
  {
   "cell_type": "markdown",
   "metadata": {},
   "source": [
    "We can start to notice that RK is more inclined to have negative entries, which further increases the error as other entries grow larger to compensate. We can address this problem by introducing a nonnegativity constraint."
   ]
  },
  {
   "cell_type": "markdown",
   "metadata": {},
   "source": [
    "## Option 1: Projection "
   ]
  },
  {
   "cell_type": "markdown",
   "metadata": {},
   "source": [
    "The simplest and easiest method is to project each iteration into the feasible space, which in this case is the nonnegative numbers. We merely need to check whether an element of our iteration result is negative, and set it directly to 0 if so. That is,\n",
    "\n",
    "$$ x_{k,i} = \\max{ \\{ x_{k,i}, 0 \\}} $$"
   ]
  },
  {
   "cell_type": "code",
   "execution_count": 165,
   "metadata": {},
   "outputs": [],
   "source": [
    "def proj(vec, i):\n",
    "    return(np.where(vec < 0, 0, vec))"
   ]
  },
  {
   "cell_type": "code",
   "execution_count": 166,
   "metadata": {},
   "outputs": [],
   "source": [
    "def nmfrk2(data, f, k, niter, kacziter, reinit = 5):\n",
    "    # set to negative one so we can guarantee an update for the first init\n",
    "    finalerror = -1\n",
    "    \n",
    "    # need to compare final error to overall best and store the overall best\n",
    "    seqerror = np.empty(niter)\n",
    "    lowesterror = np.empty(1)\n",
    "    \n",
    "    # store overall best factor matrices\n",
    "    lbest = np.random.rand(data.shape[0], k)\n",
    "    rbest = np.random.rand(k, data.shape[1])\n",
    "    \n",
    "    for l in np.arange(reinit):\n",
    "        # randomly initialize the factor matrices\n",
    "        lfactor = np.random.rand(data.shape[0], k)\n",
    "        rfactor = np.random.rand(k, data.shape[1])\n",
    "        \n",
    "        # outer loop for number of iterations \n",
    "        for i in np.arange(niter):\n",
    "            \n",
    "            # weighted sampling of row and column from data matrix\n",
    "            row = np.random.choice(data.shape[0], p = weightsample(data, 1))\n",
    "            col = np.random.choice(data.shape[1], p = weightsample(data, 0))\n",
    "            \n",
    "            # inner loop for number of RK iterations\n",
    "            for j in np.arange(kacziter):\n",
    "                # sample index for entry of data matrix\n",
    "                kaczrow = np.random.choice(data.shape[0], p = weightsample(data, 1))\n",
    "                kaczcol = np.random.choice(data.shape[1], p = weightsample(data, 0))\n",
    "                # compute RK step\n",
    "                #print(j)\n",
    "                lfactor[row, :] = lfactor[row, :] + (data[row, kaczcol] - np.matmul(lfactor[row, :], rfactor[:, kaczcol])) / (np.linalg.norm(rfactor[:, kaczcol])**2) * rfactor[:, kaczcol] \n",
    "                rfactor[:, col] = rfactor[:, col] + (data[kaczrow, col] - np.matmul(lfactor[kaczrow, :], rfactor[:, col])) / (np.linalg.norm(lfactor[kaczrow, :])**2) * lfactor[kaczrow, :]\n",
    "                #print(lfactor[row, :])\n",
    "                #print(rfactor[:, col])\n",
    "                \n",
    "                # project to feasible space\n",
    "                lfactor[row, :] = f(lfactor[row, :], j+1)\n",
    "                rfactor[:, col] = f(rfactor[:, col], j+1)\n",
    "                #print(lfactor[row, :])\n",
    "                #print(rfactor[:, col])\n",
    "                \n",
    "            # calculate error after update\n",
    "            seqerror[i] = np.linalg.norm(data - np.matmul(lfactor, rfactor)) / np.linalg.norm(data)\n",
    "        # update after first init\n",
    "        if (finalerror == -1):\n",
    "            lowesterror = seqerror\n",
    "            lbest = lfactor\n",
    "            rbest = rfactor\n",
    "        # if not first, only update if final error is lower than overall best\n",
    "        elif (finalerror > seqerror[niter - 1]):\n",
    "            finalerror = seqerror[niter - 1]\n",
    "            lowesterror = seqerror\n",
    "            lbest = lfactor\n",
    "            rbest = rfactor\n",
    "    return(lbest, rbest, lowesterror)"
   ]
  },
  {
   "cell_type": "code",
   "execution_count": 168,
   "metadata": {
    "scrolled": false
   },
   "outputs": [
    {
     "name": "stdout",
     "output_type": "stream",
     "text": [
      "[[ 0.   0.   0.   0.   0.   0.   0.   0.   0.   0. ]\n",
      " [ 0.   5.   0.   0.   5.   0.   0.   0.   5.   0. ]\n",
      " [ 9.  14.   0.   0.  14.   9.   9.   9.  14.   0. ]\n",
      " [ 5.  11.   0.   0.  11.   5.   5.   5.  11.   0. ]\n",
      " [ 3.   9.   0.   0.   9.   3.   3.   3.   9.   0. ]\n",
      " [ 2.  12.   0.   3.  12.   2.   2.   5.   9.   0. ]\n",
      " [ 1.   7.   0.   2.   7.   1.   1.   3.   5.   0. ]\n",
      " [ 0.   3.   0.   1.   3.   0.   0.   1.   2.   0. ]\n",
      " [ 0.   2.   0.   1.   2.   0.   0.   1.   1.   0. ]\n",
      " [ 0.   0.5  0.   0.   0.5  0.   0.   0.   0.5  0. ]\n",
      " [ 0.   0.   0.   0.   0.   0.   0.   0.   0.   0. ]\n",
      " [ 0.   0.   0.   0.   0.   0.   0.   0.   0.   0. ]]\n",
      "[[ 0.5 10.7  0.6  3.  11.   0.5  0.5  0.5 11.   0.8]\n",
      " [ 0.   5.1  0.2  1.3  5.   0.   0.   0.1  5.   0.3]\n",
      " [ 8.7 13.9  4.1  7.7 20.4  8.8  8.9  8.7 14.4  3.8]\n",
      " [ 4.9 11.   2.5  5.2 14.6  4.9  5.   5.2 11.   2.3]\n",
      " [ 3.   6.8  1.4  3.2  9.   3.   3.   2.9  7.1  1.4]\n",
      " [ 2.  11.6  1.9  4.2 12.4  1.9  2.   5.   8.3  1.1]\n",
      " [ 1.   7.1  1.1  2.5  7.4  1.   1.   3.   4.9  0.6]\n",
      " [ 0.   3.2  0.3  0.9  3.   0.   0.   0.9  2.2  0.1]\n",
      " [ 0.   2.1  0.3  0.6  1.9  0.   0.   1.   1.   0. ]\n",
      " [ 0.   0.6  0.   0.2  0.6  0.   0.   0.   0.6  0. ]\n",
      " [ 0.9  1.7  0.5  0.9  2.3  0.9  0.9  1.3  1.3  0.4]\n",
      " [ 0.8  4.1  0.7  1.5  4.5  0.8  0.8  1.7  3.1  0.4]]\n",
      "0.5325024755345092\n"
     ]
    },
    {
     "data": {
      "text/plain": [
       "Text(0.5,0,'Iteration')"
      ]
     },
     "execution_count": 168,
     "metadata": {},
     "output_type": "execute_result"
    },
    {
     "data": {
      "image/png": "[encoded data removed]",
      "text/plain": [
       "<Figure size 432x288 with 1 Axes>"
      ]
     },
     "metadata": {
      "needs_background": "light"
     },
     "output_type": "display_data"
    }
   ],
   "source": [
    "#np.random.seed(1)\n",
    "A, S, error = nmfrk2(X, proj, k = 3, niter = 100, kacziter = 1000, reinit = 1)\n",
    "\n",
    "approx = np.matmul(A, S)\n",
    "print(X)\n",
    "print(np.round(approx, 1))\n",
    "print(np.linalg.norm(X - approx) / np.linalg.norm(X))\n",
    "plt.plot(error)\n",
    "plt.title(\"Relative error vs Iteration\")\n",
    "plt.ylabel(\"Relative error\")\n",
    "plt.xlabel(\"Iteration\")\n",
    "plt.show()"
   ]
  },
  {
   "cell_type": "markdown",
   "metadata": {},
   "source": [
    "## Option 2: \"Soft\" Projection"
   ]
  },
  {
   "cell_type": "markdown",
   "metadata": {},
   "source": [
    "Because a direct projection failed to work, we can try a \"soft\" projection where negative entries are sent to a negative value very close to zero. This way a full row or column of negative entries won't cause any computational errors. This can either be done by assigning to a constant or a value dependent on iteration count. That is\n",
    "\n",
    "$$ x_{k,i} = \\max{ \\{ x_{k,i}, -c \\}} \\text{,  } c << 10^{-3} \\textbf{  or} $$\n",
    "$$ x_{k,i} = \\max{ \\{ x_{k,i}, -\\frac{1}{\\sqrt{j}} \\}},  j^{th} \\text{ iteration}$$"
   ]
  },
  {
   "cell_type": "code",
   "execution_count": 170,
   "metadata": {},
   "outputs": [],
   "source": [
    "def softprojc(vec, i, c = -1e-5):\n",
    "    return(np.where(vec < c, c, vec))\n",
    "def softproji(vec, i):\n",
    "    return(np.where(vec < 0, (-1 / np.sqrt(i)), vec))"
   ]
  },
  {
   "cell_type": "code",
   "execution_count": 173,
   "metadata": {},
   "outputs": [
    {
     "name": "stdout",
     "output_type": "stream",
     "text": [
      "[[ 0.66379465  0.51488911  0.94459476]\n",
      " [-0.00001     0.2382541  -0.00001   ]\n",
      " [ 4.20307538  1.68335524 -0.00001   ]\n",
      " [ 2.4634237   2.76714622  0.82926235]\n",
      " [ 1.47609624  1.22003238  0.18601832]\n",
      " [ 0.78468864  1.63591619  1.29690273]\n",
      " [ 0.39246717  0.62654492  1.26516088]\n",
      " [-0.00001     0.61621383  0.59444764]\n",
      " [ 0.00434291  0.1434014   0.65839425]\n",
      " [ 0.57838961  0.4081368   0.23702698]\n",
      " [ 0.90337952  0.57367949  0.00287033]\n",
      " [ 0.61714491  0.3266449   0.5270581 ]]\n",
      "[[ 1.76860446  0.02723516  0.90853515  0.09933065 -0.00001     2.12052261\n",
      "   2.0599196   0.90284063 -0.00001     0.13713575]\n",
      " [ 0.28217887  7.25398884  0.06600017  0.08271308  7.33535181  0.05185174\n",
      "   0.17690263  1.95266772  7.0246585   0.02621099]\n",
      " [ 0.24246129  1.45756064  0.86002795  1.59649392 -0.00001     0.1248185\n",
      "   0.07445238  1.12415005 -0.00001     0.96959575]]\n",
      "0.5102437822176358\n"
     ]
    },
    {
     "data": {
      "text/plain": [
       "Text(0.5,0,'Iteration')"
      ]
     },
     "execution_count": 173,
     "metadata": {},
     "output_type": "execute_result"
    },
    {
     "data": {
      "image/png": "[encoded data removed]",
      "text/plain": [
       "<Figure size 432x288 with 1 Axes>"
      ]
     },
     "metadata": {
      "needs_background": "light"
     },
     "output_type": "display_data"
    }
   ],
   "source": [
    "np.random.seed(1)\n",
    "A, S, error = nmfrk2(X, softprojc, k = 3, niter = 100, kacziter = 1000, reinit = 1)\n",
    "\n",
    "approx = np.matmul(A, S)\n",
    "#print(X)\n",
    "print(A)\n",
    "print(S)\n",
    "#print(np.round(approx, 1))\n",
    "print(np.linalg.norm(X - approx) / np.linalg.norm(X))\n",
    "\n",
    "plt.plot(error)\n",
    "plt.title(\"Relative error vs Iteration\")\n",
    "plt.ylabel(\"Relative error\")\n",
    "plt.xlabel(\"Iteration\")\n",
    "plt.show()"
   ]
  },
  {
   "cell_type": "code",
   "execution_count": 174,
   "metadata": {},
   "outputs": [
    {
     "name": "stdout",
     "output_type": "stream",
     "text": [
      "[[ 0.   0.   0.   0.   0.   0.   0.   0.   0.   0. ]\n",
      " [ 0.   5.   0.   0.   5.   0.   0.   0.   5.   0. ]\n",
      " [ 9.  14.   0.   0.  14.   9.   9.   9.  14.   0. ]\n",
      " [ 5.  11.   0.   0.  11.   5.   5.   5.  11.   0. ]\n",
      " [ 3.   9.   0.   0.   9.   3.   3.   3.   9.   0. ]\n",
      " [ 2.  12.   0.   3.  12.   2.   2.   5.   9.   0. ]\n",
      " [ 1.   7.   0.   2.   7.   1.   1.   3.   5.   0. ]\n",
      " [ 0.   3.   0.   1.   3.   0.   0.   1.   2.   0. ]\n",
      " [ 0.   2.   0.   1.   2.   0.   0.   1.   1.   0. ]\n",
      " [ 0.   0.5  0.   0.   0.5  0.   0.   0.   0.5  0. ]\n",
      " [ 0.   0.   0.   0.   0.   0.   0.   0.   0.   0. ]\n",
      " [ 0.   0.   0.   0.   0.   0.   0.   0.   0.   0. ]]\n",
      "[[ 1.1  6.3  1.4  1.   3.7  1.3  1.2  2.3  3.2  1. ]\n",
      " [ 0.   4.9  1.   0.8  2.1  0.3  0.1 -0.2  1.8  1.1]\n",
      " [ 8.6  7.5  5.3  0.7 10.2  9.   8.3  8.4 12.   0.8]\n",
      " [ 4.2 17.5  5.3  2.5 11.   5.2  4.5  3.8 11.   3.5]\n",
      " [ 3.   9.2  3.1  1.3  6.4  3.5  3.1  2.8  6.6  1.7]\n",
      " [ 2.  23.   4.4  3.7 12.   2.9  2.4  6.9  9.5  3.9]\n",
      " [ 0.8  7.3  1.3  1.2  4.   1.   0.9  3.   3.   1.1]\n",
      " [ 0.2  5.1  0.1  1.   2.8  0.1  0.2  5.5  0.9  0. ]\n",
      " [ 0.   2.   0.2  0.4  0.9  0.   0.   1.   0.5  0.2]\n",
      " [ 0.9  2.9  0.8  0.4  2.   1.   0.9  1.9  1.8  0.3]\n",
      " [ 1.4  2.7  0.9  0.4  2.4  1.4  1.4  2.9  2.2  0.1]\n",
      " [ 1.   4.   1.   0.6  2.6  1.1  1.   1.8  2.3  0.6]]\n",
      "0.5081891210632986\n"
     ]
    },
    {
     "data": {
      "text/plain": [
       "Text(0.5,0,'Iteration')"
      ]
     },
     "execution_count": 174,
     "metadata": {},
     "output_type": "execute_result"
    },
    {
     "data": {
      "image/png": "[encoded data removed]",
      "text/plain": [
       "<Figure size 432x288 with 1 Axes>"
      ]
     },
     "metadata": {
      "needs_background": "light"
     },
     "output_type": "display_data"
    }
   ],
   "source": [
    "np.random.seed(1)\n",
    "A, S, error = nmfrk2(X, softproji, k = 3, niter = 100, kacziter = 1000, reinit = 1)\n",
    "\n",
    "approx = np.matmul(A, S)\n",
    "print(X)\n",
    "print(np.round(approx, 1))\n",
    "print(np.linalg.norm(X - approx) / np.linalg.norm(X))\n",
    "\n",
    "plt.plot(error)\n",
    "plt.title(\"Relative error vs Iteration\")\n",
    "plt.ylabel(\"Relative error\")\n",
    "plt.xlabel(\"Iteration\")\n",
    "plt.show()"
   ]
  },
  {
   "cell_type": "markdown",
   "metadata": {},
   "source": [
    "## Option 3: Line search "
   ]
  },
  {
   "cell_type": "markdown",
   "metadata": {},
   "source": [
    "One more option to ensure nonnegativity is to perform a line search along the orthogonal projection during a typical RK step. This allows us to \"backtrack\" until we're left with all nonnegative entries, which is more natural than a projection of all negative entries. We can achieve this by finding the most negative entry and adjusting the step size taken such that it equals zero. This ensures the rest of the entries will be nonnegative. \n",
    "\n",
    "Just as before, suppose we are solving the linear system \n",
    "\n",
    "$$ x_{:,i} \\approx As_{:,i}$$\n",
    "\n",
    "However, rather than using the fixed step size for RK, we can set our step size $\\gamma$ to be \n",
    "\n",
    "$$ \\gamma = \\min \\{ \\frac{x_{k,i} - a_{k,:}^Ts_{:,i}}{\\lvert\\lvert{a_{k,:}}\\rvert\\rvert ^2}, \\underset{j \\in \\{1,...,n\\}}{\\operatorname{argmin}} \\{ \\operatorname{sgn}{(\\frac{x_{k,i} - a_{k,:}^Ts_{:,i}}{\\lvert\\lvert{a_{k,:}}\\rvert\\rvert ^2})}\\frac{s_{i,j}}{a_{k,j}} \\} \\}$$\n",
    "\n"
   ]
  },
  {
   "cell_type": "markdown",
   "metadata": {},
   "source": [
    "$$s_{:,i}^{(j+1)} = s_{:,i}^{(j)} + \\frac{x_{k,i} - a_{k,:}^Ts_{:,i}}{\\lvert\\lvert{a_{k,:}}\\rvert\\rvert ^2}a_{k,:}$$"
   ]
  },
  {
   "cell_type": "markdown",
   "metadata": {},
   "source": [
    "error plots\n",
    "fixed als and rk row sampling, led to greatly improved performance of als\n",
    "fixed kacz index sampling so hard projection does not throw an error and soft projection does not blow up entries \n"
   ]
  }
 ],
 "metadata": {
  "kernelspec": {
   "display_name": "Python 2",
   "language": "python",
   "name": "python2"
  },
  "language_info": {
   "codemirror_mode": {
    "name": "ipython",
    "version": 2
   },
   "file_extension": ".py",
   "mimetype": "text/x-python",
   "name": "python",
   "nbconvert_exporter": "python",
   "pygments_lexer": "ipython2",
   "version": "2.7.16"
  }
 },
 "nbformat": 4,
 "nbformat_minor": 2
}
