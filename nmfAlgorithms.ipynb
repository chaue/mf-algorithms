{
 "cells": [
  {
   "cell_type": "markdown",
   "metadata": {},
   "source": [
    "# Non-negative Matrix Factorization"
   ]
  },
  {
   "cell_type": "markdown",
   "metadata": {},
   "source": [
    "Non-negative matrix factorization (NMF) is a simple yet effective method to decompose a matrix into a product of two non-negative matrices(that is sparse matrices with all non-negative entries). This technique is most commonly used in recommender systems, and was made well known by the Netflix Prize. NMF aims to factor a data matrix $X$ into a product of two matrices:\n",
    "\n",
    "$$X \\approx AS $$\n",
    "\n",
    "where $X$ is a $n \\times m$ matrix, $A$ is a $n \\times k$ matrix, and $S$ is a $k \\times m$ matrix. $k$ is usually provided by the user, and symbolizes the number of distinct \"factors\" in the data. For example, if our data was the total productivity of a group of factories per hour for the past week, the number of factors $k$ would be the number of factories. Without prior knowledge the number of factors would be harder to pinpoint, and would have to be chosen using cross validation or something similar\n",
    "\n",
    "It's important to note that this problem does not have a unique solution, and we could end up with many different combinations of $A$ and $S$ that multiply to get a decent approximation of $X$. Even more, each pair of $A$ and $S$ can be scaled by any real number $\\alpha$ and $\\frac{1}{\\alpha}$ respectively to yield an infinite number of pairs. "
   ]
  },
  {
   "cell_type": "markdown",
   "metadata": {},
   "source": [
    "## Alternating Least Squares"
   ]
  },
  {
   "cell_type": "markdown",
   "metadata": {},
   "source": [
    "The natural question to ask now is how to determine $A$ and $S$ when given $X$ and $k$. One relatively simple method is to use alternating least squares, which is a generalization of the least squares method for simple linear regression. In simple linear regression, the goal is to solve the following equation for $x$:\n",
    "\n",
    "$$ Ax = b \\implies A^TAx = A^Tb \\implies x = (A)^{\\dagger}b\\$$\n",
    "\n",
    "This can be generalized for a product of matrices by picking a random $i^{th}$ column of $X$ and $S$, which we will denote $x_{:,i}$ and $s_{:,i}$, fixing $A$, and solving for $s_{:,i}$. Then by our previous equation $X \\approx AS$ we have \n",
    "\n",
    "$$ x_{:,i} \\approx As_{:,i}$$\n",
    "This yields the following update rule:\n",
    "\n",
    "$$ s_{:,i} := (A)^{\\dagger}x_{:,i}$$\n",
    "\n",
    "However, since we also want to solve for $A$ we need to sample a column of $A$ and fix $S$. To get the same linear form we do the following:\n",
    "\n",
    "$$x_{i,:} \\approx a_{i,:}S \\implies x_{i,:}^T \\approx S^Ta_{i,:}^T$$\n",
    "\n",
    "We switch to updating the rows of $A$ rather than the columns due to dimensionality, and get the following update rule:\n",
    "\n",
    "$$ a_{i,:}^T = (SS^T)^{-1}Sx_{i,:}^T $$\n",
    "\n",
    "We then repeat these updates until convergence or the number of iterations is fulfilled. "
   ]
  },
  {
   "cell_type": "code",
   "execution_count": 2,
   "metadata": {},
   "outputs": [],
   "source": [
    "import numpy as np\n",
    "import matplotlib.pyplot as plt"
   ]
  },
  {
   "cell_type": "code",
   "execution_count": 59,
   "metadata": {},
   "outputs": [
    {
     "name": "stdout",
     "output_type": "stream",
     "text": [
      "[[ 0.   0.   0.   0.   0.   0.   0.   0.   0.   0. ]\n",
      " [ 0.   5.   0.   0.   5.   0.   0.   0.   5.   0. ]\n",
      " [ 9.  14.   0.   0.  14.   9.   9.   9.  14.   0. ]\n",
      " [ 5.  11.   0.   0.  11.   5.   5.   5.  11.   0. ]\n",
      " [ 3.   9.   0.   0.   9.   3.   3.   3.   9.   0. ]\n",
      " [ 2.  12.   0.   3.  12.   2.   2.   5.   9.   0. ]\n",
      " [ 1.   7.   0.   2.   7.   1.   1.   3.   5.   0. ]\n",
      " [ 0.   3.   0.   1.   3.   0.   0.   1.   2.   0. ]\n",
      " [ 0.   2.   0.   1.   2.   0.   0.   1.   1.   0. ]\n",
      " [ 0.   0.5  0.   0.   0.5  0.   0.   0.   0.5  0. ]\n",
      " [ 0.   0.   0.   0.   0.   0.   0.   0.   0.   0. ]\n",
      " [ 0.   0.   0.   0.   0.   0.   0.   0.   0.   0. ]]\n"
     ]
    }
   ],
   "source": [
    "np.random.seed(1)\n",
    "col1 = np.array([[0, 0, 9, 5, 3, 2, 1, 0, 0, 0, 0, 0]])\n",
    "col2 = np.array([[0, 0, 0, 0, 0, 3, 2, 1, 1, 0, 0, 0]])\n",
    "col3 = np.array([[0, 5, 5, 6, 6, 7, 4, 2, 1, 0.5, 0, 0]])\n",
    "\n",
    "factors = np.vstack((col1, col2, col3)).T\n",
    "weights = np.random.randint(0, 2, size=(3, 10))\n",
    "\n",
    "X = np.matmul(factors, weights)\n",
    "print(X)"
   ]
  },
  {
   "cell_type": "code",
   "execution_count": 5,
   "execution_count": 65,
   "metadata": {},
   "outputs": [],
   "source": [
    "def nmfals(data, k, niter, reinit = 5):\n",
    "    # set to negative one so we can guarantee an update for the first init\n",
    "    finalerror = -1\n",
    "    \n",
    "    # need to compare final error to overall best and store the overall best\n",
    "    seqerror = np.empty(niter)\n",
    "    lowesterror = np.empty(1)\n",
    "    \n",
    "    # store overall best factor matrices\n",
    "    lbest = np.random.rand(data.shape[0], k)\n",
    "    rbest = np.random.rand(k, data.shape[1])\n",
    "    \n",
    "    for j in np.arange(reinit):\n",
    "        # randomly initialize the factor matrices\n",
    "        lfactor = np.random.rand(data.shape[0], k)\n",
    "        rfactor = np.random.rand(k, data.shape[1])\n",
    "\n",
    "        for i in np.arange(niter):\n",
    "            rowcol = np.random.randint(k)\n",
    "            rfactor[:, rowcol] = np.matmul(np.linalg.pinv(lfactor), data[:, rowcol])\n",
    "            lfactor[rowcol, :] = np.matmul(data[rowcol, :], np.matmul(rfactor.T, np.linalg.inv(np.matmul(rfactor, rfactor.T))))\n",
    "            seqerror[i] = np.linalg.norm(data - np.matmul(lfactor, rfactor)) / np.linalg.norm(data)\n",
    "        # first init\n",
    "        if (finalerror == -1):\n",
    "            lowesterror = seqerror\n",
    "            lbest = lfactor\n",
    "            rbest = rfactor\n",
    "        # if not first, only update if final error is lower than overall best\n",
    "        elif (finalerror > seqerror[niter - 1]):\n",
    "            finalerror = seqerror[niter - 1]\n",
    "            lowesterror = seqerror\n",
    "            lbest = lfactor\n",
    "            rbest = rfactor\n",
    "    return(lbest, rbest, lowesterror)"
   ]
  },
  {
   "cell_type": "code",
   "execution_count": 71,
   "metadata": {},
   "outputs": [
    {
     "name": "stdout",
     "output_type": "stream",
     "text": [
      "[[ 0.    0.    0.    0.    0.    0.    0.    0.    0.    0.  ]\n",
      " [-0.27  4.96  0.    1.33  0.66  1.47  2.04  1.07  2.38 -0.05]\n",
      " [ 8.92 13.85  0.    6.67  5.13  9.12 11.73  8.94 11.47  2.53]\n",
      " [ 2.45  6.63  0.    0.56  0.45  0.9   1.45  0.76  1.08  1.16]\n",
      " [ 2.45  8.72  0.    0.43  0.28  0.69  1.31  0.44  0.9   1.33]\n",
      " [ 0.72  3.16  0.    0.45  0.28  0.58  0.87  0.46  0.82  0.36]\n",
      " [ 0.43  2.91  0.    0.23  0.1   0.27  0.49  0.14  0.45  0.29]\n",
      " [ 1.52  6.55  0.    0.77  0.47  1.02  1.59  0.77  1.44  0.79]\n",
      " [ 2.09  4.58  0.    0.41  0.38  0.7   1.1   0.65  0.77  0.93]\n",
      " [ 0.6   2.38  0.    0.5   0.32  0.64  0.9   0.54  0.89  0.26]\n",
      " [ 0.56  2.65  0.    0.33  0.19  0.42  0.66  0.32  0.61  0.3 ]\n",
      " [ 1.44  5.17  0.    0.55  0.36  0.76  1.21  0.6   1.03  0.72]]\n",
      "[0.92047267 0.77038192 0.71185494 0.70897452 0.70752874 0.70630165\n",
      " 0.70583554 0.70575029 0.70454301 0.7035414  0.7035414  0.70279874\n",
      " 0.70271886 0.70271856 0.70269855 0.70269855 0.70269855 0.70269855\n",
      " 0.70203482 0.70199103 0.70199103 0.70199103 0.70137067 0.70137067\n",
      " 0.70137067 0.70085118 0.70081072 0.70032557 0.70032557 0.7002881\n",
      " 0.70025384 0.70021872 0.69982185 0.69982185 0.69944423 0.69939377\n",
      " 0.69910426 0.69909771 0.69880177 0.69858694 0.69840838 0.6982596\n",
      " 0.69814099 0.69804128 0.69797265 0.69783132 0.69776741 0.6977617\n",
      " 0.69768395 0.69768395 0.69768395 0.697678   0.69754527 0.69749039\n",
      " 0.69741995 0.69741995 0.69741995 0.69741585 0.69741467 0.69741401\n",
      " 0.69741242 0.6974107  0.69741051 0.69741041 0.69740932 0.69728188\n",
      " 0.69721726 0.69716526 0.69712194 0.69706944 0.69698365 0.69695261\n",
      " 0.69692706 0.69687362 0.69685108 0.69684825 0.6967787  0.69672898\n",
      " 0.69668095 0.69668095 0.69666285 0.6966136  0.69661308 0.6965505\n",
      " 0.6965505  0.6965505  0.69653804 0.69652791 0.69651952 0.69647059\n",
      " 0.69647011 0.69647011 0.69646858 0.6964143  0.6964143  0.6964143\n",
      " 0.69640732 0.69640174 0.69635492 0.69635001]\n"
     ]
    }
   ],
   "source": [
    "np.random.seed(1)\n",
    "A, S, error = nmfals(X, 3, 100, 10)\n",
    "print(np.round(np.matmul(A,S), 2))\n",
    "print(error)"
   ]
  },
  {
   "cell_type": "code",
   "execution_count": 50,
   "metadata": {},
   "outputs": [
    {
     "name": "stdout",
     "output_type": "stream",
     "text": [
      "[[ 0.000e+00  0.000e+00  0.000e+00  0.000e+00  0.000e+00  0.000e+00\n",
      "   0.000e+00  0.000e+00  0.000e+00  0.000e+00]\n",
      " [-2.000e-02  4.980e+00  0.000e+00  2.000e-02  5.010e+00  1.000e-02\n",
      "   2.000e-02 -1.000e-02  5.020e+00  3.000e-02]\n",
      " [ 8.990e+00  1.398e+01  0.000e+00  3.000e-02  1.402e+01  9.040e+00\n",
      "   9.010e+00  8.970e+00  1.400e+01  7.000e-02]\n",
      " [ 5.020e+00  1.103e+01  0.000e+00  8.000e-02  1.107e+01  5.070e+00\n",
      "   5.060e+00  5.070e+00  1.102e+01  5.000e-02]\n",
      " [ 3.010e+00  9.010e+00  0.000e+00  7.000e-02  9.050e+00  3.050e+00\n",
      "   3.050e+00  3.060e+00  9.010e+00  5.000e-02]\n",
      " [ 2.000e+00  1.199e+01  0.000e+00  3.070e+00  1.204e+01  2.070e+00\n",
      "   2.070e+00  5.060e+00  9.030e+00  5.000e-02]\n",
      " [ 1.000e+00  7.000e+00  0.000e+00  2.040e+00  7.030e+00  1.040e+00\n",
      "   1.040e+00  3.030e+00  5.020e+00  3.000e-02]\n",
      " [ 0.000e+00  3.010e+00  0.000e+00  1.020e+00  3.020e+00  2.000e-02\n",
      "   3.000e-02  1.020e+00  2.020e+00  1.000e-02]\n",
      " [ 0.000e+00  2.010e+00  0.000e+00  1.020e+00  2.020e+00  2.000e-02\n",
      "   2.000e-02  1.020e+00  1.020e+00  1.000e-02]\n",
      " [ 0.000e+00  5.100e-01  0.000e+00  1.000e-02  5.100e-01  0.000e+00\n",
      "   0.000e+00  0.000e+00  5.100e-01  0.000e+00]\n",
      " [ 0.000e+00  1.000e-02  0.000e+00  0.000e+00  1.000e-02  0.000e+00\n",
      "   0.000e+00  1.000e-02  1.000e-02  0.000e+00]\n",
      " [ 1.000e-02  2.000e-02  0.000e+00  1.000e-02  2.000e-02  1.000e-02\n",
      "   1.000e-02  1.000e-02  1.000e-02  0.000e+00]]\n",
      "('Relative error: ', 0.00658619966907564)\n"
     ]
    }
   ],
   "source": [
    "np.random.seed(1)\n",
    "k = 3\n",
    "niter = 10000\n",
    "#A = np.random.rand(12, 3)\n",
    "#S = np.random.rand(3, 10)\n",
    "A = factors + 0.01*np.random.rand(12, 3)\n",
    "S = weights + 0.01*np.random.rand(3, 10)\n",
    "\n",
    "#print(S)\n",
    "\n",
    "for i in np.arange(niter):\n",
    "    rowcol = np.random.randint(k)\n",
    "    S[:, rowcol] = np.matmul(np.linalg.pinv(A), X[:, rowcol])\n",
    "    A[rowcol, :] = np.matmul(X[rowcol, :], np.matmul(S.T, np.linalg.inv(np.matmul(S, S.T))))\n",
    "\n",
    "approx = np.matmul(A, S)\n",
    "#print(X)\n",
    "print(np.round(approx, 2))\n",
    "print(\"Relative error: \", np.linalg.norm(X - approx) / np.linalg.norm(X))"
   ]
  },
  {
   "cell_type": "markdown",
   "metadata": {},
   "source": [
    "While the factorized $A$ and $S$ don't form a matrix that matches $X$ closely, it did preserve the row and column of zeros that were present in $X$. This is to be expected, as there are many different factorizations of X. One thing to note is we use the relative error to judge the quality of our approximation, which is the Frobenius norm of the difference between our original data matrix $X$ and the approximation $AS$ divided by the Frobenius norm of $X$."
   ]
  },
  {
   "cell_type": "markdown",
   "metadata": {},
   "source": [
    "## Randomized Kaczmarz Method"
   ]
  },
  {
   "cell_type": "markdown",
   "metadata": {},
   "source": [
    "We saw previously that the algorithm to factorize $X$ has two main parts, one to pick our matrix column and row indices and one to take an iterative step towards the local optimum. The iterative step gives us the freedom to choose our favorite method to solve for $A$ and $S$, and rather than doing a traditional least squares method we can try applying the Randomized Kaczmarz(RK) method instead. This iterative step takes our randomly chosen row/column of either $A$ or $S$ and projects it towards the local optimum(project it towards the corresponding row/column of $X$?). \n",
    "\n",
    "Our current system $AS = X$ is reduced to $As_{:,i} = x_{:,i}$ when a column is sampled. Our RK iterative step then samples a row of $A$ and corresponding entry $k$ of $s_{:,i}$ and would then be the following:\n",
    "\n",
    "$$x_{k,i}^{(j+1)} = x_{k,i}^{(j)} + \\frac{x_{k,i} - a_{k,:}^Ts_{k,i}}{\\lvert\\lvert{a_{k,:}}\\rvert\\rvert ^2}a_{k,:}$$\n",
    "\n",
    "Note that $j$ represents the current iteration of our RK method. This value can be explicitly chosen, making it an additional parameter in this algorithm. If we sampled a row of $S$ rather than a column of $A$, each step would instead be the following:\n",
    "\n",
    "$$ $$\n",
    "\n",
    "To summarize, we start by randomly sampling a row/column to reduce to a linear system(as usual). We then proceed to take RK steps, with each step sampling a random row and entry and updating. The number of steps before resampling our linear system can be provided as a parameter. "
   ]
  },
  {
   "cell_type": "code",
   "execution_count": 7,
   "metadata": {},
   "outputs": [
    {
     "data": {
      "text/plain": [
       "array([[0. , 0. , 0. ],\n",
       "       [0. , 0. , 5. ],\n",
       "       [9. , 0. , 5. ],\n",
       "       [5. , 0. , 6. ],\n",
       "       [3. , 0. , 6. ],\n",
       "       [2. , 3. , 7. ],\n",
       "       [1. , 2. , 4. ],\n",
       "       [0. , 1. , 2. ],\n",
       "       [0. , 1. , 1. ],\n",
       "       [0. , 0. , 0.5],\n",
       "       [0. , 0. , 0. ],\n",
       "       [0. , 0. , 0. ]])"
      ]
     },
     "execution_count": 7,
     "metadata": {},
     "output_type": "execute_result"
    }
   ],
   "source": [
    "np.random.seed(1)\n",
    "k = 3\n",
    "niter = 10000\n",
    "A = np.random.rand(12, 3)\n",
    "S = np.random.rand(3, 10)\n",
    "#print(S)\n",
    "\n",
    "kacziters = 1\n",
    "for i in np.arange(niter):\n",
    "    rowcol = np.random.randint(k)\n",
    "    for i in arange(kacziters):\n",
    "        kaczind = np.random.randint(len(X[, rowcol]))\n",
    "        S[:, rowcol] = S[:, rowcol] + (np.linalg.norm(A[:, kaczind])**2) * (X[kaczind, rowcol] - np.matmul(A[kaczind, :], S[:, rowcol])) * A[kaczind, :]\n",
    "        A[rowcol, :] = \n",
    "\n",
    "approx = np.matmul(A, S)\n",
    "print(X)\n",
    "print(np.round(approx, 2))\n",
    "print(np.linalg.norm(X - approx) / np.linalg.norm(X))"
   ]
  },
  {
   "cell_type": "code",
   "execution_count": null,
   "metadata": {},
   "outputs": [],
   "source": []
  },
  {
   "cell_type": "code",
   "execution_count": null,
   "metadata": {},
   "outputs": [],
   "source": []
  },
  {
   "cell_type": "code",
   "execution_count": null,
   "metadata": {},
   "outputs": [],
   "source": []
  },
  {
   "cell_type": "code",
   "execution_count": null,
   "metadata": {},
   "outputs": [],
   "source": []
  },
  {
   "cell_type": "code",
   "execution_count": null,
   "metadata": {},
   "outputs": [],
   "source": []
  },
  {
   "cell_type": "code",
   "execution_count": null,
   "metadata": {},
   "outputs": [],
   "source": []
  }
 ],
 "metadata": {
  "kernelspec": {
   "display_name": "Python 2",
   "language": "python",
   "name": "python2"
  },
  "language_info": {
   "codemirror_mode": {
    "name": "ipython",
    "version": 2
   },
   "file_extension": ".py",
   "mimetype": "text/x-python",
   "name": "python",
   "nbconvert_exporter": "python",
   "pygments_lexer": "ipython2",
   "version": "2.7.16"
  }
 },
 "nbformat": 4,
 "nbformat_minor": 2
}
