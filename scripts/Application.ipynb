{
 "cells": [
  {
   "cell_type": "code",
   "execution_count": 2,
   "metadata": {},
   "outputs": [],
   "source": [
    "import numpy as np\n",
    "import pandas as pd\n",
    "import scipy.sparse \n",
    "import multiprocessing as mp\n",
    "import glob\n",
    "import re\n",
    "import time, timeit\n",
    "import matplotlib.pyplot as plt\n",
    "import sys\n",
    "import random\n",
    "import os\n",
    "sys.path.insert(1, '../src/mf_algorithms')\n",
    "\n",
    "from functions import *"
   ]
  },
  {
   "cell_type": "markdown",
   "metadata": {},
   "source": [
    "## Load and format data"
   ]
  },
  {
   "cell_type": "markdown",
   "metadata": {},
   "source": [
    "The following dataset was found on a lab website from UCSD: https://cseweb.ucsd.edu/~jmcauley/datasets.html\n",
    "\n",
    "Specifically, I went with the dataset of Amazon gift card purchases(a subset of their Amazon dataset), which was relatively smaller than some of the other datasets at only 147,136 rows.\n",
    "\n",
    "The dataset is originally read into a dataframe from a csv file, which was pivoted after removing duplicates and then casted into a matrix. It is (expectedly) extremely sparse."
   ]
  },
  {
   "cell_type": "code",
   "execution_count": 3,
   "metadata": {},
   "outputs": [
    {
     "data": {
      "text/plain": [
       "(147136, 4)"
      ]
     },
     "execution_count": 3,
     "metadata": {},
     "output_type": "execute_result"
    }
   ],
   "source": [
    "rawdata = pd.read_csv('C:\\\\Users\\\\Edwin\\\\Downloads\\\\Gift_Cards.csv', names=['productid', 'reviewerid', 'rating', 'timestamp'])\n",
    "rawdata = rawdata[-rawdata.duplicated(['productid', 'reviewerid'])]\n",
    "rawdata.shape"
   ]
  },
  {
   "cell_type": "code",
   "execution_count": 12,
   "metadata": {},
   "outputs": [
    {
     "data": {
      "text/plain": [
       "array([[0., 0., 0., ..., 0., 0., 0.],\n",
       "       [0., 0., 0., ..., 0., 0., 0.],\n",
       "       [0., 0., 0., ..., 0., 0., 0.],\n",
       "       ...,\n",
       "       [0., 0., 0., ..., 0., 0., 0.],\n",
       "       [0., 0., 0., ..., 0., 0., 0.],\n",
       "       [0., 0., 0., ..., 0., 0., 0.]])"
      ]
     },
     "execution_count": 12,
     "metadata": {},
     "output_type": "execute_result"
    }
   ],
   "source": [
    "testmat = rawdata.pivot(index = 'reviewerid', columns = 'productid', values = 'rating').fillna(0).values\n",
    "testmat"
   ]
  },
  {
   "cell_type": "markdown",
   "metadata": {},
   "source": [
    "## Algorithm Comparison"
   ]
  },
  {
   "cell_type": "markdown",
   "metadata": {},
   "source": [
    "ALS was compared to the fast version of BRK(no weighted sampling was done for the subiteration steps). An arbitrary factor dimension of 50 was chosen."
   ]
  },
  {
   "cell_type": "markdown",
   "metadata": {},
   "source": [
    "### ALS "
   ]
  },
  {
   "cell_type": "code",
   "execution_count": 5,
   "metadata": {},
   "outputs": [
    {
     "name": "stdout",
     "output_type": "stream",
     "text": [
      "Wall time: 38.3 s\n"
     ]
    },
    {
     "data": {
      "text/plain": [
       "94.26144505035776"
      ]
     },
     "execution_count": 5,
     "metadata": {},
     "output_type": "execute_result"
    }
   ],
   "source": [
    "%%time\n",
    "A, S, error = mf(testmat, k = 50, s = 1, niter = 100, siter = 1, solver = 'als')\n",
    "error"
   ]
  },
  {
   "cell_type": "code",
   "execution_count": 6,
   "metadata": {},
   "outputs": [
    {
     "name": "stdout",
     "output_type": "stream",
     "text": [
      "Wall time: 2min 45s\n"
     ]
    },
    {
     "data": {
      "text/plain": [
       "83.01018823901303"
      ]
     },
     "execution_count": 6,
     "metadata": {},
     "output_type": "execute_result"
    }
   ],
   "source": [
    "%%time\n",
    "A, S, error = mf(testmat, k = 50, s = 1, niter = 500, siter = 1, solver = 'als')\n",
    "error"
   ]
  },
  {
   "cell_type": "code",
   "execution_count": 7,
   "metadata": {},
   "outputs": [
    {
     "name": "stdout",
     "output_type": "stream",
     "text": [
      "Wall time: 5min 45s\n"
     ]
    },
    {
     "data": {
      "text/plain": [
       "69.80336213665748"
      ]
     },
     "execution_count": 7,
     "metadata": {},
     "output_type": "execute_result"
    }
   ],
   "source": [
    "%%time\n",
    "A, S, error = mf(testmat, k = 50, s = 1, niter = 1000, siter = 1, solver = 'als')\n",
    "error"
   ]
  },
  {
   "cell_type": "markdown",
   "metadata": {},
   "source": [
    "### BRK"
   ]
  },
  {
   "cell_type": "code",
   "execution_count": 11,
   "metadata": {},
   "outputs": [
    {
     "name": "stdout",
     "output_type": "stream",
     "text": [
      "Wall time: 1min 12s\n"
     ]
    },
    {
     "data": {
      "text/plain": [
       "70.58115028044224"
      ]
     },
     "execution_count": 11,
     "metadata": {},
     "output_type": "execute_result"
    }
   ],
   "source": [
    "%%time\n",
    "A, S, error = mf(testmat, k = 50, s = 12500, niter = 1000, siter = 1, solver = 'quickbrk')\n",
    "error"
   ]
  },
  {
   "cell_type": "code",
   "execution_count": 9,
   "metadata": {},
   "outputs": [
    {
     "name": "stdout",
     "output_type": "stream",
     "text": [
      "Wall time: 2min 37s\n"
     ]
    },
    {
     "data": {
      "text/plain": [
       "70.00416029088552"
      ]
     },
     "execution_count": 9,
     "metadata": {},
     "output_type": "execute_result"
    }
   ],
   "source": [
    "%%time\n",
    "A, S, error = mf(testmat, k = 50, s = 25000, niter = 1000, siter = 1, solver = 'quickbrk')\n",
    "error"
   ]
  },
  {
   "cell_type": "code",
   "execution_count": 10,
   "metadata": {},
   "outputs": [
    {
     "name": "stdout",
     "output_type": "stream",
     "text": [
      "Wall time: 5min 35s\n"
     ]
    },
    {
     "data": {
      "text/plain": [
       "69.82047589504444"
      ]
     },
     "execution_count": 10,
     "metadata": {},
     "output_type": "execute_result"
    }
   ],
   "source": [
    "%%time\n",
    "A, S, error = mf(testmat, k = 50, s = 50000, niter = 1000, siter = 1, solver = 'quickbrk')\n",
    "error"
   ]
  },
  {
   "cell_type": "markdown",
   "metadata": {},
   "source": [
    "## Discussion"
   ]
  },
  {
   "cell_type": "markdown",
   "metadata": {},
   "source": [
    "These results suggest that BRK is advantageous over ALS in terms of computational time without much sacrifice to factorization \"quality\". While decreasing the sampling size to one third of the overall row number did not decrease the computational time by much, the relative error stayed more or less the same. Reducing the sampling size to about one sixth(25000) and one twelfth(12500), we can see the relative error increase slightly but the computational time decrease significantly. "
   ]
  }
 ],
 "metadata": {
  "kernelspec": {
   "display_name": "Python 3",
   "language": "python",
   "name": "python3"
  },
  "language_info": {
   "codemirror_mode": {
    "name": "ipython",
    "version": 3
   },
   "file_extension": ".py",
   "mimetype": "text/x-python",
   "name": "python",
   "nbconvert_exporter": "python",
   "pygments_lexer": "ipython3",
   "version": "3.8.3"
  }
 },
 "nbformat": 4,
 "nbformat_minor": 4
}
