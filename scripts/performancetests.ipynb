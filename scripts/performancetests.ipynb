{
 "cells": [
  {
   "cell_type": "code",
   "execution_count": 1,
   "metadata": {},
   "outputs": [],
   "source": [
    "import numpy as np\n",
    "import pandas as pd\n",
    "import scipy.sparse \n",
    "import multiprocessing as mp\n",
    "import glob\n",
    "import re\n",
    "import time, timeit\n",
    "import matplotlib.pyplot as plt\n",
    "import sys\n",
    "import random\n",
    "import os\n",
    "sys.path.insert(1, '../src/mf_algorithms')\n",
    "\n",
    "from functions import *"
   ]
  },
  {
   "cell_type": "code",
   "execution_count": 18,
   "metadata": {},
   "outputs": [],
   "source": [
    "test, f, w = createmat(200, 4, 4)"
   ]
  },
  {
   "cell_type": "code",
   "execution_count": 19,
   "metadata": {},
   "outputs": [
    {
     "name": "stdout",
     "output_type": "stream",
     "text": [
      "0.7143985674907027\n"
     ]
    }
   ],
   "source": [
    "A, S, error = mf(test + 0.0001, k = 4, s = 1, niter = 100, siter = 1, solver = 'als')\n",
    "print(error)"
   ]
  },
  {
   "cell_type": "code",
   "execution_count": 22,
   "metadata": {},
   "outputs": [
    {
     "name": "stdout",
     "output_type": "stream",
     "text": [
      "0.08840758897941849\n"
     ]
    }
   ],
   "source": [
    "A, S, error = mf(test + 0.0001, k = 4, s = 1, niter = 1000, siter = 1, solver = 'als')\n",
    "print(error)"
   ]
  },
  {
   "cell_type": "code",
   "execution_count": 16,
   "metadata": {},
   "outputs": [
    {
     "name": "stdout",
     "output_type": "stream",
     "text": [
      "[0.79712717 0.73823247 0.66691037 0.73003094 0.72746217 0.74265725\n",
      " 0.66754784 0.65711243 0.78289713 0.65494256 0.78105771 0.7566822\n",
      " 0.56421936 0.77411189 0.77974573 0.80643444 0.58898124 0.60252877\n",
      " 0.51197495 0.47440499 0.52940929 0.48884589 0.50101973 0.47126693\n",
      " 0.47580468 0.4437456  0.50105059 0.3723964  0.34063506 0.34432169\n",
      " 0.29372365 0.45040821 0.36513286 0.33467808 0.38575389 0.30328143\n",
      " 0.28540309 0.3025793  0.29486672 0.2990813  0.26400149 0.21828924\n",
      " 0.21587049 0.19709885 0.16530155 0.16460573 0.15026927 0.15050536\n",
      " 0.14124978 0.13870103 0.15063429 0.14965923 0.14100123 0.13613291\n",
      " 0.15134795 0.1489715  0.1602555  0.15915821 0.14037629 0.12749018\n",
      " 0.11865746 0.14948443 0.16654808 0.15894897 0.15329249 0.13920309\n",
      " 0.13269327 0.1491042  0.15701813 0.16207081 0.14993329 0.14786288\n",
      " 0.1436858  0.14041894 0.1351392  0.12585148 0.1195618  0.12027607\n",
      " 0.12393578 0.11416941 0.10091101 0.10050802 0.10022992 0.09136336\n",
      " 0.07007503 0.06619467 0.07816544 0.07822029 0.07958399 0.07465791\n",
      " 0.06383129 0.06561568 0.06253255 0.06086354 0.05905776 0.05760585\n",
      " 0.07023195 0.05713516 0.05500879 0.0537874 ]\n"
     ]
    }
   ],
   "source": [
    "A, S, error = mf(test + 0.0001, k = 4, s = 1, niter = 100, siter = 500, solver = 'brk', errseq = True)\n",
    "print(error)"
   ]
  },
  {
   "cell_type": "code",
   "execution_count": 17,
   "metadata": {},
   "outputs": [
    {
     "name": "stdout",
     "output_type": "stream",
     "text": [
      "[0.81477854 0.81615999 1.88999615 1.86560568 2.29802021 2.29857113\n",
      " 1.5802558  1.71067418 1.78982256 1.70400723 1.68642801 1.68551652\n",
      " 1.66873046 1.66994746 1.60150046 1.60162482 1.26288192 1.2588816\n",
      " 1.23767704 1.22484944 1.22149799 0.91995264 0.92205806 0.47876653\n",
      " 0.46989766 0.47199997 0.49021615 0.47968278 0.49324051 0.31409298\n",
      " 0.31232785 0.30974082 0.31011476 0.2981864  0.29725166 0.29235841\n",
      " 0.26805607 0.25687569 0.25649147 0.26430128 0.26173305 0.297904\n",
      " 0.29689116 0.29662708 0.29520155 0.29847455 0.29015342 0.23276684\n",
      " 0.21862642 0.20676621 0.20564249 0.20743727 0.21679619 0.20673164\n",
      " 0.20538538 0.20641212 0.21656986 0.21453774 0.2090232  0.20108788\n",
      " 0.20102078 0.19503619 0.19377917 0.19373196 0.19254155 0.19260922\n",
      " 0.1904962  0.19043648 0.19038435 0.18704006 0.18629928 0.17492669\n",
      " 0.17865295 0.17612746 0.40722098 0.4067625  0.40423146 0.40053048\n",
      " 0.39991373 0.4001151  0.31118841 0.30612771 0.30543011 0.30435191\n",
      " 0.28328922 0.28344059 0.26290453 0.25578888 0.24318547 0.24451661\n",
      " 0.233113   0.23258473 0.2326902  0.23276582 0.23498829 0.22883685\n",
      " 0.22921789 0.22880107 0.22223081 0.22093125]\n"
     ]
    }
   ],
   "source": [
    "A, S, error = mf(test + 0.0001, k = 4, s = 1, niter = 100, siter = 500, solver = 'bgs', errseq = True)\n",
    "print(error)"
   ]
  },
  {
   "cell_type": "code",
   "execution_count": null,
   "metadata": {},
   "outputs": [],
   "source": []
  },
  {
   "cell_type": "markdown",
   "metadata": {},
   "source": [
    "# Speed Comparisons"
   ]
  },
  {
   "cell_type": "markdown",
   "metadata": {},
   "source": [
    "## RK vs BRK"
   ]
  },
  {
   "cell_type": "code",
   "execution_count": 71,
   "metadata": {},
   "outputs": [
    {
     "data": {
      "text/plain": [
       "0.553175"
      ]
     },
     "execution_count": 71,
     "metadata": {},
     "output_type": "execute_result"
    }
   ],
   "source": [
    "bfactor200 = np.random.choice(4, size=(200,4), p=np.array([0.7, 0.1, 0.1, 0.1]))\n",
    "bweight200 = np.random.randint(0, 2, size=(4, 200))\n",
    "b200 = np.matmul(bfactor200, bweight200)\n",
    "np.count_nonzero(b200 == 0) / (b200.shape[0]*b200.shape[1])"
   ]
  },
  {
   "cell_type": "code",
   "execution_count": 5,
   "metadata": {},
   "outputs": [
    {
     "name": "stdout",
     "output_type": "stream",
     "text": [
      "Wall time: 20.3 s\n"
     ]
    }
   ],
   "source": [
    "%%time\n",
    "error = rktest(b200, k = 4, niter = 100, kacziter = 1000)"
   ]
  },
  {
   "cell_type": "code",
   "execution_count": 6,
   "metadata": {},
   "outputs": [
    {
     "name": "stdout",
     "output_type": "stream",
     "text": [
      "Wall time: 15.5 s\n"
     ]
    }
   ],
   "source": [
    "%%time\n",
    "error = brktest(b200, k = 4, s = 1, niter = 100, kacziter = 1000)"
   ]
  },
  {
   "cell_type": "markdown",
   "metadata": {},
   "source": [
    "## ALS vs BRK"
   ]
  },
  {
   "cell_type": "code",
   "execution_count": 7,
   "metadata": {},
   "outputs": [
    {
     "name": "stdout",
     "output_type": "stream",
     "text": [
      "Wall time: 32.1 s\n"
     ]
    }
   ],
   "source": [
    "%%time\n",
    "error = alstest(b200, k = 4, niter = 100*1000)"
   ]
  },
  {
   "cell_type": "code",
   "execution_count": 8,
   "metadata": {},
   "outputs": [
    {
     "name": "stdout",
     "output_type": "stream",
     "text": [
      "Wall time: 33.8 s\n"
     ]
    }
   ],
   "source": [
    "%%time\n",
    "error = brktest(b200, k = 4, s = 200, niter = 100, kacziter = 1000)"
   ]
  },
  {
   "cell_type": "markdown",
   "metadata": {},
   "source": [
    "# Sparse Tests"
   ]
  },
  {
   "cell_type": "markdown",
   "metadata": {},
   "source": [
    "## 50x50 matrix"
   ]
  },
  {
   "cell_type": "code",
   "execution_count": 7,
   "metadata": {},
   "outputs": [
    {
     "data": {
      "text/plain": [
       "0.5576"
      ]
     },
     "execution_count": 7,
     "metadata": {},
     "output_type": "execute_result"
    }
   ],
   "source": [
    "sfactor50 = np.random.choice(4, size=(50,4), p=np.array([0.7, 0.1, 0.1, 0.1]))\n",
    "sweight50 = np.random.randint(0, 2, size=(4, 50))\n",
    "s50 = np.matmul(sfactor50, sweight50)\n",
    "np.count_nonzero(s50 == 0) / (s50.shape[0]*s50.shape[1])"
   ]
  },
  {
   "cell_type": "markdown",
   "metadata": {},
   "source": [
    "### ALS equivalents"
   ]
  },
  {
   "cell_type": "code",
   "execution_count": 20,
   "metadata": {},
   "outputs": [
    {
     "name": "stdout",
     "output_type": "stream",
     "text": [
      "0.3784563459000275\n",
      "Wall time: 1.06 s\n"
     ]
    }
   ],
   "source": [
    "%%time\n",
    "fname = \"Errors/salserr50.txt\"\n",
    "mpmf(s50, k = 4, s = 50, niter = 100, siter = 1, solver = 'als', filename = fname, loop = 15)\n",
    "salserr50 = np.asarray(read(fname)[:-1]).astype(float)\n",
    "print(np.mean(salserr50))"
   ]
  },
  {
   "cell_type": "code",
   "execution_count": 23,
   "metadata": {},
   "outputs": [
    {
     "name": "stdout",
     "output_type": "stream",
     "text": [
      "0.39936603859292163\n",
      "Wall time: 1.38 s\n"
     ]
    }
   ],
   "source": [
    "%%time\n",
    "fname = \"Errors/sbrkalseqerr50.txt\"\n",
    "brkmp(s50, k = 4, s = 50, niter = 100, kacziter = 1, filename = fname, loop = 15)\n",
    "sbrkalserr50 = np.asarray(read(fname)[:-1]).astype(float)\n",
    "print(np.mean(sbrkalserr50))"
   ]
  },
  {
   "cell_type": "code",
   "execution_count": 26,
   "metadata": {},
   "outputs": [
    {
     "name": "stdout",
     "output_type": "stream",
     "text": [
      "0.711958928738211\n",
      "Wall time: 1.33 s\n"
     ]
    }
   ],
   "source": [
    "%%time\n",
    "fname = \"Errors/sbgsalseqerr50.txt\"\n",
    "mpmf(s50, k = 4, s = 4, niter = 100, siter = 1, solver = 'bgs', filename = fname, loop = 15)\n",
    "sbgsalserr50 = np.asarray(read(fname)[:-1]).astype(float)\n",
    "print(np.mean(sbgsalserr50))"
   ]
  },
  {
   "cell_type": "markdown",
   "metadata": {},
   "source": [
    "### RK"
   ]
  },
  {
   "cell_type": "code",
   "execution_count": 28,
   "metadata": {},
   "outputs": [
    {
     "name": "stdout",
     "output_type": "stream",
     "text": [
      "[1.32033656 1.16974054 1.1184243  1.31583856 1.53457416 1.4444978\n",
      " 1.16550199 1.13395952 1.3042208  1.0923523  1.6465193  1.86268653\n",
      " 2.43920029 1.92523182 1.27917033]\n",
      "Wall time: 1min 48s\n"
     ]
    }
   ],
   "source": [
    "%%time\n",
    "fname = \"Errors/sbrkrkerr50.txt\"\n",
    "mpmf(s50, k = 4, s = 1, niter = 100, siter = 1000, solver = 'brk' filename = fname, loop = 15)\n",
    "sbrk1err50 = np.asarray(read(fname)[:-1]).astype(float)\n",
    "print(sbrk1err50)"
   ]
  },
  {
   "cell_type": "markdown",
   "metadata": {},
   "source": [
    "### GS"
   ]
  },
  {
   "cell_type": "code",
   "execution_count": 9,
   "metadata": {},
   "outputs": [
    {
     "name": "stdout",
     "output_type": "stream",
     "text": [
      "[0.83283803 0.71198204 0.68514397 1.57775247 0.83096064 0.67237971\n",
      " 1.05268476 0.89560588 0.70580511 0.78397336 0.77944866 1.32674111\n",
      " 0.79743416 1.00473809 0.7084457 ]\n",
      "Wall time: 2min 15s\n"
     ]
    }
   ],
   "source": [
    "%%time\n",
    "fname = \"Errors/sgserr50.txt\"\n",
    "mpmf(s50, k = 4, s = 1, niter = 100, siter = 1000, solver = 'bgs', filename = fname, loop = 15)\n",
    "sgserr50 = np.asarray(read(fname)[:-1]).astype(float)\n",
    "print(sgserr50)"
   ]
  },
  {
   "cell_type": "markdown",
   "metadata": {},
   "source": [
    "## 200x200 matrix"
   ]
  },
  {
   "cell_type": "code",
   "execution_count": 49,
   "metadata": {},
   "outputs": [
    {
     "data": {
      "text/plain": [
       "0.53285"
      ]
     },
     "execution_count": 49,
     "metadata": {},
     "output_type": "execute_result"
    }
   ],
   "source": [
    "sfactor200 = np.random.choice(4, size=(200,4), p=np.array([0.7, 0.1, 0.1, 0.1]))\n",
    "sweight200 = np.random.randint(0, 2, size=(4, 200))\n",
    "s200 = np.matmul(sfactor200, sweight200)\n",
    "np.count_nonzero(s200 == 0) / (s200.shape[0]*s200.shape[1])"
   ]
  },
  {
   "cell_type": "markdown",
   "metadata": {},
   "source": [
    "### ALS Equivalents"
   ]
  },
  {
   "cell_type": "code",
   "execution_count": 35,
   "metadata": {},
   "outputs": [
    {
     "name": "stdout",
     "output_type": "stream",
     "text": [
      "0.7040887761909862\n",
      "Wall time: 1.68 s\n"
     ]
    }
   ],
   "source": [
    "%%time\n",
    "fname = \"Errors/salserr200.txt\"\n",
    "alsmp(s200, k = 4, niter = 100, filename = fname, loop = 15)\n",
    "salserr200 = np.asarray(read(fname)[:-1]).astype(float)\n",
    "print(np.mean(salserr200))"
   ]
  },
  {
   "cell_type": "code",
   "execution_count": 36,
   "metadata": {},
   "outputs": [
    {
     "name": "stdout",
     "output_type": "stream",
     "text": [
      "0.7130288751607897\n",
      "Wall time: 3.41 s\n"
     ]
    }
   ],
   "source": [
    "%%time\n",
    "fname = \"Errors/sbrkalseqerr200.txt\"\n",
    "brkmp(s200, k = 4, s = 200, niter = 100, kacziter = 1, filename = fname, loop = 15)\n",
    "sbrkalserr200 = np.asarray(read(fname)[:-1]).astype(float)\n",
    "print(np.mean(sbrkalserr200))"
   ]
  },
  {
   "cell_type": "code",
   "execution_count": 34,
   "metadata": {},
   "outputs": [
    {
     "name": "stdout",
     "output_type": "stream",
     "text": [
      "0.7303242784141906\n",
      "Wall time: 2.59 s\n"
     ]
    }
   ],
   "source": [
    "%%time \n",
    "fname = \"Errors/sbgsalseqerr200.txt\"\n",
    "mpmf(s200, k = 4, s = 4, niter = 100, siter = 1, solver = 'bgs', filename = fname, loop = 15)\n",
    "sbgsalserr200 = np.asarray(read(fname)[:-1]).astype(float)\n",
    "print(np.mean(sbgsalserr200))"
   ]
  },
  {
   "cell_type": "markdown",
   "metadata": {},
   "source": [
    "### RK"
   ]
  },
  {
   "cell_type": "code",
   "execution_count": 12,
   "metadata": {},
   "outputs": [
    {
     "name": "stdout",
     "output_type": "stream",
     "text": [
      "[0.97452689 1.01434426 0.97148068 0.9707538  1.02133006 0.93398514\n",
      " 1.09125834 1.17262868 1.00860981 1.00612739 0.97732044 1.09719713\n",
      " 0.98057376 0.98072695 0.95655076]\n",
      "Wall time: 2min 44s\n"
     ]
    }
   ],
   "source": [
    "%%time\n",
    "fname = \"Errors/srkerr200.txt\"\n",
    "mpmf(s200, k = 4, s = 1, niter = 100, siter = 1000, solver = 'brk', filename = fname, loop = 15)\n",
    "srkerr200 = np.asarray(read(fname)[:-1]).astype(float)\n",
    "print(srkerr200)"
   ]
  },
  {
   "cell_type": "markdown",
   "metadata": {},
   "source": [
    "### GS (changed siter to 100 due to divergence)"
   ]
  },
  {
   "cell_type": "code",
   "execution_count": 53,
   "metadata": {},
   "outputs": [
    {
     "name": "stdout",
     "output_type": "stream",
     "text": [
      "[0.7899988  0.80936449 0.85352801 0.79083664 0.7672503  0.90665165\n",
      " 0.76973343 0.77378501 0.85365175 0.80058141 0.86688861 0.78565461\n",
      " 0.78090919 0.76281759 1.15001167]\n",
      "Wall time: 25.9 s\n"
     ]
    }
   ],
   "source": [
    "%%time\n",
    "fname = \"Errors/sgserr200.txt\"\n",
    "mpmf(s200, k = 4, s = 1, niter = 100, siter = 100, solver = 'bgs', filename = fname, loop = 15)\n",
    "sgserr200 = np.asarray(read(fname)[:-1]).astype(float)\n",
    "print(sgserr200)"
   ]
  },
  {
   "cell_type": "markdown",
   "metadata": {},
   "source": [
    "## 1000x1000 matrix"
   ]
  },
  {
   "cell_type": "code",
   "execution_count": 51,
   "metadata": {},
   "outputs": [
    {
     "data": {
      "text/plain": [
       "0.527955"
      ]
     },
     "execution_count": 51,
     "metadata": {},
     "output_type": "execute_result"
    }
   ],
   "source": [
    "sfactor1k = np.random.choice(4, size=(1000,4), p=np.array([0.7, 0.1, 0.1, 0.1]))\n",
    "sweight1k = np.random.randint(0, 2, size=(4, 1000))\n",
    "s1k = np.matmul(sfactor1k, sweight1k)\n",
    "np.count_nonzero(s1k == 0) / (s1k.shape[0]*s1k.shape[1])"
   ]
  },
  {
   "cell_type": "markdown",
   "metadata": {},
   "source": [
    "### ALS Equivalents"
   ]
  },
  {
   "cell_type": "code",
   "execution_count": 3,
   "metadata": {},
   "outputs": [
    {
     "name": "stdout",
     "output_type": "stream",
     "text": [
      "[0.80573552 0.80216327 0.80657376 0.81001677 0.80149177 0.79916573\n",
      " 0.80612909 0.80201629 0.80344161 0.8027064  0.80175479 0.81126418\n",
      " 0.80535349 0.80105497 0.81371224]\n",
      "Wall time: 10.6 s\n"
     ]
    }
   ],
   "source": [
    "%%time\n",
    "fname = \"Errors/salserr1k.txt\"\n",
    "alsmp(s1k, k = 4, niter = 100, filename = fname, loop = 15)\n",
    "salserr1k = np.asarray(read(fname)[:-1]).astype(float)\n",
    "print(salserr1k)"
   ]
  },
  {
   "cell_type": "code",
   "execution_count": 51,
   "metadata": {},
   "outputs": [
    {
     "name": "stdout",
     "output_type": "stream",
     "text": [
      "[0.80468645 0.80319409 0.79536265 0.80719287 0.80355555 0.80493241\n",
      " 0.80922782 0.80355501 0.8116088  0.80733801 0.80911881 0.80638145\n",
      " 0.81220814 0.80492724 0.8078452 ]\n",
      "Wall time: 21.9 s\n"
     ]
    }
   ],
   "source": [
    "%%time\n",
    "fname = \"Errors/sbrkalseqerr1k.txt\"\n",
    "brkmp(s1k, k = 4, s = 1000, niter = 100, kacziter = 1, filename = fname, loop = 15)\n",
    "sbrkalserr1k = np.asarray(read(fname)[:-1]).astype(float)\n",
    "print(sbrkalserr1k)"
   ]
  },
  {
   "cell_type": "code",
   "execution_count": 18,
   "metadata": {},
   "outputs": [
    {
     "name": "stdout",
     "output_type": "stream",
     "text": [
      "[0.81950005 0.80863745 0.81322068 0.80558049 0.81193008 0.80086922\n",
      " 0.81079448 0.81027411 0.80674845 0.80478409 0.80663021 0.81332651\n",
      " 0.81284605 0.81173419 0.80807004]\n",
      "Wall time: 21.3 s\n"
     ]
    }
   ],
   "source": [
    "%%time\n",
    "fname = \"Errors/sbgsalseq1k.txt\"\n",
    "mpmf(s1k, k = 4, s = 4, niter = 100, siter = 1, solver = 'bgs', filename = fname, loop = 15)\n",
    "sbgsalserr1k = np.asarray(read(fname)[:-1]).astype(float)\n",
    "print(sbgsalserr1k)"
   ]
  },
  {
   "cell_type": "markdown",
   "metadata": {},
   "source": [
    "### RK"
   ]
  },
  {
   "cell_type": "code",
   "execution_count": 7,
   "metadata": {},
   "outputs": [
    {
     "name": "stdout",
     "output_type": "stream",
     "text": [
      "[0.88641108 0.87648101 0.87082716 0.89640972 0.87717439 0.87105896\n",
      " 0.88792621 0.87883637 0.86367441 0.88813589 0.87110583 0.88036848\n",
      " 0.89750798 0.85798538 0.87502365]\n",
      "Wall time: 4min 34s\n"
     ]
    }
   ],
   "source": [
    "%%time\n",
    "fname = \"Errors/srkerr1k.txt\"\n",
    "rkmp(s1k, k = 4, niter = 100, kacziter = 1000, filename = fname, loop = 15)\n",
    "srkerr1k = np.asarray(read(fname)[:-1]).astype(float)\n",
    "print(srkerr1k)"
   ]
  },
  {
   "cell_type": "markdown",
   "metadata": {},
   "source": [
    "### GS (changed siter to 100 due to divergence)"
   ]
  },
  {
   "cell_type": "code",
   "execution_count": 54,
   "metadata": {},
   "outputs": [
    {
     "name": "stdout",
     "output_type": "stream",
     "text": [
      "[0.82040405 0.81798795 0.85724558 0.82973605 0.82476536 0.82550487\n",
      " 0.81949681 0.82728039 0.84403658 0.85681315 0.82922477 0.83364835\n",
      " 0.82209199 0.84300932 0.81823622]\n",
      "Wall time: 52.2 s\n"
     ]
    }
   ],
   "source": [
    "%%time\n",
    "fname = \"Errors/sgserr1k.txt\"\n",
    "mpmf(s1k, k = 4, s = 1, niter = 100, siter = 100, solver = 'bgs', filename = fname, loop = 15)\n",
    "sbrk1err1k = np.asarray(read(fname)[:-1]).astype(float)\n",
    "print(sbrk1err1k)"
   ]
  },
  {
   "cell_type": "markdown",
   "metadata": {},
   "source": [
    "## 10,000x10,000 matrix"
   ]
  },
  {
   "cell_type": "code",
   "execution_count": 17,
   "metadata": {},
   "outputs": [
    {
     "data": {
      "text/plain": [
       "0.52088636"
      ]
     },
     "execution_count": 17,
     "metadata": {},
     "output_type": "execute_result"
    }
   ],
   "source": [
    "sfactor10k = np.random.choice(4, size=(10000,4), p=np.array([0.7, 0.1, 0.1, 0.1]))\n",
    "sweight10k = np.random.randint(0, 2, size=(4, 10000))\n",
    "s10k = np.matmul(sfactor10k, sweight10k)\n",
    "np.count_nonzero(s10k == 0) / (s10k.shape[0]*s10k.shape[1])"
   ]
  },
  {
   "cell_type": "markdown",
   "metadata": {},
   "source": [
    "### ALS Equivalents"
   ]
  },
  {
   "cell_type": "code",
   "execution_count": 5,
   "metadata": {},
   "outputs": [
    {
     "name": "stdout",
     "output_type": "stream",
     "text": [
      "[0.82840739 0.82504429 0.82773252 0.82928556 0.82763171 0.8285348\n",
      " 0.82737003 0.82887042 0.82889542 0.82897594 0.82679751 0.82827703\n",
      " 0.82912263 0.82773023 0.82671306]\n",
      "Wall time: 15min 20s\n"
     ]
    }
   ],
   "source": [
    "%%time\n",
    "fname = \"Errors/salserr10k.txt\"\n",
    "alsmp(s10k, k = 4, niter = 100, filename = fname, loop = 15, cores = 4)\n",
    "salserr10k = np.asarray(read(fname)[:-1]).astype(float)\n",
    "print(salserr10k)"
   ]
  },
  {
   "cell_type": "code",
   "execution_count": 52,
   "metadata": {},
   "outputs": [
    {
     "name": "stdout",
     "output_type": "stream",
     "text": [
      "[0.82773557 0.82942461 0.82791668 0.82909525 0.82925004 0.82947858\n",
      " 0.82909411 0.83063437 0.82959144 0.83049439 0.82952473 0.83027397\n",
      " 0.82939801 0.82943205 0.8308798 ]\n",
      "Wall time: 30min 26s\n"
     ]
    }
   ],
   "source": [
    "%%time\n",
    "fname = \"Errors/sbrkalseqerr10k.txt\"\n",
    "brkmp(s10k, k = 4, s = 10000, niter = 100, kacziter = 1, filename = fname, loop = 15, cores = 4)\n",
    "brkalserr10k = np.asarray(read(fname)[:-1]).astype(float)\n",
    "print(brkalserr10k)"
   ]
  },
  {
   "cell_type": "code",
   "execution_count": 20,
   "metadata": {},
   "outputs": [
    {
     "name": "stdout",
     "output_type": "stream",
     "text": [
      "[0.82713469 0.82571603 0.82763985 0.82688824 0.82649319 0.82582404\n",
      " 0.82688659 0.82568241 0.82722545 0.82797018 0.82713509 0.82598235\n",
      " 0.82749066 0.82655333 0.82719164]\n",
      "Wall time: 30min 4s\n"
     ]
    }
   ],
   "source": [
    "%%time\n",
    "fname = \"Errors/sbgsalseqerr10k.txt\"\n",
    "mpmf(s10k, k = 4, s = 4, niter = 100, siter = 1, solver = 'bgs', filename = fname, loop = 15)\n",
    "sbgsalserr1k = np.asarray(read(fname)[:-1]).astype(float)\n",
    "print(sbgsalserr1k)"
   ]
  },
  {
   "cell_type": "markdown",
   "metadata": {},
   "source": [
    "### RK"
   ]
  },
  {
   "cell_type": "code",
   "execution_count": 9,
   "metadata": {},
   "outputs": [
    {
     "name": "stdout",
     "output_type": "stream",
     "text": [
      "[0.83784642 0.83996678 0.83579206 0.83571418 0.83853128 0.83606556\n",
      " 0.83801145 0.83896365 0.83622823 0.83440343 0.83702825 0.83597302\n",
      " 0.83761736 0.83844967 0.83806877]\n",
      "Wall time: 53min 39s\n"
     ]
    }
   ],
   "source": [
    "%%time\n",
    "fname = \"Errors/srkerr10k.txt\"\n",
    "rkmp(s10k, k = 4, niter = 100, kacziter = 1000, filename = fname, loop = 15)\n",
    "srkerr10k = np.asarray(read(fname)[:-1]).astype(float)\n",
    "print(srkerr10k)"
   ]
  },
  {
   "cell_type": "markdown",
   "metadata": {},
   "source": [
    "### GS"
   ]
  },
  {
   "cell_type": "code",
   "execution_count": 21,
   "metadata": {},
   "outputs": [
    {
     "name": "stdout",
     "output_type": "stream",
     "text": [
      "[0.82879126 0.82784684 0.82934316 0.82700183 0.82733364 0.82821652\n",
      " 0.82686396 0.82642747 0.82703179 0.82743436 0.82808364 0.82778912\n",
      " 0.82786687 0.82899422 0.82966689]\n",
      "Wall time: 29min 55s\n"
     ]
    }
   ],
   "source": [
    "%%time\n",
    "fname = \"Errors/sgserr10k.txt\"\n",
    "mpmf(s10k, k = 4, s = 1, niter = 100, siter = 1, solver = 'bgs', filename = fname, loop = 15)\n",
    "sgserr10k = np.asarray(read(fname)[:-1]).astype(float)\n",
    "print(sgserr10k)"
   ]
  },
  {
   "cell_type": "markdown",
   "metadata": {},
   "source": [
    "## Error Plots"
   ]
  },
  {
   "cell_type": "code",
   "execution_count": 5,
   "metadata": {},
   "outputs": [],
   "source": [
    "datapath = 'Errors/*.txt'\n",
    "datafiles = list(glob.glob(datapath))"
   ]
  },
  {
   "cell_type": "code",
   "execution_count": 6,
   "metadata": {},
   "outputs": [],
   "source": [
    "alstitle, alserr, alsstd = extracterr(\"salserr\", datafiles)\n",
    "rktitle, rkerr, rkstd = extracterr(\"srk\", datafiles)\n",
    "gstitle, gserr, gsstd = extracterr(\"sgs\", datafiles)\n",
    "brkalstitle, brkalserr, brkalsstd = extracterr(\"sbrkalseq\", datafiles)\n",
    "bgsalstitle, bgsalserr, bgsalsstd = extracterr(\"sbgsalseq\", datafiles)"
   ]
  },
  {
   "cell_type": "code",
   "execution_count": 7,
   "metadata": {},
   "outputs": [
    {
     "name": "stdout",
     "output_type": "stream",
     "text": [
      "[0.39936603859292163, 0.7130288751607897, 0.8060756337201688, 0.829481572339329]\n",
      "[0.3784563459000275, 0.7040887761909862, 0.8048386584099326, 0.8279592361570021]\n",
      "[0.711958928738211, 0.7303242784141906, 0.826787582936639, 0.8096630730148843]\n"
     ]
    }
   ],
   "source": [
    "print(brkalserr)\n",
    "print(alserr)\n",
    "print(bgsalserr)"
   ]
  },
  {
   "cell_type": "code",
   "execution_count": 58,
   "metadata": {},
   "outputs": [
    {
     "data": {
      "image/png": "[encoded data removed]",
      "text/plain": [
       "<Figure size 792x432 with 1 Axes>"
      ]
     },
     "metadata": {
      "needs_background": "light"
     },
     "output_type": "display_data"
    }
   ],
   "source": [
    "n = len(alserr)\n",
    "ind = 2*np.arange(n)  # the x locations for the groups\n",
    "width = 0.35       # the width of the bars\n",
    "\n",
    "fig = plt.figure(figsize=(11,6))\n",
    "ax = fig.add_subplot(111)\n",
    "rects1 = ax.bar(ind, alserr, width, yerr=alsstd, capsize=5)\n",
    "rects2 = ax.bar(ind+width, brkalserr, width, yerr=brkalsstd, capsize=5)\n",
    "rects3 = ax.bar(ind+2*width, bgsalserr, width, yerr=bgsalsstd, capsize=5)\n",
    "rects4 = ax.bar(ind+3*width, rkerr, width, yerr=rkstd, capsize=5)\n",
    "rects5 = ax.bar(ind+4*width, gserr, width, yerr=gsstd, capsize=5)\n",
    "\n",
    "\n",
    "# add some\n",
    "ax.set_ylabel('Relative Error')\n",
    "ax.set_xlabel('Dimension')\n",
    "ax.set_title('Sparse Matrix Dimension vs Relative Error')\n",
    "ax.set_xticks(ind + 2*width)\n",
    "ax.set_xticklabels( ('50', '200', '1,000', '10,000') )\n",
    "\n",
    "ax.legend( (rects1[0], rects2[0], rects3[0], rects4[0], rects5[0]), ('ALS', 'BRK ALS', 'BGS ALS', 'RK', 'GS') )\n",
    "\n",
    "plt.show()\n",
    "#plt.savefig('fixedrkerrorplot.png')"
   ]
  },
  {
   "cell_type": "markdown",
   "metadata": {},
   "source": [
    "# Dense Tests"
   ]
  },
  {
   "cell_type": "markdown",
   "metadata": {},
   "source": [
    "## 50x50 matrix"
   ]
  },
  {
   "cell_type": "code",
   "execution_count": 87,
   "metadata": {},
   "outputs": [
    {
     "data": {
      "text/plain": [
       "0.4848"
      ]
     },
     "execution_count": 87,
     "metadata": {},
     "output_type": "execute_result"
    }
   ],
   "source": [
    "dfactor50 = np.random.choice(4, size=(50,4), p=np.array([0.7, 0.1, 0.1, 0.1]))\n",
    "dweight50 = np.random.randint(0, 2, size=(4, 50))\n",
    "d50 = np.matmul(dfactor50, dweight50)\n",
    "np.count_nonzero(d50 == 0) / (d50.shape[0]*d50.shape[1])"
   ]
  },
  {
   "cell_type": "code",
   "execution_count": 6,
   "metadata": {},
   "outputs": [
    {
     "name": "stdout",
     "output_type": "stream",
     "text": [
      "[0.43371888 0.37504556 0.4476757  0.25585386 0.38419529 0.26802343\n",
      " 0.32854191 0.4541685  0.37170317 0.27079105 0.32981316 0.33864429\n",
      " 0.35125232 0.31467782 0.32253532]\n",
      "Wall time: 1.73 s\n"
     ]
    }
   ],
   "source": [
    "%%time\n",
    "fname = \"Errors/dalserr50.txt\"\n",
    "alsmp(d50, k = 4, niter = 100, filename = fname, loop = 15)\n",
    "dalserr50 = np.asarray(read(fname)[:-1]).astype(float)\n",
    "print(dalserr50)"
   ]
  },
  {
   "cell_type": "code",
   "execution_count": 89,
   "metadata": {},
   "outputs": [
    {
     "name": "stdout",
     "output_type": "stream",
     "text": [
      "[0.41415609 0.34322362 0.34145347 0.38875901 0.3741523  0.43157208\n",
      " 0.45474056 0.39762268 0.38052936 0.43843742 0.37274034 0.3644743\n",
      " 0.43603401 0.41680571 0.40379223]\n",
      "Wall time: 1min 42s\n"
     ]
    }
   ],
   "source": [
    "%%time\n",
    "fname = \"Errors/dbrk1err50.txt\"\n",
    "brkmp(d50, k = 4, s = 50, niter = 100, kacziter = 1000, filename = fname, loop = 15)\n",
    "dbrk50err50 = np.asarray(read(fname)[:-1]).astype(float)\n",
    "print(dbrk50err50)"
   ]
  },
  {
   "cell_type": "code",
   "execution_count": 7,
   "metadata": {},
   "outputs": [
    {
     "name": "stdout",
     "output_type": "stream",
     "text": [
      "[0.82063677 0.9265537  0.94625839 0.93323904 1.13555342 0.96528852\n",
      " 0.93338154 0.9885525  0.98971829 1.01658153 0.89295443 0.93343437\n",
      " 0.84803218 1.20651647 1.00107148]\n",
      "Wall time: 1min 11s\n"
     ]
    }
   ],
   "source": [
    "%%time\n",
    "fname = \"Errors/drkerr50.txt\"\n",
    "rkmp(d50, k = 4, niter = 100, kacziter = 1000, filename = fname, loop = 15)\n",
    "drkerr50 = np.asarray(read(fname)[:-1]).astype(float)\n",
    "print(drkerr50)"
   ]
  },
  {
   "cell_type": "code",
   "execution_count": 90,
   "metadata": {},
   "outputs": [
    {
     "name": "stdout",
     "output_type": "stream",
     "text": [
      "[1.4388372  1.56553274 1.33707225 1.4369941  1.46693641 1.0906025\n",
      " 1.5531184  1.05047844 1.22225224 1.37898488 1.54443979 1.22154177\n",
      " 1.20378635 1.18534703 1.43369847]\n",
      "Wall time: 1min 8s\n"
     ]
    }
   ],
   "source": [
    "%%time\n",
    "fname = \"Errors/dbrk1err50.txt\"\n",
    "brkmp(d50, k = 4, s = 1, niter = 100, kacziter = 1000, filename = fname, loop = 15)\n",
    "dbrk1err50 = np.asarray(read(fname)[:-1]).astype(float)\n",
    "print(dbrk1err50)"
   ]
  },
  {
   "cell_type": "markdown",
   "metadata": {},
   "source": [
    "## 200x200 matrix"
   ]
  },
  {
   "cell_type": "code",
   "execution_count": 92,
   "metadata": {},
   "outputs": [
    {
     "data": {
      "text/plain": [
       "0.5397"
      ]
     },
     "execution_count": 92,
     "metadata": {},
     "output_type": "execute_result"
    }
   ],
   "source": [
    "dfactor200 = np.random.choice(4, size=(200,4), p=np.array([0.7, 0.1, 0.1, 0.1]))\n",
    "dweight200 = np.random.randint(0, 2, size=(4, 200))\n",
    "d200 = np.matmul(dfactor200, dweight200)\n",
    "np.count_nonzero(d200 == 0) / (d200.shape[0]*d200.shape[1])"
   ]
  },
  {
   "cell_type": "code",
   "execution_count": 9,
   "metadata": {},
   "outputs": [
    {
     "name": "stdout",
     "output_type": "stream",
     "text": [
      "[0.71115283 0.67016919 0.69945936 0.70162428 0.71926671 0.71245664\n",
      " 0.71715277 0.70377826 0.70599016 0.70705302 0.70836051 0.69214348\n",
      " 0.71275215 0.71835256 0.67173452]\n",
      "Wall time: 1.22 s\n"
     ]
    }
   ],
   "source": [
    "%%time\n",
    "fname = \"Errors/dalserr200.txt\"\n",
    "alsmp(d200, k = 4, niter = 100, filename = fname, loop = 15)\n",
    "dalserr200 = np.asarray(read(fname)[:-1]).astype(float)\n",
    "print(dalserr200)"
   ]
  },
  {
   "cell_type": "code",
   "execution_count": 93,
   "metadata": {},
   "outputs": [
    {
     "name": "stdout",
     "output_type": "stream",
     "text": [
      "[0.70033598 0.71734413 0.68968251 0.75412031 0.69908387 0.71498477\n",
      " 0.72166805 0.73231394 0.70659329 0.7350821  0.73490232 0.71862133\n",
      " 0.7310454  0.7363544  0.71108027]\n",
      "Wall time: 5min 15s\n"
     ]
    }
   ],
   "source": [
    "%%time\n",
    "fname = \"Errors/dbrk200err200.txt\"\n",
    "brkmp(d200, k = 4, s = 200, niter = 100, kacziter = 1000, filename = fname, loop = 15)\n",
    "dbrk200err200 = np.asarray(read(fname)[:-1]).astype(float)\n",
    "print(dbrk200err200)"
   ]
  },
  {
   "cell_type": "code",
   "execution_count": 10,
   "metadata": {},
   "outputs": [
    {
     "name": "stdout",
     "output_type": "stream",
     "text": [
      "[1.01963463 0.97079728 1.03464515 0.95089754 0.95455478 1.00505888\n",
      " 0.92972789 0.951526   1.01876916 0.96120489 0.96973967 0.98574261\n",
      " 0.97856256 0.98248655 0.95849656]\n",
      "Wall time: 1min 42s\n"
     ]
    }
   ],
   "source": [
    "%%time\n",
    "fname = \"Errors/drkerr200.txt\"\n",
    "rkmp(d200, k = 4, niter = 100, kacziter = 1000, filename = fname, loop = 15)\n",
    "drkerr200 = np.asarray(read(fname)[:-1]).astype(float)\n",
    "print(drkerr200)"
   ]
  },
  {
   "cell_type": "code",
   "execution_count": 94,
   "metadata": {},
   "outputs": [
    {
     "name": "stdout",
     "output_type": "stream",
     "text": [
      "[1.10238265 1.1670957  1.09057127 1.08099275 1.04033725 1.1155012\n",
      " 1.21004994 1.17422411 1.11786864 1.03789822 1.13433232 1.05853215\n",
      " 1.17790668 1.39008514 1.0656367 ]\n",
      "Wall time: 1min 22s\n"
     ]
    }
   ],
   "source": [
    "%%time\n",
    "fname = \"Errors/dbrk1err200.txt\"\n",
    "brkmp(d200, k = 4, s = 1, niter = 100, kacziter = 1000, filename = fname, loop = 15)\n",
    "dbrk1err200 = np.asarray(read(fname)[:-1]).astype(float)\n",
    "print(dbrk1err200)"
   ]
  },
  {
   "cell_type": "markdown",
   "metadata": {},
   "source": [
    "## 1000x1000 matrix"
   ]
  },
  {
   "cell_type": "code",
   "execution_count": 67,
   "metadata": {},
   "outputs": [
    {
     "data": {
      "text/plain": [
       "0.525664"
      ]
     },
     "execution_count": 67,
     "metadata": {},
     "output_type": "execute_result"
    }
   ],
   "source": [
    "dfactor1k = np.random.choice(4, size=(1000,4), p=np.array([0.7, 0.1, 0.1, 0.1]))\n",
    "dweight1k = np.random.randint(0, 2, size=(4, 1000))\n",
    "d1k = np.matmul(dfactor1k, dweight1k)\n",
    "np.count_nonzero(d1k == 0) / (d1k.shape[0]*d1k.shape[1])"
   ]
  },
  {
   "cell_type": "code",
   "execution_count": 12,
   "metadata": {},
   "outputs": [
    {
     "name": "stdout",
     "output_type": "stream",
     "text": [
      "[0.80175321 0.8093114  0.80925409 0.81665466 0.81168322 0.80925443\n",
      " 0.81157313 0.80596311 0.81263762 0.80673858 0.80446207 0.80468717\n",
      " 0.81520691 0.81214437 0.80760215]\n",
      "Wall time: 10.6 s\n"
     ]
    }
   ],
   "source": [
    "%%time\n",
    "fname = \"Errors/dalserr1k.txt\"\n",
    "alsmp(d1k, k = 4, niter = 100, filename = fname, loop = 15)\n",
    "dalserr1k = np.asarray(read(fname)[:-1]).astype(float)\n",
    "print(dalserr1k)"
   ]
  },
  {
   "cell_type": "code",
   "execution_count": null,
   "metadata": {},
   "outputs": [],
   "source": [
    "%%time\n",
    "fname = \"Errors/dbrk1err1k.txt\"\n",
    "brkmp(d1k, k = 4, s = 1, niter = 100, filename = fname, loop = 15)\n",
    "dbrk1err1k = np.asarray(read(fname)[:-1]).astype(float)\n",
    "print(dbrk1err1k)"
   ]
  },
  {
   "cell_type": "code",
   "execution_count": 68,
   "metadata": {},
   "outputs": [
    {
     "name": "stdout",
     "output_type": "stream",
     "text": [
      "[0.87200605 0.87216129 0.88213478 0.87679657 0.86320041 0.89580873\n",
      " 0.89142686 0.87965736 0.88007234 0.87006469 0.86548832 0.8723532\n",
      " 0.87471097 0.87264556 0.86120275]\n",
      "Wall time: 4min 28s\n"
     ]
    }
   ],
   "source": [
    "%%time\n",
    "fname = \"Errors/drkerr1k.txt\"\n",
    "rkmp(d1k, k = 4, niter = 100, kacziter = 1000, filename = fname, loop = 15)\n",
    "drkerr1k = np.asarray(read(fname)[:-1]).astype(float)\n",
    "print(drkerr1k)"
   ]
  },
  {
   "cell_type": "code",
   "execution_count": null,
   "metadata": {},
   "outputs": [],
   "source": [
    "%%time\n",
    "fname = \"Errors/dbrk1kerr1k.txt\"\n",
    "brkmp(d1k, k = 4, s = 1000, niter = 100, filename = fname, loop = 15)\n",
    "dbrk1kerr1k = np.asarray(read(fname)[:-1]).astype(float)\n",
    "print(dbrk1kerr1k)"
   ]
  },
  {
   "cell_type": "markdown",
   "metadata": {},
   "source": [
    "## 10,000x10,000 matrix"
   ]
  },
  {
   "cell_type": "code",
   "execution_count": 69,
   "metadata": {},
   "outputs": [
    {
     "data": {
      "text/plain": [
       "0.52765071"
      ]
     },
     "execution_count": 69,
     "metadata": {},
     "output_type": "execute_result"
    }
   ],
   "source": [
    "dfactor10k = np.random.choice(4, size=(10000,4), p=np.array([0.7, 0.1, 0.1, 0.1]))\n",
    "dweight10k = np.random.randint(0, 2, size=(4, 10000))\n",
    "d10k = np.matmul(dfactor10k, dweight10k)\n",
    "np.count_nonzero(d10k == 0) / (d10k.shape[0]*d10k.shape[1])"
   ]
  },
  {
   "cell_type": "code",
   "execution_count": 4,
   "metadata": {},
   "outputs": [
    {
     "name": "stdout",
     "output_type": "stream",
     "text": [
      "[0.82758483 0.82759903 0.82615887 0.82560387 0.82811139 0.82593277\n",
      " 0.82680554 0.82897845 0.82587531 0.82538244 0.82798453 0.82888699\n",
      " 0.82907092 0.82791305 0.8254652 ]\n",
      "Wall time: 15min 8s\n"
     ]
    }
   ],
   "source": [
    "%%time\n",
    "fname = \"Errors/dalserr10k.txt\"\n",
    "alsmp(d10k, k = 4, niter = 100, filename = fname, loop = 15, cores = 4)\n",
    "dalserr10k = np.asarray(read(fname)[:-1]).astype(float)\n",
    "print(dalserr10k)"
   ]
  },
  {
   "cell_type": "code",
   "execution_count": null,
   "metadata": {},
   "outputs": [],
   "source": [
    "%%time\n",
    "fname = \"Errors/dbrk1err10k.txt\"\n",
    "brkmp(d10k, k = 4, s = 1, niter = 100, filename = fname, loop = 15, cores = 4)\n",
    "dbrk1err10k = np.asarray(read(fname)[:-1]).astype(float)\n",
    "print(dbrk1err10k)"
   ]
  },
  {
   "cell_type": "code",
   "execution_count": 70,
   "metadata": {},
   "outputs": [
    {
     "name": "stdout",
     "output_type": "stream",
     "text": [
      "[0.83651625 0.8386287  0.83683639 0.83737113 0.83663193 0.83741887\n",
      " 0.83551104 0.83579547 0.83489275 0.83846479 0.836588   0.83458544\n",
      " 0.83558222 0.83657496 0.83836295]\n",
      "Wall time: 58min 38s\n"
     ]
    }
   ],
   "source": [
    "%%time\n",
    "fname = \"Errors/drkerr10k.txt\"\n",
    "rkmp(d10k, k = 4, niter = 100, kacziter = 1000, filename = fname, loop = 15, cores = 4)\n",
    "drkerr10k = np.asarray(read(fname)[:-1]).astype(float)\n",
    "print(drkerr10k)"
   ]
  },
  {
   "cell_type": "code",
   "execution_count": null,
   "metadata": {},
   "outputs": [],
   "source": [
    "%%time\n",
    "fname = \"Errors/dbrk1err10k.txt\"\n",
    "brkmp(d10k, k = 4, s = 10000, niter = 100, filename = fname, loop = 15, cores = 4)\n",
    "dbrk10kerr10k = np.asarray(read(fname)[:-1]).astype(float)\n",
    "print(dbrk10kerr10k)"
   ]
  },
  {
   "cell_type": "markdown",
   "metadata": {},
   "source": [
    "## Error Plots"
   ]
  },
  {
   "cell_type": "code",
   "execution_count": 139,
   "metadata": {},
   "outputs": [],
   "source": [
    "datapath = 'Errors/*.txt'\n",
    "datafiles = list(glob.glob(datapath))\n",
    "alstitle, alserr, alsstd = extracterr(\"dals\", datafiles)\n",
    "rktitle, rkerr, rkstd = extracterr(\"drk\", datafiles)"
   ]
  },
  {
   "cell_type": "code",
   "execution_count": 140,
   "metadata": {},
   "outputs": [
    {
     "name": "stdout",
     "output_type": "stream",
     "text": [
      "['50', '200', '1k', '10k']\n",
      "['50', '200', '1k', '10k']\n"
     ]
    }
   ],
   "source": [
    "print(alstitle)\n",
    "print(rktitle)"
   ]
  },
  {
   "cell_type": "code",
   "execution_count": 162,
   "metadata": {},
   "outputs": [
    {
     "data": {
      "image/png": "[encoded data removed]",
      "text/plain": [
       "<Figure size 432x288 with 1 Axes>"
      ]
     },
     "metadata": {
      "needs_background": "light"
     },
     "output_type": "display_data"
    }
   ],
   "source": [
    "n = len(alserr)\n",
    "ind = np.arange(n)  # the x locations for the groups\n",
    "width = 0.35       # the width of the bars\n",
    "\n",
    "fig = plt.figure()\n",
    "ax = fig.add_subplot(111)\n",
    "rects1 = ax.bar(ind, alserr, width, yerr=alsstd, capsize=5)\n",
    "\n",
    "rects2 = ax.bar(ind+width, rkerr, width, yerr=rkstd, capsize=5)\n",
    "\n",
    "# add some\n",
    "ax.set_ylabel('Relative Error')\n",
    "ax.set_title('Dimension vs Relative Error')\n",
    "ax.set_xticks(ind + width / 2)\n",
    "ax.set_xticklabels( ('50', '200', '1,000', '10,000') )\n",
    "\n",
    "ax.legend( (rects1[0], rects2[0]), ('ALS', 'RK') )\n",
    "\n",
    "plt.show()"
   ]
  },
  {
   "cell_type": "markdown",
   "metadata": {},
   "source": [
    "# BRK Sampling Tests"
   ]
  },
  {
   "cell_type": "markdown",
   "metadata": {},
   "source": [
    "## Varying k"
   ]
  },
  {
   "cell_type": "code",
   "execution_count": 2,
   "metadata": {},
   "outputs": [
    {
     "data": {
      "text/plain": [
       "0.5611"
      ]
     },
     "execution_count": 2,
     "metadata": {},
     "output_type": "execute_result"
    }
   ],
   "source": [
    "bfactor200 = np.random.choice(4, size=(200,4), p=np.array([0.7, 0.1, 0.1, 0.1]))\n",
    "bweight200 = np.random.randint(0, 2, size=(4, 200))\n",
    "b200 = np.matmul(bfactor200, bweight200)\n",
    "np.count_nonzero(b200 == 0) / (b200.shape[0]*b200.shape[1])"
   ]
  },
  {
   "cell_type": "code",
   "execution_count": 4,
   "metadata": {},
   "outputs": [
    {
     "name": "stdout",
     "output_type": "stream",
     "text": [
      "Wall time: 9min 30s\n"
     ]
    }
   ],
   "source": [
    "%%time\n",
    "i = 2\n",
    "while(i <= 10):\n",
    "    fname = \"Errors/BRK/sbrk\" + str(i) + \"err200test2.txt\"\n",
    "    brkmp(b200, k = 4, s = i, niter = 100, kacziter = 1000, filename = fname, loop = 15)\n",
    "    i = i + 2"
   ]
  },
  {
   "cell_type": "code",
   "execution_count": 3,
   "metadata": {},
   "outputs": [],
   "source": [
    "fname = \"Errors/BRK/sbrk\" + str(2) + \"err200test2.txt\"\n",
    "brkmp(b200, k = 4, s = 2, niter = 100, kacziter = 1000, filename = fname, loop = 15)"
   ]
  },
  {
   "cell_type": "markdown",
   "metadata": {},
   "source": [
    "## Computational Time"
   ]
  },
  {
   "cell_type": "code",
   "execution_count": 197,
   "metadata": {},
   "outputs": [
    {
     "data": {
      "text/plain": [
       "99.84736390000035"
      ]
     },
     "execution_count": 197,
     "metadata": {},
     "output_type": "execute_result"
    }
   ],
   "source": [
    "setup = '''\n",
    "from functions import brktest\n",
    "import numpy as np\n",
    "\n",
    "bfactor200 = np.random.choice(4, size=(200,4), p=np.array([0.7, 0.1, 0.1, 0.1]))\n",
    "bweight200 = np.random.randint(0, 2, size=(4, 200))\n",
    "b200 = np.matmul(bfactor200, bweight200)\n",
    "'''\n",
    "testcode = \"brktest(b200, k = 4, s = \" + str(100) + \", niter = 100, kacziter = 1000)\"\n",
    "timeit.timeit(stmt = testcode, setup = setup, number = 3)"
   ]
  },
  {
   "cell_type": "code",
   "execution_count": 211,
   "metadata": {},
   "outputs": [],
   "source": [
    "with open('Errors/brktime.txt', 'w') as f:\n",
    "    for i in np.arange(200):\n",
    "        testcode = \"brktest(b200, k = 4, s = \" + str(i + 1) + \", niter = 100, kacziter = 1000)\"\n",
    "        #testcode = \"np.matmul(np.random.randint(5, size = 1000), np.random.randint(5, size = 1000))\"\n",
    "        time = timeit.timeit(stmt = testcode, setup = setup, number = 3) / 3\n",
    "        f.write(str(time) + ', ')"
   ]
  },
  {
   "cell_type": "markdown",
   "metadata": {},
   "source": [
    "## Error Plots"
   ]
  },
  {
   "cell_type": "code",
   "execution_count": 1,
   "metadata": {},
   "outputs": [
    {
     "ename": "NameError",
     "evalue": "name 'glob' is not defined",
     "output_type": "error",
     "traceback": [
      "\u001b[1;31m---------------------------------------------------------------------------\u001b[0m",
      "\u001b[1;31mNameError\u001b[0m                                 Traceback (most recent call last)",
      "\u001b[1;32m<ipython-input-1-69c377a3bd2c>\u001b[0m in \u001b[0;36m<module>\u001b[1;34m\u001b[0m\n\u001b[0;32m      1\u001b[0m \u001b[0mdatapath\u001b[0m \u001b[1;33m=\u001b[0m \u001b[1;34m'Errors/BRKsample/*.txt'\u001b[0m\u001b[1;33m\u001b[0m\u001b[1;33m\u001b[0m\u001b[0m\n\u001b[1;32m----> 2\u001b[1;33m \u001b[0mdatafiles\u001b[0m \u001b[1;33m=\u001b[0m \u001b[0mlist\u001b[0m\u001b[1;33m(\u001b[0m\u001b[0mglob\u001b[0m\u001b[1;33m.\u001b[0m\u001b[0mglob\u001b[0m\u001b[1;33m(\u001b[0m\u001b[0mdatapath\u001b[0m\u001b[1;33m)\u001b[0m\u001b[1;33m)\u001b[0m\u001b[1;33m\u001b[0m\u001b[1;33m\u001b[0m\u001b[0m\n\u001b[0m\u001b[0;32m      3\u001b[0m \u001b[1;31m#print(datafiles)\u001b[0m\u001b[1;33m\u001b[0m\u001b[1;33m\u001b[0m\u001b[1;33m\u001b[0m\u001b[0m\n\u001b[0;32m      4\u001b[0m \u001b[0mbrktitle\u001b[0m\u001b[1;33m,\u001b[0m \u001b[0mbrkerr\u001b[0m\u001b[1;33m,\u001b[0m \u001b[0mbrkstd\u001b[0m \u001b[1;33m=\u001b[0m \u001b[0mextracterr\u001b[0m\u001b[1;33m(\u001b[0m\u001b[1;34m\"sbrk\"\u001b[0m\u001b[1;33m,\u001b[0m \u001b[0mdatafiles\u001b[0m\u001b[1;33m)\u001b[0m\u001b[1;33m\u001b[0m\u001b[1;33m\u001b[0m\u001b[0m\n",
      "\u001b[1;31mNameError\u001b[0m: name 'glob' is not defined"
     ]
    }
   ],
   "source": [
    "datapath = 'Errors/BRKsample/*.txt'\n",
    "datafiles = list(glob.glob(datapath))\n",
    "#print(datafiles)\n",
    "brktitle, brkerr, brkstd = extracterr(\"sbrk\", datafiles)\n"
   ]
  },
  {
   "cell_type": "code",
   "execution_count": 166,
   "metadata": {},
   "outputs": [
    {
     "data": {
      "text/html": [
       "<div>\n",
       "<style scoped>\n",
       "    .dataframe tbody tr th:only-of-type {\n",
       "        vertical-align: middle;\n",
       "    }\n",
       "\n",
       "    .dataframe tbody tr th {\n",
       "        vertical-align: top;\n",
       "    }\n",
       "\n",
       "    .dataframe thead th {\n",
       "        text-align: right;\n",
       "    }\n",
       "</style>\n",
       "<table border=\"1\" class=\"dataframe\">\n",
       "  <thead>\n",
       "    <tr style=\"text-align: right;\">\n",
       "      <th></th>\n",
       "      <th>k</th>\n",
       "      <th>err</th>\n",
       "      <th>std</th>\n",
       "    </tr>\n",
       "  </thead>\n",
       "  <tbody>\n",
       "    <tr>\n",
       "      <th>45</th>\n",
       "      <td>1</td>\n",
       "      <td>1.040958e+00</td>\n",
       "      <td>4.958098e-02</td>\n",
       "    </tr>\n",
       "    <tr>\n",
       "      <th>38</th>\n",
       "      <td>2</td>\n",
       "      <td>2.171824e+00</td>\n",
       "      <td>3.994686e-01</td>\n",
       "    </tr>\n",
       "    <tr>\n",
       "      <th>27</th>\n",
       "      <td>4</td>\n",
       "      <td>3.265941e+12</td>\n",
       "      <td>1.222003e+13</td>\n",
       "    </tr>\n",
       "    <tr>\n",
       "      <th>16</th>\n",
       "      <td>6</td>\n",
       "      <td>2.325877e+00</td>\n",
       "      <td>5.704509e-01</td>\n",
       "    </tr>\n",
       "    <tr>\n",
       "      <th>5</th>\n",
       "      <td>8</td>\n",
       "      <td>1.287083e+00</td>\n",
       "      <td>1.118213e-01</td>\n",
       "    </tr>\n",
       "  </tbody>\n",
       "</table>\n",
       "</div>"
      ],
      "text/plain": [
       "    k           err           std\n",
       "45  1  1.040958e+00  4.958098e-02\n",
       "38  2  2.171824e+00  3.994686e-01\n",
       "27  4  3.265941e+12  1.222003e+13\n",
       "16  6  2.325877e+00  5.704509e-01\n",
       "5   8  1.287083e+00  1.118213e-01"
      ]
     },
     "execution_count": 166,
     "metadata": {},
     "output_type": "execute_result"
    }
   ],
   "source": [
    "data = pd.DataFrame({'k': list(map(int, brktitle)),\n",
    "                     'err': brkerr,\n",
    "                     'std': brkstd})\n",
    "data = data.sort_values(by=['k'])\n",
    "#data\n",
    "data.loc[data['err'] > 1]"
   ]
  },
  {
   "cell_type": "markdown",
   "metadata": {},
   "source": [
    "Weird results when k is between 2 and 8. I originally thought this was the multiprocessing acting up but I ran them manually and had similar results. When printing the row/column updates it turns out that BRK was setting one or more to zero after each update. This blows up the relative error when the sampling size is small, but maybe a larger sampling size acts as a sort of regularizer, which could explain how it calms down after k > 10. "
   ]
  },
  {
   "cell_type": "code",
   "execution_count": 170,
   "metadata": {},
   "outputs": [
    {
     "data": {
      "image/png": "[encoded data removed]",
      "text/plain": [
       "<Figure size 432x288 with 1 Axes>"
      ]
     },
     "metadata": {
      "needs_background": "light"
     },
     "output_type": "display_data"
    }
   ],
   "source": [
    "plt.errorbar(data['k'], data['err'], ecolor = 'black', capsize = 5)\n",
    "plt.title(\"Relative error vs k on 200x200 Sparse Matrix\")\n",
    "plt.ylim([0, 3])\n",
    "plt.ylabel(\"Relative error\")\n",
    "plt.xlabel(\"k\")\n",
    "plt.show()"
   ]
  },
  {
   "cell_type": "markdown",
   "metadata": {},
   "source": [
    "Looking at the errors vs k, it seems the errors stabilize quite quickly after k is larger than ~25. "
   ]
  },
  {
   "cell_type": "code",
   "execution_count": 30,
   "metadata": {},
   "outputs": [
    {
     "data": {
      "text/plain": [
       "Text(0.5, 0, 'k')"
      ]
     },
     "execution_count": 30,
     "metadata": {},
     "output_type": "execute_result"
    },
    {
     "data": {
      "image/png": "[encoded data removed]",
      "text/plain": [
       "<Figure size 432x288 with 1 Axes>"
      ]
     },
     "metadata": {
      "needs_background": "light"
     },
     "output_type": "display_data"
    }
   ],
   "source": [
    "with open('Errors/brktime.txt', 'r') as f:\n",
    "    x = f.read().split(', ')\n",
    "x = [float(i) for i in x[:-1]]\n",
    "\n",
    "plt.plot(range(200), x)\n",
    "plt.title(\"k vs Computational Time for Sparse 200x200 matrix\")\n",
    "plt.ylabel(\"Computational Time(sec)\")\n",
    "plt.xlabel(\"k\")"
   ]
  },
  {
   "cell_type": "code",
   "execution_count": 2,
   "metadata": {},
   "outputs": [],
   "source": [
    "sfactor200 = np.random.choice(4, size=(200,4), p=np.array([0.7, 0.1, 0.1, 0.1]))\n",
    "sweight200 = np.random.randint(0, 2, size=(4, 200))\n",
    "data = np.matmul(sfactor200, sweight200)"
   ]
  },
  {
   "cell_type": "code",
   "execution_count": 6,
   "metadata": {},
   "outputs": [],
   "source": [
    "A, S, error = mf(data, k = 4, s = 1, niter = 100, siter = 1000, solver = 'bgs')"
   ]
  },
  {
   "cell_type": "code",
   "execution_count": 7,
   "metadata": {},
   "outputs": [
    {
     "name": "stdout",
     "output_type": "stream",
     "text": [
      "5.2870015314340035\n"
     ]
    }
   ],
   "source": [
    "print(error)"
   ]
  },
  {
   "cell_type": "code",
   "execution_count": 8,
   "metadata": {},
   "outputs": [],
   "source": [
    "datapath = 'Errors/itertests/*.txt'\n",
    "datafiles = list(glob.glob(datapath))"
   ]
  },
  {
   "cell_type": "code",
   "execution_count": 36,
   "metadata": {},
   "outputs": [
    {
     "ename": "FileNotFoundError",
     "evalue": "[WinError 2] The system cannot find the file specified: 'Errors/itertests\\\\alsiter100err200.txt' -> 'Errors/itertests\\\\alsiter10subiter1000err200.txt'",
     "output_type": "error",
     "traceback": [
      "\u001b[1;31m---------------------------------------------------------------------------\u001b[0m",
      "\u001b[1;31mFileNotFoundError\u001b[0m                         Traceback (most recent call last)",
      "\u001b[1;32m<ipython-input-36-17cc84d70524>\u001b[0m in \u001b[0;36m<module>\u001b[1;34m\u001b[0m\n\u001b[0;32m      1\u001b[0m \u001b[1;32mfor\u001b[0m \u001b[0mf\u001b[0m \u001b[1;32min\u001b[0m \u001b[0mdatafiles\u001b[0m\u001b[1;33m:\u001b[0m\u001b[1;33m\u001b[0m\u001b[1;33m\u001b[0m\u001b[0m\n\u001b[1;32m----> 2\u001b[1;33m     \u001b[0mos\u001b[0m\u001b[1;33m.\u001b[0m\u001b[0mrename\u001b[0m\u001b[1;33m(\u001b[0m\u001b[0mf\u001b[0m\u001b[1;33m,\u001b[0m \u001b[0mf\u001b[0m\u001b[1;33m[\u001b[0m\u001b[1;36m0\u001b[0m\u001b[1;33m:\u001b[0m\u001b[1;36m26\u001b[0m\u001b[1;33m]\u001b[0m \u001b[1;33m+\u001b[0m \u001b[1;34m\"subiter1000err200.txt\"\u001b[0m\u001b[1;33m)\u001b[0m\u001b[1;33m\u001b[0m\u001b[1;33m\u001b[0m\u001b[0m\n\u001b[0m",
      "\u001b[1;31mFileNotFoundError\u001b[0m: [WinError 2] The system cannot find the file specified: 'Errors/itertests\\\\alsiter100err200.txt' -> 'Errors/itertests\\\\alsiter10subiter1000err200.txt'"
     ]
    }
   ],
   "source": [
    "for f in datafiles:\n",
    "    os.rename(f, f[0:26] + \"subiter1000err200.txt\")"
   ]
  },
  {
   "cell_type": "code",
   "execution_count": 56,
   "metadata": {},
   "outputs": [],
   "source": [
    "folder = 'Errors/tests3'\n",
    "files = os.listdir(folder)\n",
    "for f in files:\n",
    "    os.rename(os.path.join(folder, f), os.path.join(folder, f[0:8] + 'subiter1000err200.txt'))"
   ]
  },
  {
   "cell_type": "code",
   "execution_count": 44,
   "metadata": {},
   "outputs": [
    {
     "name": "stdout",
     "output_type": "stream",
     "text": [
      "['alsiter10err200.txt', 'alsiter11err200.txt', 'alsiter12err200.txt', 'alsiter13err200.txt', 'alsiter14err200.txt', 'alsiter15err200.txt', 'alsiter16err200.txt', 'alsiter17err200.txt', 'alsiter18err200.txt', 'alsiter19err200.txt', 'alsiter1err200.txt', 'alsiter20err200.txt', 'alsiter21err200.txt', 'alsiter22err200.txt', 'alsiter23err200.txt', 'alsiter24err200.txt', 'alsiter25err200.txt', 'alsiter26err200.txt', 'alsiter27err200.txt', 'alsiter28err200.txt', 'alsiter29err200.txt', 'alsiter2err200.txt', 'alsiter30err200.txt', 'alsiter31err200.txt', 'alsiter32err200.txt', 'alsiter33err200.txt', 'alsiter34err200.txt', 'alsiter35err200.txt', 'alsiter36err200.txt', 'alsiter37err200.txt', 'alsiter38err200.txt', 'alsiter39err200.txt', 'alsiter3err200.txt', 'alsiter40err200.txt', 'alsiter41err200.txt', 'alsiter42err200.txt', 'alsiter43err200.txt', 'alsiter44err200.txt', 'alsiter45err200.txt', 'alsiter46err200.txt', 'alsiter47err200.txt', 'alsiter48err200.txt', 'alsiter49err200.txt', 'alsiter4err200.txt', 'alsiter50err200.txt', 'alsiter51err200.txt', 'alsiter52err200.txt', 'alsiter53err200.txt', 'alsiter54err200.txt', 'alsiter55err200.txt', 'alsiter56err200.txt', 'alsiter57err200.txt', 'alsiter58err200.txt', 'alsiter59err200.txt', 'alsiter5err200.txt', 'alsiter60err200.txt', 'alsiter61err200.txt', 'alsiter62err200.txt', 'alsiter63err200.txt', 'alsiter64err200.txt', 'alsiter65err200.txt', 'alsiter66err200.txt', 'alsiter67err200.txt', 'alsiter68err200.txt', 'alsiter69err200.txt', 'alsiter6err200.txt', 'alsiter70err200.txt', 'alsiter71err200.txt', 'alsiter72err200.txt', 'alsiter73err200.txt', 'alsiter74err200.txt', 'alsiter75err200.txt', 'alsiter76err200.txt', 'alsiter77err200.txt', 'alsiter78err200.txt', 'alsiter79err200.txt', 'alsiter7err200.txt', 'alsiter80err200.txt', 'alsiter81err200.txt', 'alsiter82err200.txt', 'alsiter83err200.txt', 'alsiter84err200.txt', 'alsiter85err200.txt', 'alsiter86err200.txt', 'alsiter87err200.txt', 'alsiter88err200.txt', 'alsiter89err200.txt', 'alsiter8err200.txt', 'alsiter90err200.txt', 'alsiter91err200.txt', 'alsiter92err200.txt', 'alsiter93err200.txt', 'alsiter94err200.txt', 'alsiter95err200.txt', 'alsiter96err200.txt', 'alsiter97err200.txt', 'alsiter98err200.txt', 'alsiter99err200.txt', 'alsiter9err200.txt']\n"
     ]
    }
   ],
   "source": [
    "folder = 'Errors/itertests'\n",
    "files = os.listdir(folder)\n",
    "print(files[0:99])"
   ]
  },
  {
   "cell_type": "code",
   "execution_count": 49,
   "metadata": {},
   "outputs": [
    {
     "data": {
      "text/plain": [
       "'alsiter10'"
      ]
     },
     "execution_count": 49,
     "metadata": {},
     "output_type": "execute_result"
    }
   ],
   "source": [
    "files[0][0:9]"
   ]
  }
 ],
 "metadata": {
  "kernelspec": {
   "display_name": "Python 3",
   "language": "python",
   "name": "python3"
  },
  "language_info": {
   "codemirror_mode": {
    "name": "ipython",
    "version": 3
   },
   "file_extension": ".py",
   "mimetype": "text/x-python",
   "name": "python",
   "nbconvert_exporter": "python",
   "pygments_lexer": "ipython3",
   "version": "3.7.6"
  }
 },
 "nbformat": 4,
 "nbformat_minor": 4
}
