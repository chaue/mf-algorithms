{
 "cells": [
  {
   "cell_type": "code",
   "execution_count": 12,
   "metadata": {},
   "outputs": [],
   "source": [
    "import numpy as np\n",
    "import pandas as pd\n",
    "import multiprocessing as mp\n",
    "import glob\n",
    "import re\n",
    "import time, timeit\n",
    "import matplotlib.pyplot as plt\n",
    "from functions import weightsample, als, rk, brk, alstest, rktest, brktest, alswrite, rkwrite, brkwrite, listener, alsmp, rkmp, brkmp, read, extracterr"
   ]
  },
  {
   "cell_type": "markdown",
   "metadata": {},
   "source": [
    "# Speed Comparisons"
   ]
  },
  {
   "cell_type": "markdown",
   "metadata": {},
   "source": [
    "## RK vs BRK"
   ]
  },
  {
   "cell_type": "code",
   "execution_count": 71,
   "metadata": {},
   "outputs": [
    {
     "data": {
      "text/plain": [
       "0.553175"
      ]
     },
     "execution_count": 71,
     "metadata": {},
     "output_type": "execute_result"
    }
   ],
   "source": [
    "bfactor200 = np.random.choice(4, size=(200,4), p=np.array([0.7, 0.1, 0.1, 0.1]))\n",
    "bweight200 = np.random.randint(0, 2, size=(4, 200))\n",
    "b200 = np.matmul(bfactor200, bweight200)\n",
    "np.count_nonzero(b200 == 0) / (b200.shape[0]*b200.shape[1])"
   ]
  },
  {
   "cell_type": "code",
   "execution_count": 5,
   "metadata": {},
   "outputs": [
    {
     "name": "stdout",
     "output_type": "stream",
     "text": [
      "Wall time: 20.3 s\n"
     ]
    }
   ],
   "source": [
    "%%time\n",
    "error = rktest(b200, k = 4, niter = 100, kacziter = 1000)"
   ]
  },
  {
   "cell_type": "code",
   "execution_count": 6,
   "metadata": {},
   "outputs": [
    {
     "name": "stdout",
     "output_type": "stream",
     "text": [
      "Wall time: 15.5 s\n"
     ]
    }
   ],
   "source": [
    "%%time\n",
    "error = brktest(b200, k = 4, s = 1, niter = 100, kacziter = 1000)"
   ]
  },
  {
   "cell_type": "markdown",
   "metadata": {},
   "source": [
    "## ALS vs BRK"
   ]
  },
  {
   "cell_type": "code",
   "execution_count": 7,
   "metadata": {},
   "outputs": [
    {
     "name": "stdout",
     "output_type": "stream",
     "text": [
      "Wall time: 32.1 s\n"
     ]
    }
   ],
   "source": [
    "%%time\n",
    "error = alstest(b200, k = 4, niter = 100*1000)"
   ]
  },
  {
   "cell_type": "code",
   "execution_count": 8,
   "metadata": {},
   "outputs": [
    {
     "name": "stdout",
     "output_type": "stream",
     "text": [
      "Wall time: 33.8 s\n"
     ]
    }
   ],
   "source": [
    "%%time\n",
    "error = brktest(b200, k = 4, s = 200, niter = 100, kacziter = 1000)"
   ]
  },
  {
   "cell_type": "markdown",
   "metadata": {},
   "source": [
    "# Sparse Tests"
   ]
  },
  {
   "cell_type": "markdown",
   "metadata": {},
   "source": [
    "## 50x50 matrix"
   ]
  },
  {
   "cell_type": "code",
   "execution_count": 72,
   "metadata": {},
   "outputs": [
    {
     "data": {
      "text/plain": [
       "0.512"
      ]
     },
     "execution_count": 72,
     "metadata": {},
     "output_type": "execute_result"
    }
   ],
   "source": [
    "sfactor50 = np.random.choice(4, size=(50,4), p=np.array([0.7, 0.1, 0.1, 0.1]))\n",
    "sweight50 = np.random.randint(0, 2, size=(4, 50))\n",
    "s50 = np.matmul(sfactor50, sweight50)\n",
    "np.count_nonzero(s50 == 0) / (s50.shape[0]*s50.shape[1])"
   ]
  },
  {
   "cell_type": "code",
   "execution_count": 7,
   "metadata": {},
   "outputs": [
    {
     "name": "stdout",
     "output_type": "stream",
     "text": [
      "[0.38420618 0.29623185 0.42163281 0.40645825 0.37964073 0.41054305\n",
      " 0.44203489 0.30687028 0.31597839 0.35182171 0.35256397 0.34254329\n",
      " 0.31229496 0.4081136  0.40742362]\n",
      "Wall time: 821 ms\n"
     ]
    }
   ],
   "source": [
    "%%time\n",
    "fname = \"Errors/salserr50.txt\"\n",
    "alsmp(s50, k = 4, niter = 100, filename = fname, loop = 15)\n",
    "salserr50 = np.asarray(read(fname)[:-1]).astype(float)\n",
    "print(salserr50)"
   ]
  },
  {
   "cell_type": "code",
   "execution_count": 75,
   "metadata": {},
   "outputs": [
    {
     "name": "stdout",
     "output_type": "stream",
     "text": [
      "[0.40953313 0.39142642 0.42636876 0.46488628 0.3755663  0.42329456\n",
      " 0.40750195 0.38567192 0.43142436 0.44344061 0.3899928  0.4327309\n",
      " 0.39652966 0.39165409 0.36107959]\n",
      "Wall time: 2min 11s\n"
     ]
    }
   ],
   "source": [
    "%%time\n",
    "fname = \"Errors/sbrkalserr50.txt\"\n",
    "brkmp(s50, k = 4, s = 50, niter = 100, kacziter = 1000, filename = fname, loop = 15)\n",
    "sbrk50err50 = np.asarray(read(fname)[:-1]).astype(float)\n",
    "print(sbrk50err50)"
   ]
  },
  {
   "cell_type": "code",
   "execution_count": 8,
   "metadata": {},
   "outputs": [
    {
     "name": "stdout",
     "output_type": "stream",
     "text": [
      "[1.18390955 0.98944136 1.05139001 1.12116848 1.13755777 1.10441665\n",
      " 0.97488825 1.1612159  0.88377034 1.14643438 0.98412324 1.11999015\n",
      " 1.11724917 1.24702333 0.98698378]\n",
      "Wall time: 1min 14s\n"
     ]
    }
   ],
   "source": [
    "%%time\n",
    "fname = \"Errors/srkerr50.txt\"\n",
    "rkmp(s50, k = 4, niter = 100, kacziter = 1000, filename = fname, loop = 15)\n",
    "srkerr50 = np.asarray(read(fname)[:-1]).astype(float)\n",
    "print(srkerr50)"
   ]
  },
  {
   "cell_type": "code",
   "execution_count": 74,
   "metadata": {},
   "outputs": [
    {
     "name": "stdout",
     "output_type": "stream",
     "text": [
      "[1.32209014 1.11326078 1.20466338 1.61155654 1.31539943 1.46989057\n",
      " 1.15329552 2.07695628 1.56082177 1.54789154 1.39641613 1.52869981\n",
      " 1.1519425  1.37874682 1.48552956]\n",
      "Wall time: 1min 17s\n"
     ]
    }
   ],
   "source": [
    "%%time\n",
    "fname = \"Errors/sbrkrkerr50.txt\"\n",
    "brkmp(s50, k = 4, s = 1, niter = 100, kacziter = 1000, filename = fname, loop = 15)\n",
    "sbrk1err50 = np.asarray(read(fname)[:-1]).astype(float)\n",
    "print(sbrk1err50)"
   ]
  },
  {
   "cell_type": "markdown",
   "metadata": {},
   "source": [
    "## 200x200 matrix"
   ]
  },
  {
   "cell_type": "code",
   "execution_count": 76,
   "metadata": {},
   "outputs": [
    {
     "data": {
      "text/plain": [
       "0.52845"
      ]
     },
     "execution_count": 76,
     "metadata": {},
     "output_type": "execute_result"
    }
   ],
   "source": [
    "sfactor200 = np.random.choice(4, size=(200,4), p=np.array([0.7, 0.1, 0.1, 0.1]))\n",
    "sweight200 = np.random.randint(0, 2, size=(4, 200))\n",
    "s200 = np.matmul(sfactor200, sweight200)\n",
    "np.count_nonzero(s200 == 0) / (s200.shape[0]*s200.shape[1])"
   ]
  },
  {
   "cell_type": "code",
   "execution_count": 6,
   "metadata": {},
   "outputs": [
    {
     "name": "stdout",
     "output_type": "stream",
     "text": [
      "[0.69800074 0.73315758 0.71624703 0.69565913 0.73224554 0.68052433\n",
      " 0.70920118 0.71996476 0.72743624 0.74639007 0.73475631 0.71144318\n",
      " 0.74228782 0.68695157 0.71392328]\n",
      "Wall time: 1.21 s\n"
     ]
    }
   ],
   "source": [
    "%%time\n",
    "fname = \"Errors/salserr200.txt\"\n",
    "alsmp(s200, k = 4, niter = 100, filename = fname, loop = 15)\n",
    "salserr200 = np.asarray(read(fname)[:-1]).astype(float)\n",
    "print(salserr200)"
   ]
  },
  {
   "cell_type": "code",
   "execution_count": 110,
   "metadata": {},
   "outputs": [
    {
     "name": "stdout",
     "output_type": "stream",
     "text": [
      "[0.71789142 0.73556744 0.71736977 0.7206816  0.71881303 0.72767529\n",
      " 0.70036026 0.70887766 0.71419045 0.74632658 0.71443073 0.72024206\n",
      " 0.72286736 0.71759879 0.71703052]\n",
      "Wall time: 5min 19s\n"
     ]
    }
   ],
   "source": [
    "%%time\n",
    "fname = \"Errors/sbrkalserr200.txt\"\n",
    "brkmp(s200, k = 4, s = 200, niter = 100, kacziter = 1000, filename = fname, loop = 15)\n",
    "sbrk200err200 = np.asarray(read(fname)[:-1]).astype(float)\n",
    "print(sbrk200err200)"
   ]
  },
  {
   "cell_type": "code",
   "execution_count": 4,
   "metadata": {},
   "outputs": [
    {
     "name": "stdout",
     "output_type": "stream",
     "text": [
      "[1.07046558 0.96626291 0.98479957 0.98807484 0.98778605 1.04139922\n",
      " 0.96825765 0.94717635 1.04365655 1.10103661 0.9967595  1.03074732\n",
      " 1.06907494 0.9923334  0.93555844]\n",
      "Wall time: 1min 42s\n"
     ]
    }
   ],
   "source": [
    "%%time\n",
    "fname = \"Errors/srkerr200.txt\"\n",
    "rkmp(s200, k = 4, niter = 100, kacziter = 1000, filename = fname, loop = 15)\n",
    "srkerr200 = np.asarray(read(fname)[:-1]).astype(float)\n",
    "print(srkerr200)"
   ]
  },
  {
   "cell_type": "code",
   "execution_count": 111,
   "metadata": {},
   "outputs": [
    {
     "name": "stdout",
     "output_type": "stream",
     "text": [
      "[1.107062   1.10974751 1.24180456 1.22277218 1.0558441  1.05439756\n",
      " 1.12582165 1.48932848 1.14757815 1.22806998 1.12803864 1.0846816\n",
      " 1.33408318 1.27025374 1.28013696]\n",
      "Wall time: 1min 21s\n"
     ]
    }
   ],
   "source": [
    "%%time\n",
    "fname = \"Errors/sbrkrkerr200.txt\"\n",
    "brkmp(s200, k = 4, s = 1, niter = 100, kacziter = 1000, filename = fname, loop = 15)\n",
    "sbrk1err200 = np.asarray(read(fname)[:-1]).astype(float)\n",
    "print(sbrk1err200)"
   ]
  },
  {
   "cell_type": "markdown",
   "metadata": {},
   "source": [
    "## 1000x1000 matrix"
   ]
  },
  {
   "cell_type": "code",
   "execution_count": 80,
   "metadata": {},
   "outputs": [
    {
     "data": {
      "text/plain": [
       "0.521335"
      ]
     },
     "execution_count": 80,
     "metadata": {},
     "output_type": "execute_result"
    }
   ],
   "source": [
    "sfactor1k = np.random.choice(4, size=(1000,4), p=np.array([0.7, 0.1, 0.1, 0.1]))\n",
    "sweight1k = np.random.randint(0, 2, size=(4, 1000))\n",
    "s1k = np.matmul(sfactor1k, sweight1k)\n",
    "np.count_nonzero(s1k == 0) / (s1k.shape[0]*s1k.shape[1])"
   ]
  },
  {
   "cell_type": "code",
   "execution_count": 3,
   "metadata": {},
   "outputs": [
    {
     "name": "stdout",
     "output_type": "stream",
     "text": [
      "[0.80573552 0.80216327 0.80657376 0.81001677 0.80149177 0.79916573\n",
      " 0.80612909 0.80201629 0.80344161 0.8027064  0.80175479 0.81126418\n",
      " 0.80535349 0.80105497 0.81371224]\n",
      "Wall time: 10.6 s\n"
     ]
    }
   ],
   "source": [
    "%%time\n",
    "fname = \"Errors/salserr1k.txt\"\n",
    "alsmp(s1k, k = 4, niter = 100, filename = fname, loop = 15)\n",
    "salserr1k = np.asarray(read(fname)[:-1]).astype(float)\n",
    "print(salserr1k)"
   ]
  },
  {
   "cell_type": "code",
   "execution_count": 81,
   "metadata": {},
   "outputs": [
    {
     "name": "stdout",
     "output_type": "stream",
     "text": [
      "[0.80933991 0.80278014 0.8069687  0.8062686  0.8006387  0.80681907\n",
      " 0.80238443 0.80783345 0.80103394 0.81340844 0.79988863 0.81004607\n",
      " 0.79880363 0.80870494 0.80838993]\n",
      "Wall time: 12min 28s\n"
     ]
    }
   ],
   "source": [
    "%%time\n",
    "fname = \"Errors/sbrkalserr1k.txt\"\n",
    "brkmp(s1k, k = 4, s = 1000, niter = 100, kacziter = 1000, filename = fname, loop = 15)\n",
    "sbrk1kerr1k = np.asarray(read(fname)[:-1]).astype(float)\n",
    "print(sbrk1kerr1k)"
   ]
  },
  {
   "cell_type": "code",
   "execution_count": 80,
   "metadata": {},
   "outputs": [
    {
     "name": "stdout",
     "output_type": "stream",
     "text": [
      "[0.87677716 0.88692608 0.8973841  0.87853631 0.87853003 0.88139374\n",
      " 0.8842172  0.91498297 0.88449002 0.85962563 0.86906372 0.88098857\n",
      " 0.88927594 0.88205422 0.88487096]\n",
      "Wall time: 4min 37s\n"
     ]
    }
   ],
   "source": [
    "%%time\n",
    "fname = \"Errors/srkerr1k.txt\"\n",
    "rkmp(s1k, k = 4, niter = 100, kacziter = 1000, filename = fname, loop = 15)\n",
    "srkerr1k = np.asarray(read(fname)[:-1]).astype(float)\n",
    "print(srkerr1k)"
   ]
  },
  {
   "cell_type": "code",
   "execution_count": 82,
   "metadata": {},
   "outputs": [
    {
     "name": "stdout",
     "output_type": "stream",
     "text": [
      "[0.90168907 0.95694253 0.92206567 0.89240453 0.9072506  0.90979955\n",
      " 0.91629477 0.90741972 0.90892332 0.88792584 0.90250304 0.91116717\n",
      " 0.92072746 0.91440177 0.92855916]\n",
      "Wall time: 2min 14s\n"
     ]
    }
   ],
   "source": [
    "%%time\n",
    "fname = \"Errors/sbrkrkerr1k.txt\"\n",
    "brkmp(s1k, k = 4, s = 1, niter = 100, kacziter = 1000, filename = fname, loop = 15)\n",
    "sbrk1err1k = np.asarray(read(fname)[:-1]).astype(float)\n",
    "print(sbrk1err1k)"
   ]
  },
  {
   "cell_type": "markdown",
   "metadata": {},
   "source": [
    "## 10,000x10,000 matrix"
   ]
  },
  {
   "cell_type": "code",
   "execution_count": 83,
   "metadata": {},
   "outputs": [
    {
     "data": {
      "text/plain": [
       "0.52070933"
      ]
     },
     "execution_count": 83,
     "metadata": {},
     "output_type": "execute_result"
    }
   ],
   "source": [
    "sfactor10k = np.random.choice(4, size=(10000,4), p=np.array([0.7, 0.1, 0.1, 0.1]))\n",
    "sweight10k = np.random.randint(0, 2, size=(4, 10000))\n",
    "s10k = np.matmul(sfactor10k, sweight10k)\n",
    "np.count_nonzero(s10k == 0) / (s10k.shape[0]*s10k.shape[1])"
   ]
  },
  {
   "cell_type": "code",
   "execution_count": 5,
   "metadata": {},
   "outputs": [
    {
     "name": "stdout",
     "output_type": "stream",
     "text": [
      "[0.82840739 0.82504429 0.82773252 0.82928556 0.82763171 0.8285348\n",
      " 0.82737003 0.82887042 0.82889542 0.82897594 0.82679751 0.82827703\n",
      " 0.82912263 0.82773023 0.82671306]\n",
      "Wall time: 15min 20s\n"
     ]
    }
   ],
   "source": [
    "%%time\n",
    "fname = \"Errors/salserr10k.txt\"\n",
    "alsmp(s10k, k = 4, niter = 100, filename = fname, loop = 15, cores = 4)\n",
    "salserr10k = np.asarray(read(fname)[:-1]).astype(float)\n",
    "print(salserr10k)"
   ]
  },
  {
   "cell_type": "code",
   "execution_count": 85,
   "metadata": {},
   "outputs": [
    {
     "name": "stdout",
     "output_type": "stream",
     "text": [
      "[0.82583776 0.82676977 0.82617079 0.82759082 0.82639718 0.8273766\n",
      " 0.82719956 0.82784144 0.82708988 0.82748373 0.82700575 0.82755176\n",
      " 0.82672359 0.82729159 0.82718799]\n",
      "Wall time: 1h 26min 59s\n"
     ]
    }
   ],
   "source": [
    "%%time\n",
    "fname = \"Errors/sbrkalserr10k.txt\"\n",
    "brkmp(s10k, k = 4, s = 10000, niter = 100, kacziter = 1000, filename = fname, loop = 15, cores = 4)\n",
    "brk10kerr10k = np.asarray(read(fname)[:-1]).astype(float)\n",
    "print(brk10kerr10k)"
   ]
  },
  {
   "cell_type": "code",
   "execution_count": 66,
   "metadata": {},
   "outputs": [
    {
     "name": "stdout",
     "output_type": "stream",
     "text": [
      "[0.83463597 0.83132702 0.8326967  0.83105344 0.83522645 0.83206659\n",
      " 0.83244447 0.83167453 0.83342598 0.83171137 0.83252735 0.8319188\n",
      " 0.83074581 0.83371479 0.83355197]\n",
      "Wall time: 53min 56s\n"
     ]
    }
   ],
   "source": [
    "%%time\n",
    "fname = \"Errors/srkerr10k.txt\"\n",
    "rkmp(s10k, k = 4, niter = 100, kacziter = 1000, filename = fname, loop = 15)\n",
    "srkerr10k = np.asarray(read(fname)[:-1]).astype(float)\n",
    "print(srkerr10k)"
   ]
  },
  {
   "cell_type": "code",
   "execution_count": 86,
   "metadata": {},
   "outputs": [
    {
     "name": "stdout",
     "output_type": "stream",
     "text": [
      "[0.83845441 0.83670277 0.83915087 0.83813946 0.83739915 0.83761236\n",
      " 0.83379502 0.8350459  0.83885333 0.85295429 0.83879564 0.83634928\n",
      " 0.83516253 0.84921218 0.83760287]\n",
      "Wall time: 34min 15s\n"
     ]
    }
   ],
   "source": [
    "%%time\n",
    "fname = \"Errors/sbrkrkerr10k.txt\"\n",
    "brkmp(s10k, k = 4, s = 1, niter = 100, kacziter = 1000, filename = fname, loop = 15)\n",
    "brk1err10k = np.asarray(read(fname)[:-1]).astype(float)\n",
    "print(brk1err10k)"
   ]
  },
  {
   "cell_type": "markdown",
   "metadata": {},
   "source": [
    "## Error Plots"
   ]
  },
  {
   "cell_type": "code",
   "execution_count": 142,
   "metadata": {},
   "outputs": [],
   "source": [
    "datapath = 'Errors/*.txt'\n",
    "datafiles = list(glob.glob(datapath))"
   ]
  },
  {
   "cell_type": "code",
   "execution_count": 143,
   "metadata": {},
   "outputs": [
    {
     "name": "stdout",
     "output_type": "stream",
     "text": [
      "['50', '200', '1k', '10k']\n"
     ]
    }
   ],
   "source": [
    "alstitle, alserr, alsstd = extracterr(\"sals\", datafiles)\n",
    "print(alstitle)"
   ]
  },
  {
   "cell_type": "code",
   "execution_count": 144,
   "metadata": {},
   "outputs": [],
   "source": [
    "rktitle, rkerr, rkstd = extracterr(\"srk\", datafiles)"
   ]
  },
  {
   "cell_type": "code",
   "execution_count": 145,
   "metadata": {},
   "outputs": [],
   "source": [
    "brkalstitle, brkalserr, brkalsstd = extracterr(\"sbrkals\", datafiles)\n",
    "brkrktitle, brkrkerr, brkrkstd = extracterr(\"sbrkrk\", datafiles)"
   ]
  },
  {
   "cell_type": "code",
   "execution_count": 146,
   "metadata": {},
   "outputs": [
    {
     "name": "stdout",
     "output_type": "stream",
     "text": [
      "['50', '200', '1k', '10k']\n",
      "['50', '200', '1k', '10k']\n"
     ]
    }
   ],
   "source": [
    "print(brkalstitle)\n",
    "print(brkrktitle)"
   ]
  },
  {
   "cell_type": "code",
   "execution_count": 161,
   "metadata": {},
   "outputs": [
    {
     "data": {
      "image/png": "[encoded data removed]",
      "text/plain": [
       "<Figure size 792x432 with 1 Axes>"
      ]
     },
     "metadata": {
      "needs_background": "light"
     },
     "output_type": "display_data"
    }
   ],
   "source": [
    "n = len(alserr)\n",
    "ind = 2*np.arange(n)  # the x locations for the groups\n",
    "width = 0.35       # the width of the bars\n",
    "\n",
    "fig = plt.figure(figsize=(11,6))\n",
    "ax = fig.add_subplot(111)\n",
    "rects1 = ax.bar(ind, alserr, width, yerr=alsstd, capsize=5)\n",
    "rects2 = ax.bar(ind+width, brkalserr, width, yerr=brkalsstd, capsize=5)\n",
    "rects3 = ax.bar(ind+2*width, rkerr, width, yerr=rkstd, capsize=5)\n",
    "rects4 = ax.bar(ind+3*width, brkrkerr, width, yerr=brkrkstd, capsize=5)\n",
    "\n",
    "# add some\n",
    "ax.set_ylabel('Relative Error')\n",
    "ax.set_xlabel('Dimension')\n",
    "ax.set_title('Sparse Matrix Dimension vs Relative Error')\n",
    "ax.set_xticks(ind + 2*width)\n",
    "ax.set_xticklabels( ('50', '200', '1,000', '10,000') )\n",
    "\n",
    "ax.legend( (rects1[0], rects2[0], rects3[0], rects4[0]), ('ALS', 'BRK ALS', 'RK', 'BRK RK') )\n",
    "\n",
    "plt.show()"
   ]
  },
  {
   "cell_type": "markdown",
   "metadata": {},
   "source": [
    "# Dense Tests"
   ]
  },
  {
   "cell_type": "markdown",
   "metadata": {},
   "source": [
    "## 50x50 matrix"
   ]
  },
  {
   "cell_type": "code",
   "execution_count": 87,
   "metadata": {},
   "outputs": [
    {
     "data": {
      "text/plain": [
       "0.4848"
      ]
     },
     "execution_count": 87,
     "metadata": {},
     "output_type": "execute_result"
    }
   ],
   "source": [
    "dfactor50 = np.random.choice(4, size=(50,4), p=np.array([0.7, 0.1, 0.1, 0.1]))\n",
    "dweight50 = np.random.randint(0, 2, size=(4, 50))\n",
    "d50 = np.matmul(dfactor50, dweight50)\n",
    "np.count_nonzero(d50 == 0) / (d50.shape[0]*d50.shape[1])"
   ]
  },
  {
   "cell_type": "code",
   "execution_count": 6,
   "metadata": {},
   "outputs": [
    {
     "name": "stdout",
     "output_type": "stream",
     "text": [
      "[0.43371888 0.37504556 0.4476757  0.25585386 0.38419529 0.26802343\n",
      " 0.32854191 0.4541685  0.37170317 0.27079105 0.32981316 0.33864429\n",
      " 0.35125232 0.31467782 0.32253532]\n",
      "Wall time: 1.73 s\n"
     ]
    }
   ],
   "source": [
    "%%time\n",
    "fname = \"Errors/dalserr50.txt\"\n",
    "alsmp(d50, k = 4, niter = 100, filename = fname, loop = 15)\n",
    "dalserr50 = np.asarray(read(fname)[:-1]).astype(float)\n",
    "print(dalserr50)"
   ]
  },
  {
   "cell_type": "code",
   "execution_count": 89,
   "metadata": {},
   "outputs": [
    {
     "name": "stdout",
     "output_type": "stream",
     "text": [
      "[0.41415609 0.34322362 0.34145347 0.38875901 0.3741523  0.43157208\n",
      " 0.45474056 0.39762268 0.38052936 0.43843742 0.37274034 0.3644743\n",
      " 0.43603401 0.41680571 0.40379223]\n",
      "Wall time: 1min 42s\n"
     ]
    }
   ],
   "source": [
    "%%time\n",
    "fname = \"Errors/dbrk1err50.txt\"\n",
    "brkmp(d50, k = 4, s = 50, niter = 100, kacziter = 1000, filename = fname, loop = 15)\n",
    "dbrk50err50 = np.asarray(read(fname)[:-1]).astype(float)\n",
    "print(dbrk50err50)"
   ]
  },
  {
   "cell_type": "code",
   "execution_count": 7,
   "metadata": {},
   "outputs": [
    {
     "name": "stdout",
     "output_type": "stream",
     "text": [
      "[0.82063677 0.9265537  0.94625839 0.93323904 1.13555342 0.96528852\n",
      " 0.93338154 0.9885525  0.98971829 1.01658153 0.89295443 0.93343437\n",
      " 0.84803218 1.20651647 1.00107148]\n",
      "Wall time: 1min 11s\n"
     ]
    }
   ],
   "source": [
    "%%time\n",
    "fname = \"Errors/drkerr50.txt\"\n",
    "rkmp(d50, k = 4, niter = 100, kacziter = 1000, filename = fname, loop = 15)\n",
    "drkerr50 = np.asarray(read(fname)[:-1]).astype(float)\n",
    "print(drkerr50)"
   ]
  },
  {
   "cell_type": "code",
   "execution_count": 90,
   "metadata": {},
   "outputs": [
    {
     "name": "stdout",
     "output_type": "stream",
     "text": [
      "[1.4388372  1.56553274 1.33707225 1.4369941  1.46693641 1.0906025\n",
      " 1.5531184  1.05047844 1.22225224 1.37898488 1.54443979 1.22154177\n",
      " 1.20378635 1.18534703 1.43369847]\n",
      "Wall time: 1min 8s\n"
     ]
    }
   ],
   "source": [
    "%%time\n",
    "fname = \"Errors/dbrk1err50.txt\"\n",
    "brkmp(d50, k = 4, s = 1, niter = 100, kacziter = 1000, filename = fname, loop = 15)\n",
    "dbrk1err50 = np.asarray(read(fname)[:-1]).astype(float)\n",
    "print(dbrk1err50)"
   ]
  },
  {
   "cell_type": "markdown",
   "metadata": {},
   "source": [
    "## 200x200 matrix"
   ]
  },
  {
   "cell_type": "code",
   "execution_count": 92,
   "metadata": {},
   "outputs": [
    {
     "data": {
      "text/plain": [
       "0.5397"
      ]
     },
     "execution_count": 92,
     "metadata": {},
     "output_type": "execute_result"
    }
   ],
   "source": [
    "dfactor200 = np.random.choice(4, size=(200,4), p=np.array([0.7, 0.1, 0.1, 0.1]))\n",
    "dweight200 = np.random.randint(0, 2, size=(4, 200))\n",
    "d200 = np.matmul(dfactor200, dweight200)\n",
    "np.count_nonzero(d200 == 0) / (d200.shape[0]*d200.shape[1])"
   ]
  },
  {
   "cell_type": "code",
   "execution_count": 9,
   "metadata": {},
   "outputs": [
    {
     "name": "stdout",
     "output_type": "stream",
     "text": [
      "[0.71115283 0.67016919 0.69945936 0.70162428 0.71926671 0.71245664\n",
      " 0.71715277 0.70377826 0.70599016 0.70705302 0.70836051 0.69214348\n",
      " 0.71275215 0.71835256 0.67173452]\n",
      "Wall time: 1.22 s\n"
     ]
    }
   ],
   "source": [
    "%%time\n",
    "fname = \"Errors/dalserr200.txt\"\n",
    "alsmp(d200, k = 4, niter = 100, filename = fname, loop = 15)\n",
    "dalserr200 = np.asarray(read(fname)[:-1]).astype(float)\n",
    "print(dalserr200)"
   ]
  },
  {
   "cell_type": "code",
   "execution_count": 93,
   "metadata": {},
   "outputs": [
    {
     "name": "stdout",
     "output_type": "stream",
     "text": [
      "[0.70033598 0.71734413 0.68968251 0.75412031 0.69908387 0.71498477\n",
      " 0.72166805 0.73231394 0.70659329 0.7350821  0.73490232 0.71862133\n",
      " 0.7310454  0.7363544  0.71108027]\n",
      "Wall time: 5min 15s\n"
     ]
    }
   ],
   "source": [
    "%%time\n",
    "fname = \"Errors/dbrk200err200.txt\"\n",
    "brkmp(d200, k = 4, s = 200, niter = 100, kacziter = 1000, filename = fname, loop = 15)\n",
    "dbrk200err200 = np.asarray(read(fname)[:-1]).astype(float)\n",
    "print(dbrk200err200)"
   ]
  },
  {
   "cell_type": "code",
   "execution_count": 10,
   "metadata": {},
   "outputs": [
    {
     "name": "stdout",
     "output_type": "stream",
     "text": [
      "[1.01963463 0.97079728 1.03464515 0.95089754 0.95455478 1.00505888\n",
      " 0.92972789 0.951526   1.01876916 0.96120489 0.96973967 0.98574261\n",
      " 0.97856256 0.98248655 0.95849656]\n",
      "Wall time: 1min 42s\n"
     ]
    }
   ],
   "source": [
    "%%time\n",
    "fname = \"Errors/drkerr200.txt\"\n",
    "rkmp(d200, k = 4, niter = 100, kacziter = 1000, filename = fname, loop = 15)\n",
    "drkerr200 = np.asarray(read(fname)[:-1]).astype(float)\n",
    "print(drkerr200)"
   ]
  },
  {
   "cell_type": "code",
   "execution_count": 94,
   "metadata": {},
   "outputs": [
    {
     "name": "stdout",
     "output_type": "stream",
     "text": [
      "[1.10238265 1.1670957  1.09057127 1.08099275 1.04033725 1.1155012\n",
      " 1.21004994 1.17422411 1.11786864 1.03789822 1.13433232 1.05853215\n",
      " 1.17790668 1.39008514 1.0656367 ]\n",
      "Wall time: 1min 22s\n"
     ]
    }
   ],
   "source": [
    "%%time\n",
    "fname = \"Errors/dbrk1err200.txt\"\n",
    "brkmp(d200, k = 4, s = 1, niter = 100, kacziter = 1000, filename = fname, loop = 15)\n",
    "dbrk1err200 = np.asarray(read(fname)[:-1]).astype(float)\n",
    "print(dbrk1err200)"
   ]
  },
  {
   "cell_type": "markdown",
   "metadata": {},
   "source": [
    "## 1000x1000 matrix"
   ]
  },
  {
   "cell_type": "code",
   "execution_count": 67,
   "metadata": {},
   "outputs": [
    {
     "data": {
      "text/plain": [
       "0.525664"
      ]
     },
     "execution_count": 67,
     "metadata": {},
     "output_type": "execute_result"
    }
   ],
   "source": [
    "dfactor1k = np.random.choice(4, size=(1000,4), p=np.array([0.7, 0.1, 0.1, 0.1]))\n",
    "dweight1k = np.random.randint(0, 2, size=(4, 1000))\n",
    "d1k = np.matmul(dfactor1k, dweight1k)\n",
    "np.count_nonzero(d1k == 0) / (d1k.shape[0]*d1k.shape[1])"
   ]
  },
  {
   "cell_type": "code",
   "execution_count": 12,
   "metadata": {},
   "outputs": [
    {
     "name": "stdout",
     "output_type": "stream",
     "text": [
      "[0.80175321 0.8093114  0.80925409 0.81665466 0.81168322 0.80925443\n",
      " 0.81157313 0.80596311 0.81263762 0.80673858 0.80446207 0.80468717\n",
      " 0.81520691 0.81214437 0.80760215]\n",
      "Wall time: 10.6 s\n"
     ]
    }
   ],
   "source": [
    "%%time\n",
    "fname = \"Errors/dalserr1k.txt\"\n",
    "alsmp(d1k, k = 4, niter = 100, filename = fname, loop = 15)\n",
    "dalserr1k = np.asarray(read(fname)[:-1]).astype(float)\n",
    "print(dalserr1k)"
   ]
  },
  {
   "cell_type": "code",
   "execution_count": null,
   "metadata": {},
   "outputs": [],
   "source": [
    "%%time\n",
    "fname = \"Errors/dbrk1err1k.txt\"\n",
    "brkmp(d1k, k = 4, s = 1, niter = 100, filename = fname, loop = 15)\n",
    "dbrk1err1k = np.asarray(read(fname)[:-1]).astype(float)\n",
    "print(dbrk1err1k)"
   ]
  },
  {
   "cell_type": "code",
   "execution_count": 68,
   "metadata": {},
   "outputs": [
    {
     "name": "stdout",
     "output_type": "stream",
     "text": [
      "[0.87200605 0.87216129 0.88213478 0.87679657 0.86320041 0.89580873\n",
      " 0.89142686 0.87965736 0.88007234 0.87006469 0.86548832 0.8723532\n",
      " 0.87471097 0.87264556 0.86120275]\n",
      "Wall time: 4min 28s\n"
     ]
    }
   ],
   "source": [
    "%%time\n",
    "fname = \"Errors/drkerr1k.txt\"\n",
    "rkmp(d1k, k = 4, niter = 100, kacziter = 1000, filename = fname, loop = 15)\n",
    "drkerr1k = np.asarray(read(fname)[:-1]).astype(float)\n",
    "print(drkerr1k)"
   ]
  },
  {
   "cell_type": "code",
   "execution_count": null,
   "metadata": {},
   "outputs": [],
   "source": [
    "%%time\n",
    "fname = \"Errors/dbrk1kerr1k.txt\"\n",
    "brkmp(d1k, k = 4, s = 1000, niter = 100, filename = fname, loop = 15)\n",
    "dbrk1kerr1k = np.asarray(read(fname)[:-1]).astype(float)\n",
    "print(dbrk1kerr1k)"
   ]
  },
  {
   "cell_type": "markdown",
   "metadata": {},
   "source": [
    "## 10,000x10,000 matrix"
   ]
  },
  {
   "cell_type": "code",
   "execution_count": 69,
   "metadata": {},
   "outputs": [
    {
     "data": {
      "text/plain": [
       "0.52765071"
      ]
     },
     "execution_count": 69,
     "metadata": {},
     "output_type": "execute_result"
    }
   ],
   "source": [
    "dfactor10k = np.random.choice(4, size=(10000,4), p=np.array([0.7, 0.1, 0.1, 0.1]))\n",
    "dweight10k = np.random.randint(0, 2, size=(4, 10000))\n",
    "d10k = np.matmul(dfactor10k, dweight10k)\n",
    "np.count_nonzero(d10k == 0) / (d10k.shape[0]*d10k.shape[1])"
   ]
  },
  {
   "cell_type": "code",
   "execution_count": 4,
   "metadata": {},
   "outputs": [
    {
     "name": "stdout",
     "output_type": "stream",
     "text": [
      "[0.82758483 0.82759903 0.82615887 0.82560387 0.82811139 0.82593277\n",
      " 0.82680554 0.82897845 0.82587531 0.82538244 0.82798453 0.82888699\n",
      " 0.82907092 0.82791305 0.8254652 ]\n",
      "Wall time: 15min 8s\n"
     ]
    }
   ],
   "source": [
    "%%time\n",
    "fname = \"Errors/dalserr10k.txt\"\n",
    "alsmp(d10k, k = 4, niter = 100, filename = fname, loop = 15, cores = 4)\n",
    "dalserr10k = np.asarray(read(fname)[:-1]).astype(float)\n",
    "print(dalserr10k)"
   ]
  },
  {
   "cell_type": "code",
   "execution_count": null,
   "metadata": {},
   "outputs": [],
   "source": [
    "%%time\n",
    "fname = \"Errors/dbrk1err10k.txt\"\n",
    "brkmp(d10k, k = 4, s = 1, niter = 100, filename = fname, loop = 15, cores = 4)\n",
    "dbrk1err10k = np.asarray(read(fname)[:-1]).astype(float)\n",
    "print(dbrk1err10k)"
   ]
  },
  {
   "cell_type": "code",
   "execution_count": 70,
   "metadata": {},
   "outputs": [
    {
     "name": "stdout",
     "output_type": "stream",
     "text": [
      "[0.83651625 0.8386287  0.83683639 0.83737113 0.83663193 0.83741887\n",
      " 0.83551104 0.83579547 0.83489275 0.83846479 0.836588   0.83458544\n",
      " 0.83558222 0.83657496 0.83836295]\n",
      "Wall time: 58min 38s\n"
     ]
    }
   ],
   "source": [
    "%%time\n",
    "fname = \"Errors/drkerr10k.txt\"\n",
    "rkmp(d10k, k = 4, niter = 100, kacziter = 1000, filename = fname, loop = 15, cores = 4)\n",
    "drkerr10k = np.asarray(read(fname)[:-1]).astype(float)\n",
    "print(drkerr10k)"
   ]
  },
  {
   "cell_type": "code",
   "execution_count": null,
   "metadata": {},
   "outputs": [],
   "source": [
    "%%time\n",
    "fname = \"Errors/dbrk1err10k.txt\"\n",
    "brkmp(d10k, k = 4, s = 10000, niter = 100, filename = fname, loop = 15, cores = 4)\n",
    "dbrk10kerr10k = np.asarray(read(fname)[:-1]).astype(float)\n",
    "print(dbrk10kerr10k)"
   ]
  },
  {
   "cell_type": "markdown",
   "metadata": {},
   "source": [
    "# Error Plots"
   ]
  },
  {
   "cell_type": "code",
   "execution_count": 139,
   "metadata": {},
   "outputs": [],
   "source": [
    "datapath = 'Errors/*.txt'\n",
    "datafiles = list(glob.glob(datapath))\n",
    "alstitle, alserr, alsstd = extracterr(\"dals\", datafiles)\n",
    "rktitle, rkerr, rkstd = extracterr(\"drk\", datafiles)"
   ]
  },
  {
   "cell_type": "code",
   "execution_count": 140,
   "metadata": {},
   "outputs": [
    {
     "name": "stdout",
     "output_type": "stream",
     "text": [
      "['50', '200', '1k', '10k']\n",
      "['50', '200', '1k', '10k']\n"
     ]
    }
   ],
   "source": [
    "print(alstitle)\n",
    "print(rktitle)"
   ]
  },
  {
   "cell_type": "code",
   "execution_count": 162,
   "metadata": {},
   "outputs": [
    {
     "data": {
      "image/png": "[encoded data removed]",
      "text/plain": [
       "<Figure size 432x288 with 1 Axes>"
      ]
     },
     "metadata": {
      "needs_background": "light"
     },
     "output_type": "display_data"
    }
   ],
   "source": [
    "n = len(alserr)\n",
    "ind = np.arange(n)  # the x locations for the groups\n",
    "width = 0.35       # the width of the bars\n",
    "\n",
    "fig = plt.figure()\n",
    "ax = fig.add_subplot(111)\n",
    "rects1 = ax.bar(ind, alserr, width, yerr=alsstd, capsize=5)\n",
    "\n",
    "rects2 = ax.bar(ind+width, rkerr, width, yerr=rkstd, capsize=5)\n",
    "\n",
    "# add some\n",
    "ax.set_ylabel('Relative Error')\n",
    "ax.set_title('Dimension vs Relative Error')\n",
    "ax.set_xticks(ind + width / 2)\n",
    "ax.set_xticklabels( ('50', '200', '1,000', '10,000') )\n",
    "\n",
    "ax.legend( (rects1[0], rects2[0]), ('ALS', 'RK') )\n",
    "\n",
    "plt.show()"
   ]
  },
  {
   "cell_type": "markdown",
   "metadata": {},
   "source": [
    "# BRK Sampling Tests"
   ]
  },
  {
   "cell_type": "code",
   "execution_count": 27,
   "metadata": {},
   "outputs": [
    {
     "data": {
      "text/plain": [
       "0.512975"
      ]
     },
     "execution_count": 27,
     "metadata": {},
     "output_type": "execute_result"
    }
   ],
   "source": [
    "bfactor200 = np.random.choice(4, size=(200,4), p=np.array([0.7, 0.1, 0.1, 0.1]))\n",
    "bweight200 = np.random.randint(0, 2, size=(4, 200))\n",
    "b200 = np.matmul(bfactor200, bweight200)\n",
    "np.count_nonzero(b200 == 0) / (b200.shape[0]*b200.shape[1])"
   ]
  },
  {
   "cell_type": "code",
   "execution_count": 24,
   "metadata": {},
   "outputs": [
    {
     "name": "stdout",
     "output_type": "stream",
     "text": [
      "Wall time: 9min 52s\n"
     ]
    }
   ],
   "source": [
    "%%time\n",
    "i = 2\n",
    "while(i <= 10):\n",
    "    fname = \"Errors/BRK/sbrk\" + str(i) + \"err200.txt\"\n",
    "    brkmp(b200, k = 4, s = i, niter = 100, kacziter = 1000, filename = fname, loop = 15)\n",
    "    i = i + 2"
   ]
  },
  {
   "cell_type": "markdown",
   "metadata": {},
   "source": [
    "# Error Plots"
   ]
  },
  {
   "cell_type": "code",
   "execution_count": 56,
   "metadata": {},
   "outputs": [],
   "source": [
    "datapath = 'Errors/BRK/*.txt'\n",
    "datafiles = list(glob.glob(datapath))\n",
    "#print(datafiles)\n",
    "brktitle, brkerr, brkstd = extracterr(\"sbrk\", datafiles)\n",
    "#brkerr"
   ]
  },
  {
   "cell_type": "code",
   "execution_count": 57,
   "metadata": {},
   "outputs": [],
   "source": [
    "data = pd.DataFrame({'k': list(map(int, brktitle)),\n",
    "                     'err': brkerr,\n",
    "                     'std': brkstd})\n",
    "data = data.sort_values(by=['k'])\n",
    "#data\n",
    "#data.loc[data['err'] > 1]"
   ]
  },
  {
   "cell_type": "code",
   "execution_count": 55,
   "metadata": {},
   "outputs": [
    {
     "data": {
      "text/plain": [
       "(0, 3)"
      ]
     },
     "execution_count": 55,
     "metadata": {},
     "output_type": "execute_result"
    },
    {
     "data": {
      "image/png": "[encoded data removed]",
      "text/plain": [
       "<Figure size 432x288 with 1 Axes>"
      ]
     },
     "metadata": {
      "needs_background": "light"
     },
     "output_type": "display_data"
    }
   ],
   "source": [
    "plt.errorbar(data['k'], data['err'], ecolor = 'black', capsize = 5)\n",
    "plt.ylim([0, 3])"
   ]
  },
  {
   "cell_type": "code",
   "execution_count": null,
   "metadata": {},
   "outputs": [],
   "source": []
  },
  {
   "cell_type": "code",
   "execution_count": 32,
   "metadata": {},
   "outputs": [],
   "source": [
    "times = np.zeros(10)\n",
    "for i in np.arange(10):\n",
    "    times[i] = (timeit.timeit('5*10', number=10))"
   ]
  },
  {
   "cell_type": "code",
   "execution_count": 33,
   "metadata": {},
   "outputs": [
    {
     "data": {
      "text/plain": [
       "array([5.00003807e-07, 4.00003046e-07, 3.00002284e-07, 3.00002284e-07,\n",
       "       2.99987732e-07, 3.00002284e-07, 3.00002284e-07, 3.00002284e-07,\n",
       "       3.00002284e-07, 2.00001523e-07])"
      ]
     },
     "execution_count": 33,
     "metadata": {},
     "output_type": "execute_result"
    }
   ],
   "source": [
    "times"
   ]
  }
 ],
 "metadata": {
  "kernelspec": {
   "display_name": "Python 3",
   "language": "python",
   "name": "python3"
  },
  "language_info": {
   "codemirror_mode": {
    "name": "ipython",
    "version": 3
   },
   "file_extension": ".py",
   "mimetype": "text/x-python",
   "name": "python",
   "nbconvert_exporter": "python",
   "pygments_lexer": "ipython3",
   "version": "3.7.6"
  }
 },
 "nbformat": 4,
 "nbformat_minor": 4
}
