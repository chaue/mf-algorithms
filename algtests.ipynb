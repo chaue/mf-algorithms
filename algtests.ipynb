{
 "cells": [
  {
   "cell_type": "code",
   "execution_count": 2,
   "metadata": {},
   "outputs": [],
   "source": [
    "import numpy as np\n",
    "import multiprocessing as mp\n",
    "import glob\n",
    "import re\n",
    "import matplotlib.pyplot as plt\n",
    "from functions import weightsample, als, rk, brk, alstest, rktest, brktest, alswrite, rkwrite, brkwrite, listener, alsmp, rkmp, brkmp, read, extracterr"
   ]
  },
  {
   "cell_type": "markdown",
   "metadata": {},
   "source": [
    "# Speed Comparisons"
   ]
  },
  {
   "cell_type": "markdown",
   "metadata": {},
   "source": [
    "## RK vs BRK"
   ]
  },
  {
   "cell_type": "code",
   "execution_count": 3,
   "metadata": {},
   "outputs": [
    {
     "name": "stdout",
     "output_type": "stream",
     "text": [
      "Wall time: 19 s\n"
     ]
    }
   ],
   "source": [
    "%%time\n",
    "error = rktest(b200, k = 4, niter = 100, kacziter = 1000)"
   ]
  },
  {
   "cell_type": "code",
   "execution_count": 6,
   "metadata": {},
   "outputs": [
    {
     "name": "stdout",
     "output_type": "stream",
     "text": [
      "Wall time: 16.7 s\n"
     ]
    }
   ],
   "source": [
    "%%time\n",
    "error = brktest(b200, k = 4, s = 1, niter = 100, kacziter = 1000)"
   ]
  },
  {
   "cell_type": "markdown",
   "metadata": {},
   "source": [
    "## ALS vs BRK"
   ]
  },
  {
   "cell_type": "code",
   "execution_count": 5,
   "metadata": {},
   "outputs": [
    {
     "name": "stdout",
     "output_type": "stream",
     "text": [
      "Wall time: 28.3 s\n"
     ]
    }
   ],
   "source": [
    "%%time\n",
    "error = alstest(b200, k = 4, niter = 100*1000)"
   ]
  },
  {
   "cell_type": "code",
   "execution_count": 4,
   "metadata": {},
   "outputs": [
    {
     "name": "stdout",
     "output_type": "stream",
     "text": [
      "Wall time: 33.3 s\n"
     ]
    }
   ],
   "source": [
    "%%time\n",
    "error = brktest(b200, k = 4, s = 200, niter = 100, kacziter = 1000)"
   ]
  },
  {
   "cell_type": "markdown",
   "metadata": {},
   "source": [
    "# Sparse Tests"
   ]
  },
  {
   "cell_type": "markdown",
   "metadata": {},
   "source": [
    "## 50x50 matrix"
   ]
  },
  {
   "cell_type": "code",
   "execution_count": 2,
   "metadata": {},
   "outputs": [
    {
     "data": {
      "text/plain": [
       "0.5808"
      ]
     },
     "execution_count": 2,
     "metadata": {},
     "output_type": "execute_result"
    }
   ],
   "source": [
    "sfactor50 = np.random.choice(4, size=(50,4), p=np.array([0.7, 0.1, 0.1, 0.1]))\n",
    "sweight50 = np.random.randint(0, 2, size=(4, 50))\n",
    "s50 = np.matmul(sfactor50, sweight50)\n",
    "np.count_nonzero(s50 == 0) / (s50.shape[0]*s50.shape[1])"
   ]
  },
  {
   "cell_type": "code",
   "execution_count": 7,
   "metadata": {},
   "outputs": [
    {
     "name": "stdout",
     "output_type": "stream",
     "text": [
      "[0.38420618 0.29623185 0.42163281 0.40645825 0.37964073 0.41054305\n",
      " 0.44203489 0.30687028 0.31597839 0.35182171 0.35256397 0.34254329\n",
      " 0.31229496 0.4081136  0.40742362]\n",
      "Wall time: 821 ms\n"
     ]
    }
   ],
   "source": [
    "%%time\n",
    "fname = \"Errors/salserr50.txt\"\n",
    "alsmp(s50, k = 4, niter = 100, filename = fname, loop = 15)\n",
    "salserr50 = np.asarray(read(fname)[:-1]).astype(float)\n",
    "print(salserr50)"
   ]
  },
  {
   "cell_type": "code",
   "execution_count": 8,
   "metadata": {},
   "outputs": [
    {
     "name": "stdout",
     "output_type": "stream",
     "text": [
      "[1.18390955 0.98944136 1.05139001 1.12116848 1.13755777 1.10441665\n",
      " 0.97488825 1.1612159  0.88377034 1.14643438 0.98412324 1.11999015\n",
      " 1.11724917 1.24702333 0.98698378]\n",
      "Wall time: 1min 14s\n"
     ]
    }
   ],
   "source": [
    "%%time\n",
    "fname = \"Errors/srkerr50.txt\"\n",
    "rkmp(s50, k = 4, niter = 100, kacziter = 1000, filename = fname, loop = 15)\n",
    "srkerr50 = np.asarray(read(fname)[:-1]).astype(float)\n",
    "print(srkerr50)"
   ]
  },
  {
   "cell_type": "markdown",
   "metadata": {},
   "source": [
    "## 200x200 matrix"
   ]
  },
  {
   "cell_type": "code",
   "execution_count": 4,
   "metadata": {},
   "outputs": [
    {
     "data": {
      "text/plain": [
       "0.537825"
      ]
     },
     "execution_count": 4,
     "metadata": {},
     "output_type": "execute_result"
    }
   ],
   "source": [
    "sfactor200 = np.random.choice(4, size=(200,4), p=np.array([0.7, 0.1, 0.1, 0.1]))\n",
    "sweight200 = np.random.randint(0, 2, size=(4, 200))\n",
    "s200 = np.matmul(sfactor200, sweight200)\n",
    "np.count_nonzero(s200 == 0) / (s200.shape[0]*s200.shape[1])"
   ]
  },
  {
   "cell_type": "code",
   "execution_count": 6,
   "metadata": {},
   "outputs": [
    {
     "name": "stdout",
     "output_type": "stream",
     "text": [
      "[0.69800074 0.73315758 0.71624703 0.69565913 0.73224554 0.68052433\n",
      " 0.70920118 0.71996476 0.72743624 0.74639007 0.73475631 0.71144318\n",
      " 0.74228782 0.68695157 0.71392328]\n",
      "Wall time: 1.21 s\n"
     ]
    }
   ],
   "source": [
    "%%time\n",
    "fname = \"Errors/salserr200.txt\"\n",
    "alsmp(s200, k = 4, niter = 100, filename = fname, loop = 15)\n",
    "salserr200 = np.asarray(read(fname)[:-1]).astype(float)\n",
    "print(salserr200)"
   ]
  },
  {
   "cell_type": "code",
   "execution_count": 4,
   "metadata": {},
   "outputs": [
    {
     "name": "stdout",
     "output_type": "stream",
     "text": [
      "[1.07046558 0.96626291 0.98479957 0.98807484 0.98778605 1.04139922\n",
      " 0.96825765 0.94717635 1.04365655 1.10103661 0.9967595  1.03074732\n",
      " 1.06907494 0.9923334  0.93555844]\n",
      "Wall time: 1min 42s\n"
     ]
    }
   ],
   "source": [
    "%%time\n",
    "fname = \"Errors/srkerr200.txt\"\n",
    "rkmp(s200, k = 4, niter = 100, kacziter = 1000, filename = fname, loop = 15)\n",
    "srkerr200 = np.asarray(read(fname)[:-1]).astype(float)\n",
    "print(srkerr200)"
   ]
  },
  {
   "cell_type": "markdown",
   "metadata": {},
   "source": [
    "## 1000x1000 matrix"
   ]
  },
  {
   "cell_type": "code",
   "execution_count": 2,
   "metadata": {},
   "outputs": [
    {
     "data": {
      "text/plain": [
       "0.5227"
      ]
     },
     "execution_count": 2,
     "metadata": {},
     "output_type": "execute_result"
    }
   ],
   "source": [
    "sfactor1k = np.random.choice(4, size=(1000,4), p=np.array([0.7, 0.1, 0.1, 0.1]))\n",
    "sweight1k = np.random.randint(0, 2, size=(4, 1000))\n",
    "s1k = np.matmul(sfactor1k, sweight1k)\n",
    "np.count_nonzero(s1k == 0) / (s1k.shape[0]*s1k.shape[1])"
   ]
  },
  {
   "cell_type": "code",
   "execution_count": 3,
   "metadata": {},
   "outputs": [
    {
     "name": "stdout",
     "output_type": "stream",
     "text": [
      "[0.80573552 0.80216327 0.80657376 0.81001677 0.80149177 0.79916573\n",
      " 0.80612909 0.80201629 0.80344161 0.8027064  0.80175479 0.81126418\n",
      " 0.80535349 0.80105497 0.81371224]\n",
      "Wall time: 10.6 s\n"
     ]
    }
   ],
   "source": [
    "%%time\n",
    "fname = \"Errors/salserr1k.txt\"\n",
    "alsmp(s1k, k = 4, niter = 100, filename = fname, loop = 15)\n",
    "salserr1k = np.asarray(read(fname)[:-1]).astype(float)\n",
    "print(salserr1k)"
   ]
  },
  {
   "cell_type": "code",
   "execution_count": 7,
   "metadata": {},
   "outputs": [
    {
     "name": "stdout",
     "output_type": "stream",
     "text": [
      "[0.86994533 0.89335083 0.89514653 0.86829225 0.87297784 0.88015126\n",
      " 0.85873812 0.85388062 0.87639941 0.8800276  0.85929324 0.88330288\n",
      " 0.89778083 0.88504959 0.86998381]\n",
      "Wall time: 5min 32s\n"
     ]
    }
   ],
   "source": [
    "%%time\n",
    "fname = \"Errors/srkerr1k.txt\"\n",
    "rkmp(s1k, k = 4, niter = 100, kacziter = 1000, filename = fname, loop = 15)\n",
    "srkerr1k = np.asarray(read(fname)[:-1]).astype(float)\n",
    "print(srkerr1k)"
   ]
  },
  {
   "cell_type": "markdown",
   "metadata": {},
   "source": [
    "## 10,000x10,000 matrix"
   ]
  },
  {
   "cell_type": "code",
   "execution_count": 2,
   "metadata": {},
   "outputs": [
    {
     "data": {
      "text/plain": [
       "0.52061855"
      ]
     },
     "execution_count": 2,
     "metadata": {},
     "output_type": "execute_result"
    }
   ],
   "source": [
    "sfactor10k = np.random.choice(4, size=(10000,4), p=np.array([0.7, 0.1, 0.1, 0.1]))\n",
    "sweight10k = np.random.randint(0, 2, size=(4, 10000))\n",
    "s10k = np.matmul(sfactor10k, sweight10k)\n",
    "np.count_nonzero(s10k == 0) / (s10k.shape[0]*s10k.shape[1])"
   ]
  },
  {
   "cell_type": "code",
   "execution_count": 5,
   "metadata": {},
   "outputs": [
    {
     "name": "stdout",
     "output_type": "stream",
     "text": [
      "[0.82840739 0.82504429 0.82773252 0.82928556 0.82763171 0.8285348\n",
      " 0.82737003 0.82887042 0.82889542 0.82897594 0.82679751 0.82827703\n",
      " 0.82912263 0.82773023 0.82671306]\n",
      "Wall time: 15min 20s\n"
     ]
    }
   ],
   "source": [
    "%%time\n",
    "fname = \"Errors/salserr10k.txt\"\n",
    "alsmp(s10k, k = 4, niter = 100, filename = fname, loop = 15, cores = 4)\n",
    "salserr10k = np.asarray(read(fname)[:-1]).astype(float)\n",
    "print(salserr10k)"
   ]
  },
  {
   "cell_type": "code",
   "execution_count": 3,
   "metadata": {},
   "outputs": [
    {
     "name": "stdout",
     "output_type": "stream",
     "text": [
      "[0.83244402 0.83470777 0.83289428 0.83317762 0.83294385 0.83295922\n",
      " 0.83548145 0.8348696  0.8370164  0.83495175 0.83510294 0.83435118\n",
      " 0.83360504 0.8334269  0.83836676]\n",
      "Wall time: 59min 1s\n"
     ]
    }
   ],
   "source": [
    "%%time\n",
    "fname = \"Errors/srkerr1k.txt\"\n",
    "rkmp(s10k, k = 4, niter = 100, kacziter = 1000, filename = fname, loop = 15, cores = 4)\n",
    "srkerr10k = np.asarray(read(fname)[:-1]).astype(float)\n",
    "print(srkerr10k)"
   ]
  },
  {
   "cell_type": "markdown",
   "metadata": {},
   "source": [
    "## Error Plots"
   ]
  },
  {
   "cell_type": "code",
   "execution_count": 2,
   "metadata": {},
   "outputs": [],
   "source": [
    "datapath = 'Errors/*.txt'\n",
    "datafiles = list(glob.glob(datapath))"
   ]
  },
  {
   "cell_type": "code",
   "execution_count": 3,
   "metadata": {},
   "outputs": [],
   "source": [
    "title, err, std = extracterr(\"sals\", datafiles)"
   ]
  },
  {
   "cell_type": "code",
   "execution_count": 4,
   "metadata": {},
   "outputs": [
    {
     "data": {
      "image/png": "[encoded data removed]",
      "text/plain": [
       "<Figure size 720x288 with 1 Axes>"
      ]
     },
     "metadata": {
      "needs_background": "light"
     },
     "output_type": "display_data"
    }
   ],
   "source": [
    "objects = title\n",
    "y_pos = np.arange(len(objects))\n",
    "performance = err\n",
    "plt.figure(figsize=(10,4))\n",
    "plt.bar(y_pos, performance, yerr=std, \n",
    "        ecolor='black', capsize=10)\n",
    "plt.xticks(y_pos, objects)\n",
    "plt.ylim([0, 1.5]) \n",
    "plt.show()"
   ]
  },
  {
   "cell_type": "markdown",
   "metadata": {},
   "source": [
    "# Dense Tests"
   ]
  },
  {
   "cell_type": "markdown",
   "metadata": {},
   "source": [
    "## 50x50 matrix"
   ]
  },
  {
   "cell_type": "code",
   "execution_count": 5,
   "metadata": {},
   "outputs": [
    {
     "data": {
      "text/plain": [
       "0.5364"
      ]
     },
     "execution_count": 5,
     "metadata": {},
     "output_type": "execute_result"
    }
   ],
   "source": [
    "dfactor50 = np.random.choice(4, size=(50,4), p=np.array([0.7, 0.1, 0.1, 0.1]))\n",
    "dweight50 = np.random.randint(0, 2, size=(4, 50))\n",
    "d50 = np.matmul(dfactor50, dweight50)\n",
    "np.count_nonzero(d50 == 0) / (d50.shape[0]*d50.shape[1])"
   ]
  },
  {
   "cell_type": "code",
   "execution_count": 6,
   "metadata": {},
   "outputs": [
    {
     "name": "stdout",
     "output_type": "stream",
     "text": [
      "[0.43371888 0.37504556 0.4476757  0.25585386 0.38419529 0.26802343\n",
      " 0.32854191 0.4541685  0.37170317 0.27079105 0.32981316 0.33864429\n",
      " 0.35125232 0.31467782 0.32253532]\n",
      "Wall time: 1.73 s\n"
     ]
    }
   ],
   "source": [
    "%%time\n",
    "fname = \"Errors/dalserr50.txt\"\n",
    "alsmp(d50, k = 4, niter = 100, filename = fname, loop = 15)\n",
    "dalserr50 = np.asarray(read(fname)[:-1]).astype(float)\n",
    "print(dalserr50)"
   ]
  },
  {
   "cell_type": "code",
   "execution_count": 7,
   "metadata": {},
   "outputs": [
    {
     "name": "stdout",
     "output_type": "stream",
     "text": [
      "[0.82063677 0.9265537  0.94625839 0.93323904 1.13555342 0.96528852\n",
      " 0.93338154 0.9885525  0.98971829 1.01658153 0.89295443 0.93343437\n",
      " 0.84803218 1.20651647 1.00107148]\n",
      "Wall time: 1min 11s\n"
     ]
    }
   ],
   "source": [
    "%%time\n",
    "fname = \"Errors/drkerr50.txt\"\n",
    "rkmp(d50, k = 4, niter = 100, kacziter = 1000, filename = fname, loop = 15)\n",
    "drkerr50 = np.asarray(read(fname)[:-1]).astype(float)\n",
    "print(drkerr50)"
   ]
  },
  {
   "cell_type": "markdown",
   "metadata": {},
   "source": [
    "## 200x200 matrix"
   ]
  },
  {
   "cell_type": "code",
   "execution_count": 8,
   "metadata": {},
   "outputs": [
    {
     "data": {
      "text/plain": [
       "0.509125"
      ]
     },
     "execution_count": 8,
     "metadata": {},
     "output_type": "execute_result"
    }
   ],
   "source": [
    "dfactor200 = np.random.choice(4, size=(200,4), p=np.array([0.7, 0.1, 0.1, 0.1]))\n",
    "dweight200 = np.random.randint(0, 2, size=(4, 200))\n",
    "d200 = np.matmul(dfactor200, dweight200)\n",
    "np.count_nonzero(d200 == 0) / (d200.shape[0]*d200.shape[1])"
   ]
  },
  {
   "cell_type": "code",
   "execution_count": 9,
   "metadata": {},
   "outputs": [
    {
     "name": "stdout",
     "output_type": "stream",
     "text": [
      "[0.71115283 0.67016919 0.69945936 0.70162428 0.71926671 0.71245664\n",
      " 0.71715277 0.70377826 0.70599016 0.70705302 0.70836051 0.69214348\n",
      " 0.71275215 0.71835256 0.67173452]\n",
      "Wall time: 1.22 s\n"
     ]
    }
   ],
   "source": [
    "%%time\n",
    "fname = \"Errors/dalserr200.txt\"\n",
    "alsmp(d200, k = 4, niter = 100, filename = fname, loop = 15)\n",
    "dalserr200 = np.asarray(read(fname)[:-1]).astype(float)\n",
    "print(dalserr200)"
   ]
  },
  {
   "cell_type": "code",
   "execution_count": 10,
   "metadata": {},
   "outputs": [
    {
     "name": "stdout",
     "output_type": "stream",
     "text": [
      "[1.01963463 0.97079728 1.03464515 0.95089754 0.95455478 1.00505888\n",
      " 0.92972789 0.951526   1.01876916 0.96120489 0.96973967 0.98574261\n",
      " 0.97856256 0.98248655 0.95849656]\n",
      "Wall time: 1min 42s\n"
     ]
    }
   ],
   "source": [
    "%%time\n",
    "fname = \"Errors/drkerr200.txt\"\n",
    "rkmp(d200, k = 4, niter = 100, kacziter = 1000, filename = fname, loop = 15)\n",
    "drkerr200 = np.asarray(read(fname)[:-1]).astype(float)\n",
    "print(drkerr200)"
   ]
  },
  {
   "cell_type": "markdown",
   "metadata": {},
   "source": [
    "## 1000x1000 matrix"
   ]
  },
  {
   "cell_type": "code",
   "execution_count": 11,
   "metadata": {},
   "outputs": [
    {
     "data": {
      "text/plain": [
       "0.527848"
      ]
     },
     "execution_count": 11,
     "metadata": {},
     "output_type": "execute_result"
    }
   ],
   "source": [
    "dfactor1k = np.random.choice(4, size=(1000,4), p=np.array([0.7, 0.1, 0.1, 0.1]))\n",
    "dweight1k = np.random.randint(0, 2, size=(4, 1000))\n",
    "d1k = np.matmul(dfactor1k, dweight1k)\n",
    "np.count_nonzero(d1k == 0) / (d1k.shape[0]*d1k.shape[1])"
   ]
  },
  {
   "cell_type": "code",
   "execution_count": 12,
   "metadata": {},
   "outputs": [
    {
     "name": "stdout",
     "output_type": "stream",
     "text": [
      "[0.80175321 0.8093114  0.80925409 0.81665466 0.81168322 0.80925443\n",
      " 0.81157313 0.80596311 0.81263762 0.80673858 0.80446207 0.80468717\n",
      " 0.81520691 0.81214437 0.80760215]\n",
      "Wall time: 10.6 s\n"
     ]
    }
   ],
   "source": [
    "%%time\n",
    "fname = \"Errors/dalserr1k.txt\"\n",
    "alsmp(d1k, k = 4, niter = 100, filename = fname, loop = 15)\n",
    "dalserr1k = np.asarray(read(fname)[:-1]).astype(float)\n",
    "print(dalserr1k)"
   ]
  },
  {
   "cell_type": "code",
   "execution_count": 13,
   "metadata": {},
   "outputs": [
    {
     "name": "stdout",
     "output_type": "stream",
     "text": [
      "[0.88270027 0.90038003 0.8839765  0.87921343 0.90591946 0.88834747\n",
      " 0.88359043 0.87638335 0.86235977 0.87447296 0.88892988 0.87761509\n",
      " 0.8928802  0.8655829  0.87650785]\n",
      "Wall time: 4min 28s\n"
     ]
    }
   ],
   "source": [
    "%%time\n",
    "fname = \"Errors/drkerr1k.txt\"\n",
    "rkmp(d1k, k = 4, niter = 100, kacziter = 1000, filename = fname, loop = 15)\n",
    "drkerr1k = np.asarray(read(fname)[:-1]).astype(float)\n",
    "print(drkerr1k)"
   ]
  },
  {
   "cell_type": "markdown",
   "metadata": {},
   "source": [
    "## 10,000x10,000 matrix"
   ]
  },
  {
   "cell_type": "code",
   "execution_count": 3,
   "metadata": {},
   "outputs": [
    {
     "data": {
      "text/plain": [
       "0.52176539"
      ]
     },
     "execution_count": 3,
     "metadata": {},
     "output_type": "execute_result"
    }
   ],
   "source": [
    "dfactor10k = np.random.choice(4, size=(10000,4), p=np.array([0.7, 0.1, 0.1, 0.1]))\n",
    "dweight10k = np.random.randint(0, 2, size=(4, 10000))\n",
    "d10k = np.matmul(dfactor10k, dweight10k)\n",
    "np.count_nonzero(d10k == 0) / (d10k.shape[0]*d10k.shape[1])"
   ]
  },
  {
   "cell_type": "code",
   "execution_count": 4,
   "metadata": {},
   "outputs": [
    {
     "name": "stdout",
     "output_type": "stream",
     "text": [
      "[0.82758483 0.82759903 0.82615887 0.82560387 0.82811139 0.82593277\n",
      " 0.82680554 0.82897845 0.82587531 0.82538244 0.82798453 0.82888699\n",
      " 0.82907092 0.82791305 0.8254652 ]\n",
      "Wall time: 15min 8s\n"
     ]
    }
   ],
   "source": [
    "%%time\n",
    "fname = \"Errors/dalserr10k.txt\"\n",
    "alsmp(d10k, k = 4, niter = 100, filename = fname, loop = 15, cores = 4)\n",
    "dalserr10k = np.asarray(read(fname)[:-1]).astype(float)\n",
    "print(dalserr10k)"
   ]
  },
  {
   "cell_type": "code",
   "execution_count": 16,
   "metadata": {},
   "outputs": [
    {
     "name": "stdout",
     "output_type": "stream",
     "text": [
      "[0.83362111 0.83669867 0.83653116 0.83365747 0.83397088 0.83552995\n",
      " 0.83287161 0.83707044 0.83829668 0.834655   0.83698502 0.83588861\n",
      " 0.83437458 0.83500614 0.83690027]\n",
      "Wall time: 57min 36s\n"
     ]
    }
   ],
   "source": [
    "%%time\n",
    "fname = \"Errors/drkerr1k.txt\"\n",
    "rkmp(d10k, k = 4, niter = 100, kacziter = 1000, filename = fname, loop = 15, cores = 4)\n",
    "drkerr10k = np.asarray(read(fname)[:-1]).astype(float)\n",
    "print(drkerr10k)"
   ]
  },
  {
   "cell_type": "markdown",
   "metadata": {},
   "source": [
    "# BRK Sampling Tests"
   ]
  },
  {
   "cell_type": "code",
   "execution_count": 3,
   "metadata": {},
   "outputs": [
    {
     "data": {
      "text/plain": [
       "0.5279"
      ]
     },
     "execution_count": 3,
     "metadata": {},
     "output_type": "execute_result"
    }
   ],
   "source": [
    "bfactor200 = np.random.choice(4, size=(200,4), p=np.array([0.7, 0.1, 0.1, 0.1]))\n",
    "bweight200 = np.random.randint(0, 2, size=(4, 200))\n",
    "b200 = np.matmul(bfactor200, bweight200)\n",
    "np.count_nonzero(b200 == 0) / (b200.shape[0]*b200.shape[1])"
   ]
  },
  {
   "cell_type": "code",
   "execution_count": null,
   "metadata": {},
   "outputs": [],
   "source": [
    "%%time\n",
    "i = 2\n",
    "while(i <= 100):\n",
    "    fname = \"Errors/BRK/sbrk\" + str(i) + \"err200.txt\"\n",
    "    brkmp(b200, k = 4, s = i, niter = 100, kacziter = 1000, filename = fname, loop = 15)\n",
    "    i = i + 2"
   ]
  },
  {
   "cell_type": "code",
   "execution_count": null,
   "metadata": {},
   "outputs": [],
   "source": [
    "%%time\n",
    "s = 1\n",
    "fname = \"Errors/BRK/sbrk\" + str(s) + \"err200.txt\"\n",
    "brkmp(b200, k = 4, s = s, niter = 100, kacziter = 1000, filename = fname, loop = 15)\n",
    "brk1err200 = np.asarray(read(fname)[:-1]).astype(float)\n",
    "print(brk1err200)"
   ]
  }
 ],
 "metadata": {
  "kernelspec": {
   "display_name": "Python 3",
   "language": "python",
   "name": "python3"
  },
  "language_info": {
   "codemirror_mode": {
    "name": "ipython",
    "version": 3
   },
   "file_extension": ".py",
   "mimetype": "text/x-python",
   "name": "python",
   "nbconvert_exporter": "python",
   "pygments_lexer": "ipython3",
   "version": "3.7.6"
  }
 },
 "nbformat": 4,
 "nbformat_minor": 4
}
